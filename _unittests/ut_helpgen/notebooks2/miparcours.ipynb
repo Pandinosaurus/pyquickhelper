{
 "metadata": {
  "name": "",
  "signature": "sha256:d82eb8241d686d21ec2dade4b8e89707c0daa0316ff4277a59d2afb61cfa19d5"
 },
 "nbformat": 3,
 "nbformat_minor": 0,
 "worksheets": [
  {
   "cells": [
    {
     "cell_type": "code",
     "collapsed": false,
     "input": [
      "def get_code(mail):\n",
      "    import hashlib\n",
      "    m = hashlib.md5()\n",
      "    m.update(mail)\n",
      "    b = m.digest()\n",
      "    return int(b[0])\n",
      "code = get_code(\"xxxxx@xxxxx\".encode('utf-8'))\n",
      "print(\"url = enonce_%d.txt\" % code)\n"
     ],
     "language": "python",
     "metadata": {},
     "outputs": [
      {
       "output_type": "stream",
       "stream": "stdout",
       "text": [
        "url = enonce_76.txt\n"
       ]
      }
     ],
     "prompt_number": 5
    },
    {
     "cell_type": "code",
     "collapsed": false,
     "input": [
      "for j in range (0, 2):\n",
      "    for i in range(0, 3):\n",
      "        s = \" \" * abs(2-i) + \"***\" + \" \" * abs(3+i) + \"H\"  \n",
      "        print(s)\n",
      "    for i in range(0, 3):\n",
      "        t = \" \" * abs(1+(-1)**(i+1)) + \"***\"\n",
      "        if i!=1:\n",
      "            t += \" \" * abs(5) + \"H\"\n",
      "        else:\n",
      "            t += \" H H\"\n",
      "        print(t)"
     ],
     "language": "python",
     "metadata": {},
     "outputs": [
      {
       "output_type": "stream",
       "stream": "stdout",
       "text": [
        "  ***   H\n",
        " ***    H\n",
        "***     H\n",
        "***     H\n",
        "  *** H H\n",
        "***     H\n",
        "  ***   H\n",
        " ***    H\n",
        "***     H\n",
        "***     H\n",
        "  *** H H\n",
        "***     H\n"
       ]
      }
     ],
     "prompt_number": 61
    },
    {
     "cell_type": "code",
     "collapsed": false,
     "input": [],
     "language": "python",
     "metadata": {},
     "outputs": [],
     "prompt_number": 37
    },
    {
     "cell_type": "code",
     "collapsed": false,
     "input": [],
     "language": "python",
     "metadata": {},
     "outputs": []
    }
   ],
   "metadata": {}
  }
 ]
}