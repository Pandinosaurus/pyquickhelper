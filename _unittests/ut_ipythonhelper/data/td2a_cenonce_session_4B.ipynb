{
 "metadata": {
  "name": "",
  "signature": "sha256:2a9e190bda66a8fdeb01ad19156d9a199e46a8e03bcb4fc5837ec3b397504a43"
 },
 "nbformat": 3,
 "nbformat_minor": 0,
 "worksheets": [
  {
   "cells": [
    {
     "cell_type": "heading",
     "level": 1,
     "metadata": {},
     "source": [
      "TD 4B : Code Jam"
     ]
    },
    {
     "cell_type": "markdown",
     "metadata": {},
     "source": [
      "Le probl\u00e8me est tir\u00e9 de [Google Jam 2008, round 1A](https://code.google.com/codejam/contest/32016/dashboard#s=p0).\n",
      "\n",
      "On consid\u00e8re deux tableaux $v=(v_1,..., v_n)$ et $w=(w_1,...,w_n)$. On souhaite le minimum : $$\\min_{\\sigma,\\sigma'} \\sum_{i=1}^{n} v_{\\sigma(i)} w_{\\sigma'(i)}$$ o\u00f9 $\\sigma,\\sigma'$ sont deux permutations de l'ensemble $[[1,...,n]]$.\n",
      "\n",
      "**Plan**\n",
      "\n",
      "* [Solution na\u00efve](#naive)\n",
      "* [Solution moins na\u00efve](#sort)\n",
      "* [Probl\u00e8me de recouvrement](#recouv)\n",
      "* [D\u00e9coupage intelligent d'une base de donn\u00e9es](#decoup)"
     ]
    },
    {
     "cell_type": "markdown",
     "metadata": {},
     "source": [
      "<h3 id=\"naive\">Solution na\u00efve</h3>"
     ]
    },
    {
     "cell_type": "code",
     "collapsed": false,
     "input": [],
     "language": "python",
     "metadata": {},
     "outputs": [],
     "prompt_number": 0
    },
    {
     "cell_type": "markdown",
     "metadata": {},
     "source": [
      "<h3 id=\"sort\">Solution moins na\u00efve</h3>"
     ]
    },
    {
     "cell_type": "code",
     "collapsed": false,
     "input": [],
     "language": "python",
     "metadata": {},
     "outputs": []
    },
    {
     "cell_type": "markdown",
     "metadata": {},
     "source": [
      "<h3 id=\"recouv\">Probl\u00e8me de recouvrement</h3>"
     ]
    },
    {
     "cell_type": "code",
     "collapsed": false,
     "input": [],
     "language": "python",
     "metadata": {},
     "outputs": []
    },
    {
     "cell_type": "markdown",
     "metadata": {},
     "source": [
      "<h3 id=\"decoup\">D\u00e9coupage intelligent d'une base de donn\u00e9es</h3>\n",
      "\n",
      "On dispose d'une base de donn\u00e9es \u00e0 $N$ observations et $K$ variables $(X^1,...,X^K)$. On calcule la moyenne de chaque variable $\\bar{X_k} =\\frac{1}{N}\\sum_{i=1}^N X^k_i$ sur l'ensemble de la base.\n",
      "\n",
      "On souhaite maintenant diviser la base en deux bases apprentissage de taille \u00e9gale, test sous intersection. On mesure \u00e9galement la moyenne de chaque variable sur chacun des deux bases : $\\bar{X^k}_a$ et $\\bar{X^k}_t$. On souhaite effectuer un d\u00e9coupage de telle sorte que l'indicateur suivant soit minimum : \n",
      "\n",
      "$$ E = \\sum_{k=1}^K \\left( \\bar{X^k_a}  - \\bar{X^k_t} \\right)^2 $$\n",
      "\n",
      "Imaginer un algorithme qui effectue un tel d\u00e9coupage. V\u00e9rifie-t-on que si $\\bar{X^k_a}, \\bar{X^k_t} \\rightarrow \\bar{X^k}$ ?"
     ]
    },
    {
     "cell_type": "code",
     "collapsed": false,
     "input": [],
     "language": "python",
     "metadata": {},
     "outputs": [],
     "prompt_number": 0
    }
   ],
   "metadata": {}
  }
 ]
}