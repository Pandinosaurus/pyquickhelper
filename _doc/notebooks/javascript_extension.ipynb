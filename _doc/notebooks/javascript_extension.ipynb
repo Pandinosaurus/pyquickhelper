{
  "cells": [
    {
      "cell_type": "markdown",
      "metadata": {},
      "source": [
        "# Javascript extension for a notebook\n",
        "\n",
        "Play with Javascript extensions."
      ]
    },
    {
      "cell_type": "code",
      "execution_count": 1,
      "metadata": {
        "run_control": {
          "marked": false
        }
      },
      "outputs": [],
      "source": [
        "from pyquickhelper.ipythonhelper import install_notebook_extension, get_installed_notebook_extension"
      ]
    },
    {
      "cell_type": "markdown",
      "metadata": {},
      "source": [
        "We install extensions in case it was not done before:"
      ]
    },
    {
      "cell_type": "code",
      "execution_count": 2,
      "metadata": {
        "code_folding": [],
        "run_control": {
          "marked": false
        }
      },
      "outputs": [
        {
          "data": {
            "text/plain": [
              "''"
            ]
          },
          "execution_count": 3,
          "metadata": {},
          "output_type": "execute_result"
        }
      ],
      "source": [
        "install_notebook_extension()"
      ]
    },
    {
      "cell_type": "markdown",
      "metadata": {},
      "source": [
        "We check the list of installed extensions (from [IPython-notebook-extensions](https://github.com/ipython-contrib/IPython-notebook-extensions/wiki)):"
      ]
    },
    {
      "cell_type": "code",
      "execution_count": 3,
      "metadata": {},
      "outputs": [
        {
          "data": {
            "text/plain": [
              "'C:\\\\ProgramData\\\\jupyter\\\\nbextensions'"
            ]
          },
          "execution_count": 4,
          "metadata": {},
          "output_type": "execute_result"
        }
      ],
      "source": [
        "from pyquickhelper.ipythonhelper.notebook_helper import get_jupyter_extension_dir\n",
        "path = get_jupyter_extension_dir()\n",
        "path"
      ]
    },
    {
      "cell_type": "code",
      "execution_count": 4,
      "metadata": {},
      "outputs": [
        {
          "data": {
            "text/plain": [
              "['jupyter_contrib_nbextensions-master/src/jupyter_contrib_nbextensions/nbextensions/addbefore/main',\n",
              " 'jupyter_contrib_nbextensions-master/src/jupyter_contrib_nbextensions/nbextensions/autosavetime/main',\n",
              " 'jupyter_contrib_nbextensions-master/src/jupyter_contrib_nbextensions/nbextensions/autoscroll/main',\n",
              " 'jupyter_contrib_nbextensions-master/src/jupyter_contrib_nbextensions/nbextensions/chrome-clipboard/main',\n",
              " 'jupyter_contrib_nbextensions-master/src/jupyter_contrib_nbextensions/nbextensions/codefolding/main',\n",
              " 'jupyter_contrib_nbextensions-master/src/jupyter_contrib_nbextensions/nbextensions/codemirror_mode_extensions/main',\n",
              " 'jupyter_contrib_nbextensions-master/src/jupyter_contrib_nbextensions/nbextensions/collapsible_headings/main',\n",
              " 'jupyter_contrib_nbextensions-master/src/jupyter_contrib_nbextensions/nbextensions/comment-uncomment/main',\n",
              " 'jupyter_contrib_nbextensions-master/src/jupyter_contrib_nbextensions/nbextensions/contrib_nbextensions_help_item/main',\n",
              " 'jupyter_contrib_nbextensions-master/src/jupyter_contrib_nbextensions/nbextensions/css_selector/main',\n",
              " 'jupyter_contrib_nbextensions-master/src/jupyter_contrib_nbextensions/nbextensions/datestamper/main',\n",
              " 'jupyter_contrib_nbextensions-master/src/jupyter_contrib_nbextensions/nbextensions/dragdrop/main',\n",
              " 'jupyter_contrib_nbextensions-master/src/jupyter_contrib_nbextensions/nbextensions/equation-numbering/main',\n",
              " 'jupyter_contrib_nbextensions-master/src/jupyter_contrib_nbextensions/nbextensions/exercise/main',\n",
              " 'jupyter_contrib_nbextensions-master/src/jupyter_contrib_nbextensions/nbextensions/exercise2/main',\n",
              " 'jupyter_contrib_nbextensions-master/src/jupyter_contrib_nbextensions/nbextensions/export_embedded/main',\n",
              " 'jupyter_contrib_nbextensions-master/src/jupyter_contrib_nbextensions/nbextensions/freeze/main',\n",
              " 'jupyter_contrib_nbextensions-master/src/jupyter_contrib_nbextensions/nbextensions/gist_it/main',\n",
              " 'jupyter_contrib_nbextensions-master/src/jupyter_contrib_nbextensions/nbextensions/hide_header/main',\n",
              " 'jupyter_contrib_nbextensions-master/src/jupyter_contrib_nbextensions/nbextensions/hide_input/main',\n",
              " 'jupyter_contrib_nbextensions-master/src/jupyter_contrib_nbextensions/nbextensions/hide_input_all/main',\n",
              " 'jupyter_contrib_nbextensions-master/src/jupyter_contrib_nbextensions/nbextensions/init_cell/main',\n",
              " 'jupyter_contrib_nbextensions-master/src/jupyter_contrib_nbextensions/nbextensions/keyboard_shortcut_editor/main',\n",
              " 'jupyter_contrib_nbextensions-master/src/jupyter_contrib_nbextensions/nbextensions/limit_output/main',\n",
              " 'jupyter_contrib_nbextensions-master/src/jupyter_contrib_nbextensions/nbextensions/load_tex_macros/main',\n",
              " 'jupyter_contrib_nbextensions-master/src/jupyter_contrib_nbextensions/nbextensions/move_selected_cells/main',\n",
              " 'jupyter_contrib_nbextensions-master/src/jupyter_contrib_nbextensions/nbextensions/navigation-hotkeys/main',\n",
              " 'jupyter_contrib_nbextensions-master/src/jupyter_contrib_nbextensions/nbextensions/nbTranslate/main',\n",
              " 'jupyter_contrib_nbextensions-master/src/jupyter_contrib_nbextensions/nbextensions/printview/main',\n",
              " 'jupyter_contrib_nbextensions-master/src/jupyter_contrib_nbextensions/nbextensions/python-markdown/main',\n",
              " 'jupyter_contrib_nbextensions-master/src/jupyter_contrib_nbextensions/nbextensions/rubberband/main',\n",
              " 'jupyter_contrib_nbextensions-master/src/jupyter_contrib_nbextensions/nbextensions/ruler/main',\n",
              " 'jupyter_contrib_nbextensions-master/src/jupyter_contrib_nbextensions/nbextensions/runtools/main',\n",
              " 'jupyter_contrib_nbextensions-master/src/jupyter_contrib_nbextensions/nbextensions/scratchpad/main',\n",
              " 'jupyter_contrib_nbextensions-master/src/jupyter_contrib_nbextensions/nbextensions/scroll_down/main',\n",
              " 'jupyter_contrib_nbextensions-master/src/jupyter_contrib_nbextensions/nbextensions/search-replace/main',\n",
              " 'jupyter_contrib_nbextensions-master/src/jupyter_contrib_nbextensions/nbextensions/select_keymap/main',\n",
              " 'jupyter_contrib_nbextensions-master/src/jupyter_contrib_nbextensions/nbextensions/skill/main',\n",
              " 'jupyter_contrib_nbextensions-master/src/jupyter_contrib_nbextensions/nbextensions/skip-traceback/main',\n",
              " 'jupyter_contrib_nbextensions-master/src/jupyter_contrib_nbextensions/nbextensions/snippets/main',\n",
              " 'jupyter_contrib_nbextensions-master/src/jupyter_contrib_nbextensions/nbextensions/snippets_menu/main',\n",
              " 'jupyter_contrib_nbextensions-master/src/jupyter_contrib_nbextensions/nbextensions/spellchecker/main',\n",
              " 'jupyter_contrib_nbextensions-master/src/jupyter_contrib_nbextensions/nbextensions/table_beautifier/main',\n",
              " 'jupyter_contrib_nbextensions-master/src/jupyter_contrib_nbextensions/nbextensions/toc2/main',\n",
              " 'jupyter_contrib_nbextensions-master/src/jupyter_contrib_nbextensions/nbextensions/toggle_all_line_numbers/main',\n",
              " 'jupyter_contrib_nbextensions-master/src/jupyter_contrib_nbextensions/nbextensions/varInspector/main',\n",
              " 'jupyter_contrib_nbextensions-master/src/jupyter_contrib_nbextensions/nbextensions/zenmode/main']"
            ]
          },
          "execution_count": 5,
          "metadata": {},
          "output_type": "execute_result"
        }
      ],
      "source": [
        "get_installed_notebook_extension()"
      ]
    },
    {
      "cell_type": "code",
      "execution_count": 5,
      "metadata": {},
      "outputs": [
        {
          "data": {
            "text/plain": [
              "False"
            ]
          },
          "execution_count": 6,
          "metadata": {},
          "output_type": "execute_result"
        }
      ],
      "source": [
        "import notebook\n",
        "notebook.nbextensions.check_nbextension('autosavetime', user=True)"
      ]
    },
    {
      "cell_type": "markdown",
      "metadata": {},
      "source": [
        "And then, we load one of them:"
      ]
    },
    {
      "cell_type": "code",
      "execution_count": 6,
      "metadata": {
        "input_collapsed": false
      },
      "outputs": [
        {
          "data": {
            "application/javascript": [
              "\n",
              "require(['base/js/utils'],\n",
              "function(utils) {\n",
              "    utils.load_extensions('autosavetime/main');\n",
              "});"
            ],
            "text/plain": [
              "<IPython.core.display.Javascript object>"
            ]
          },
          "metadata": {},
          "output_type": "display_data"
        }
      ],
      "source": [
        "%%javascript\n",
        "\n",
        "require(['base/js/utils'],\n",
        "function(utils) {\n",
        "    utils.load_extensions('autosavetime/main');\n",
        "});"
      ]
    },
    {
      "cell_type": "code",
      "execution_count": 7,
      "metadata": {},
      "outputs": [
        {
          "name": "stdout",
          "output_type": "stream",
          "text": [
            "3\n"
          ]
        }
      ],
      "source": [
        "print(3)"
      ]
    },
    {
      "cell_type": "markdown",
      "metadata": {},
      "source": [
        "Does not really work as it is now."
      ]
    },
    {
      "cell_type": "code",
      "execution_count": 8,
      "metadata": {},
      "outputs": [],
      "source": []
    }
  ],
  "metadata": {
    "kernelspec": {
      "display_name": "Python 3",
      "language": "python",
      "name": "python3"
    },
    "language_info": {
      "codemirror_mode": {
        "name": "ipython",
        "version": 3
      },
      "file_extension": ".py",
      "mimetype": "text/x-python",
      "name": "python",
      "nbconvert_exporter": "python",
      "pygments_lexer": "ipython3",
      "version": "3.6.4"
    }
  },
  "nbformat": 4,
  "nbformat_minor": 1
}