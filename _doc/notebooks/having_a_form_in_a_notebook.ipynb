{
  "cells": [
    {
      "cell_type": "markdown",
      "metadata": {},
      "source": [
        "# Having a form in a notebook"
      ]
    },
    {
      "cell_type": "markdown",
      "metadata": {
        "collapsed": false
      },
      "source": [
        "* [Form](#Form)\n",
        "* [Animated output](#Animated-output)\n",
        "* [A form with IPython 3+](#A-form-with-IPython-3+)\n",
        "* [Automated menu](#Automated-menu)  (this one is fix)"
      ]
    },
    {
      "cell_type": "markdown",
      "metadata": {},
      "source": [
        "### Form"
      ]
    },
    {
      "cell_type": "markdown",
      "metadata": {},
      "source": [
        "This following trick is inspired from [IPython Notebook: Javascript/Python Bi-directional Communication](https://jakevdp.github.io/blog/2013/06/01/ipython-notebook-javascript-python-communication/). The code is copy pasted below with some modifications."
      ]
    },
    {
      "cell_type": "code",
      "execution_count": null,
      "metadata": {
        "collapsed": false
      },
      "outputs": [
        {
          "data": {
            "application/javascript": [
              "\n",
              "function set_value(){\n",
              "    var var_name = document.getElementById('var_name').value;\n",
              "    var var_value = document.getElementById('var_value').value;\n",
              "    var command = var_name + \" = '\" + var_value + \"'\";\n",
              "    console.log(\"Executing Command: \" + command);\n",
              "\n",
              "    var kernel = IPython.notebook.kernel;\n",
              "    kernel.execute(command);\n",
              "}\n"
            ]
          },
          "metadata": {},
          "output_type": "display_data"
        },
        {
          "data": {
            "text/html": [
              "\n",
              "<div style=\"background-color:gainsboro; width:500px; padding:10px;\">\n",
              "<label>Variable Name: </label> \n",
              "<input type=\"text\" id=\"var_name\" value=\"myvar\" size=\"170\" />\n",
              "<label>Variable Value: </label>\n",
              "<input type=\"text\" id=\"var_value\" value=\"myvalue\" />\n",
              "<br />\n",
              "<button onclick=\"set_value()\">Set Value</button>\n",
              "</div>\n"
            ],
            "text/plain": [
              "<IPython.core.display.HTML object>"
            ]
          },
          "execution_count": null,
          "metadata": {},
          "output_type": "execute_result"
        }
      ],
      "source": [
        "from IPython.display import HTML, Javascript, display_html, display_javascript\n",
        "\n",
        "input_form = \"\"\"\n",
        "<div style=\"background-color:gainsboro; width:500px; padding:10px;\">\n",
        "<label>Variable Name: </label> \n",
        "<input type=\"text\" id=\"var_name\" value=\"myvar\" size=\"170\" />\n",
        "<label>Variable Value: </label>\n",
        "<input type=\"text\" id=\"var_value\" value=\"myvalue\" />\n",
        "<br />\n",
        "<button onclick=\"set_value()\">Set Value</button>\n",
        "</div>\n",
        "\"\"\"\n",
        "\n",
        "javascript = \"\"\"\n",
        "function set_value(){\n",
        "    var var_name = document.getElementById('var_name').value;\n",
        "    var var_value = document.getElementById('var_value').value;\n",
        "    var command = var_name + \" = '\" + var_value + \"'\";\n",
        "    console.log(\"Executing Command: \" + command);\n",
        "\n",
        "    var kernel = IPython.notebook.kernel;\n",
        "    kernel.execute(command);\n",
        "}\n",
        "\"\"\"\n",
        "\n",
        "display_javascript(Javascript(javascript))\n",
        "HTML(input_form)"
      ]
    },
    {
      "cell_type": "code",
      "execution_count": null,
      "metadata": {
        "collapsed": false
      },
      "outputs": [
        {
          "ename": "NameError",
          "evalue": "name 'myvar' is not defined",
          "output_type": "error",
          "traceback": [
            "\u001b[1;31m---------------------------------------------------------------------------\u001b[0m",
            "\u001b[1;31mNameError\u001b[0m                                 Traceback (most recent call last)",
            "\u001b[1;32m<ipython-input-6-09bb1d50d983>\u001b[0m in \u001b[0;36m<module>\u001b[1;34m()\u001b[0m\n\u001b[1;32m----> 1\u001b[1;33m \u001b[0mmyvar\u001b[0m\u001b[1;33m\u001b[0m\u001b[0m\n\u001b[0m",
            "\u001b[1;31mNameError\u001b[0m: name 'myvar' is not defined"
          ]
        }
      ],
      "source": [
        "myvar"
      ]
    },
    {
      "cell_type": "markdown",
      "metadata": {},
      "source": [
        "Now we try to get something like this:"
      ]
    },
    {
      "cell_type": "code",
      "execution_count": null,
      "metadata": {
        "collapsed": false
      },
      "outputs": [
        {
          "data": {
            "text/html": [
              "<div style=\"background-color:gainsboro; padding:2px; border:0px;\"><b>fill the fields</b>\n",
              "<br />module <input type=\"text\" id=\"form1module\" value=\"\" size=\"80\" />\n",
              "<br />version <input type=\"text\" id=\"form1version\" value=\"v...\" size=\"80\" />\n",
              "<br /><button onclick=\"set_valueform1()\">Ok</button></div>\n",
              "<script type=\"text/Javascript\">\n",
              "function form1callback(msg) {\n",
              "   var ret = msg.content.data['text/plain'];\n",
              "   $('#outform1').text(ret);\n",
              "}\n",
              "function set_valueform1(){\n",
              "   command='form1 = {' ;\n",
              "   var form1modulevar_value = document.getElementById('form1module').value;\n",
              "   command += '\"module\":\"' + form1modulevar_value + '\",';\n",
              "   var form1versionvar_value = document.getElementById('form1version').value;\n",
              "   command += '\"version\":\"' + form1versionvar_value + '\",';\n",
              "   command += '}';\n",
              "   var kernel = IPython.notebook.kernel;\n",
              "   kernel.execute(command);\n",
              "}\n",
              "</script>"
            ],
            "text/plain": [
              "<IPython.core.display.HTML object>"
            ]
          },
          "execution_count": null,
          "metadata": {},
          "output_type": "execute_result"
        }
      ],
      "source": [
        "from pyquickhelper.ipythonhelper import open_html_form\n",
        "params= {\"module\":\"\", \"version\":\"v...\"}\n",
        "open_html_form(params, \"fill the fields\", \"form1\")"
      ]
    },
    {
      "cell_type": "code",
      "execution_count": null,
      "metadata": {
        "collapsed": false
      },
      "outputs": [
        {
          "data": {
            "text/plain": [
              "{'module': 'fl', 'version': 'v...'}"
            ]
          },
          "execution_count": null,
          "metadata": {},
          "output_type": "execute_result"
        }
      ],
      "source": [
        "form1"
      ]
    },
    {
      "cell_type": "markdown",
      "metadata": {},
      "source": [
        "With a password:"
      ]
    },
    {
      "cell_type": "code",
      "execution_count": null,
      "metadata": {
        "collapsed": false
      },
      "outputs": [
        {
          "data": {
            "text/html": [
              "<div style=\"background-color:gainsboro; padding:2px; border:0px;\"><b>credential</b>\n",
              "<br />login <input type=\"text\" id=\"credentiallogin\" value=\"\" size=\"80\" />\n",
              "<br />password <input type=\"password\" id=\"credentialpassword\" value=\"\" size=\"80\" />\n",
              "<br /><button onclick=\"set_valuecredential()\">Ok</button></div>\n",
              "<script type=\"text/Javascript\">\n",
              "function credentialcallback(msg) {\n",
              "   var ret = msg.content.data['text/plain'];\n",
              "   $('#outcredential').text(ret);\n",
              "}\n",
              "function set_valuecredential(){\n",
              "   command='credential = {' ;\n",
              "   var credentialloginvar_value = document.getElementById('credentiallogin').value;\n",
              "   command += '\"login\":\"' + credentialloginvar_value + '\",';\n",
              "   var credentialpasswordvar_value = document.getElementById('credentialpassword').value;\n",
              "   command += '\"password\":\"' + credentialpasswordvar_value + '\",';\n",
              "   command += '}';\n",
              "   var kernel = IPython.notebook.kernel;\n",
              "   kernel.execute(command);\n",
              "}\n",
              "</script>"
            ],
            "text/plain": [
              "<IPython.core.display.HTML object>"
            ]
          },
          "execution_count": null,
          "metadata": {},
          "output_type": "execute_result"
        }
      ],
      "source": [
        "from pyquickhelper.ipythonhelper import open_html_form\n",
        "params= {\"login\":\"\", \"password\":\"\"}\n",
        "open_html_form(params, \"credential\", \"credential\")"
      ]
    },
    {
      "cell_type": "code",
      "execution_count": null,
      "metadata": {
        "collapsed": false
      },
      "outputs": [
        {
          "data": {
            "text/plain": [
              "{'login': 'log', 'password': 'rrw'}"
            ]
          },
          "execution_count": null,
          "metadata": {},
          "output_type": "execute_result"
        }
      ],
      "source": [
        "credential"
      ]
    },
    {
      "cell_type": "markdown",
      "metadata": {},
      "source": [
        "To excecute an instruction when the button *Ok* is clicked:"
      ]
    },
    {
      "cell_type": "code",
      "execution_count": null,
      "metadata": {
        "collapsed": false
      },
      "outputs": [
        {
          "data": {
            "text/html": [
              "<div style=\"background-color:gainsboro; padding:2px; border:0px;\"><b>enter your name</b>\n",
              "<br />first_name <input type=\"text\" id=\"my_addressfirst_name\" value=\"\" size=\"80\" />\n",
              "<br />last_name <input type=\"text\" id=\"my_addresslast_name\" value=\"\" size=\"80\" />\n",
              "<br /><button onclick=\"set_valuemy_address()\">Ok</button></div>\n",
              "<div id='outmyaddress'></div>\n",
              "<script type=\"text/Javascript\">\n",
              "function my_addresscallback(msg) {\n",
              "   var ret = msg.content.data['text/plain'];\n",
              "   $('#outmyaddress').text(ret);\n",
              "}\n",
              "function set_valuemy_address(){\n",
              "   command='my_address = {' ;\n",
              "   var my_addressfirst_namevar_value = document.getElementById('my_addressfirst_name').value;\n",
              "   command += '\"first_name\":\"' + my_addressfirst_namevar_value + '\",';\n",
              "   var my_addresslast_namevar_value = document.getElementById('my_addresslast_name').value;\n",
              "   command += '\"last_name\":\"' + my_addresslast_namevar_value + '\",';\n",
              "   command += '}';\n",
              "   var kernel = IPython.notebook.kernel;\n",
              "   kernel.execute(command);\n",
              "   kernel.execute('custom_action(my_address)', {iopub: {output: my_addresscallback}}, {silent: false});\n",
              "}\n",
              "</script>"
            ],
            "text/plain": [
              "<IPython.core.display.HTML object>"
            ]
          },
          "execution_count": null,
          "metadata": {},
          "output_type": "execute_result"
        }
      ],
      "source": [
        "my_address = None\n",
        "def custom_action(x):\n",
        "    x[\"combined\"] = x[\"first_name\"] + \" \" + x[\"last_name\"]\n",
        "    return str(x)\n",
        "from pyquickhelper.ipythonhelper import open_html_form\n",
        "params = { \"first_name\":\"\", \"last_name\":\"\" }\n",
        "open_html_form (params, title=\"enter your name\", key_save=\"my_address\", hook=\"custom_action(my_address)\")"
      ]
    },
    {
      "cell_type": "code",
      "execution_count": null,
      "metadata": {
        "collapsed": false
      },
      "outputs": [
        {
          "data": {
            "text/plain": [
              "{'combined': 'xavier dupr\u00e9', 'first_name': 'xavier', 'last_name': 'dupr\u00e9'}"
            ]
          },
          "execution_count": null,
          "metadata": {},
          "output_type": "execute_result"
        }
      ],
      "source": [
        "my_address"
      ]
    },
    {
      "cell_type": "markdown",
      "metadata": {},
      "source": [
        "### Animated output"
      ]
    },
    {
      "cell_type": "code",
      "execution_count": null,
      "metadata": {
        "collapsed": true
      },
      "outputs": [],
      "source": [
        "from pyquickhelper.ipythonhelper import StaticInteract, RangeWidget, RadioWidget"
      ]
    },
    {
      "cell_type": "code",
      "execution_count": null,
      "metadata": {
        "collapsed": false
      },
      "outputs": [
        {
          "data": {
            "text/html": [
              "\n",
              "    <script type=\"text/javascript\">\n",
              "      var mergeNodes = function(a, b) {\n",
              "        return [].slice.call(a).concat([].slice.call(b));\n",
              "      }; // http://stackoverflow.com/questions/914783/javascript-nodelist/17262552#17262552\n",
              "      function interactUpdate(div){\n",
              "         var outputs = div.getElementsByTagName(\"div\");\n",
              "         //var controls = div.getElementsByTagName(\"input\");\n",
              "         var controls = mergeNodes(div.getElementsByTagName(\"input\"), div.getElementsByTagName(\"select\"));\n",
              "         function nameCompare(a,b) {\n",
              "            return a.getAttribute(\"name\").localeCompare(b.getAttribute(\"name\"));\n",
              "         }\n",
              "         controls.sort(nameCompare);\n",
              "\n",
              "         var value = \"\";\n",
              "         for(i=0; i<controls.length; i++){\n",
              "           if((controls[i].type == \"range\") || controls[i].checked){\n",
              "             value = value + controls[i].getAttribute(\"name\") + controls[i].value;\n",
              "           }\n",
              "           if(controls[i].type == \"select-one\"){\n",
              "             value = value + controls[i].getAttribute(\"name\") + controls[i][controls[i].selectedIndex].value;\n",
              "           }\n",
              "         }\n",
              "\n",
              "         for(i=0; i<outputs.length; i++){\n",
              "           var name = outputs[i].getAttribute(\"name\");\n",
              "           if(name == value){\n",
              "              outputs[i].style.display = 'block';\n",
              "           } else if(name != \"controls\"){\n",
              "              outputs[i].style.display = 'none';\n",
              "           }\n",
              "         }\n",
              "      }\n",
              "    </script>\n",
              "\n",
              "    <div>\n",
              "      \n",
              "    <div name=\"N1\" style=\"display:none\">\n",
              "      <p> 0  </p>\n",
              "    </div>\n",
              "    \n",
              "    <div name=\"N2\" style=\"display:none\">\n",
              "      <p> 0 1  </p>\n",
              "    </div>\n",
              "    \n",
              "    <div name=\"N3\" style=\"display:none\">\n",
              "      <p> 0 1 1  </p>\n",
              "    </div>\n",
              "    \n",
              "    <div name=\"N4\" style=\"display:none\">\n",
              "      <p> 0 1 1 2  </p>\n",
              "    </div>\n",
              "    \n",
              "    <div name=\"N5\" style=\"display:none\">\n",
              "      <p> 0 1 1 2 3  </p>\n",
              "    </div>\n",
              "    \n",
              "    <div name=\"N6\" style=\"display:none\">\n",
              "      <p> 0 1 1 2 3 5  </p>\n",
              "    </div>\n",
              "    \n",
              "    <div name=\"N7\" style=\"display:none\">\n",
              "      <p> 0 1 1 2 3 5 8  </p>\n",
              "    </div>\n",
              "    \n",
              "    <div name=\"N8\" style=\"display:none\">\n",
              "      <p> 0 1 1 2 3 5 8 13  </p>\n",
              "    </div>\n",
              "    \n",
              "    <div name=\"N9\" style=\"display:none\">\n",
              "      <p> 0 1 1 2 3 5 8 13 21  </p>\n",
              "    </div>\n",
              "    \n",
              "    <div name=\"N10\" style=\"display:block\">\n",
              "      <p> 0 1 1 2 3 5 8 13 21 34  </p>\n",
              "    </div>\n",
              "    \n",
              "    <div name=\"N11\" style=\"display:none\">\n",
              "      <p> 0 1 1 2 3 5 8 13 21 34 55  </p>\n",
              "    </div>\n",
              "    \n",
              "    <div name=\"N12\" style=\"display:none\">\n",
              "      <p> 0 1 1 2 3 5 8 13 21 34 55 89  </p>\n",
              "    </div>\n",
              "    \n",
              "    <div name=\"N13\" style=\"display:none\">\n",
              "      <p> 0 1 1 2 3 5 8 13 21 34 55 89 144  </p>\n",
              "    </div>\n",
              "    \n",
              "    <div name=\"N14\" style=\"display:none\">\n",
              "      <p> 0 1 1 2 3 5 8 13 21 34 55 89 144 233  </p>\n",
              "    </div>\n",
              "    \n",
              "    <div name=\"N15\" style=\"display:none\">\n",
              "      <p> 0 1 1 2 3 5 8 13 21 34 55 89 144 233 377  </p>\n",
              "    </div>\n",
              "    \n",
              "    <div name=\"N16\" style=\"display:none\">\n",
              "      <p> 0 1 1 2 3 5 8 13 21 34 55 89 144 233 377 610  </p>\n",
              "    </div>\n",
              "    \n",
              "    <div name=\"N17\" style=\"display:none\">\n",
              "      <p> 0 1 1 2 3 5 8 13 21 34 55 89 144 233 377 610 987  </p>\n",
              "    </div>\n",
              "    \n",
              "    <div name=\"N18\" style=\"display:none\">\n",
              "      <p> 0 1 1 2 3 5 8 13 21 34 55 89 144 233 377 610 987 1597  </p>\n",
              "    </div>\n",
              "    \n",
              "    <div name=\"N19\" style=\"display:none\">\n",
              "      <p> 0 1 1 2 3 5 8 13 21 34 55 89 144 233 377 610 987 1597 2584  </p>\n",
              "    </div>\n",
              "    \n",
              "    <div name=\"N20\" style=\"display:none\">\n",
              "      <p> 0 1 1 2 3 5 8 13 21 34 55 89 144 233 377 610 987 1597 2584 4181  </p>\n",
              "    </div>\n",
              "    \n",
              "    <div name=\"N21\" style=\"display:none\">\n",
              "      <p> 0 1 1 2 3 5 8 13 21 34 55 89 144 233 377 610 987 1597 2584 4181 6765  </p>\n",
              "    </div>\n",
              "    \n",
              "    <div name=\"N22\" style=\"display:none\">\n",
              "      <p> 0 1 1 2 3 5 8 13 21 34 55 89 144 233 377 610 987 1597 2584 4181 6765 10946  </p>\n",
              "    </div>\n",
              "    \n",
              "    <div name=\"N23\" style=\"display:none\">\n",
              "      <p> 0 1 1 2 3 5 8 13 21 34 55 89 144 233 377 610 987 1597 2584 4181 6765 10946 17711  </p>\n",
              "    </div>\n",
              "    \n",
              "    <div name=\"N24\" style=\"display:none\">\n",
              "      <p> 0 1 1 2 3 5 8 13 21 34 55 89 144 233 377 610 987 1597 2584 4181 6765 10946 17711 28657  </p>\n",
              "    </div>\n",
              "    \n",
              "    <div name=\"N25\" style=\"display:none\">\n",
              "      <p> 0 1 1 2 3 5 8 13 21 34 55 89 144 233 377 610 987 1597 2584 4181 6765 10946 17711 28657 46368  </p>\n",
              "    </div>\n",
              "    \n",
              "    <div name=\"N26\" style=\"display:none\">\n",
              "      <p> 0 1 1 2 3 5 8 13 21 34 55 89 144 233 377 610 987 1597 2584 4181 6765 10946 17711 28657 46368 75025  </p>\n",
              "    </div>\n",
              "    \n",
              "    <div name=\"N27\" style=\"display:none\">\n",
              "      <p> 0 1 1 2 3 5 8 13 21 34 55 89 144 233 377 610 987 1597 2584 4181 6765 10946 17711 28657 46368 75025 121393  </p>\n",
              "    </div>\n",
              "    \n",
              "    <div name=\"N28\" style=\"display:none\">\n",
              "      <p> 0 1 1 2 3 5 8 13 21 34 55 89 144 233 377 610 987 1597 2584 4181 6765 10946 17711 28657 46368 75025 121393 196418  </p>\n",
              "    </div>\n",
              "    \n",
              "    <div name=\"N29\" style=\"display:none\">\n",
              "      <p> 0 1 1 2 3 5 8 13 21 34 55 89 144 233 377 610 987 1597 2584 4181 6765 10946 17711 28657 46368 75025 121393 196418 317811  </p>\n",
              "    </div>\n",
              "    \n",
              "    <div name=\"N30\" style=\"display:none\">\n",
              "      <p> 0 1 1 2 3 5 8 13 21 34 55 89 144 233 377 610 987 1597 2584 4181 6765 10946 17711 28657 46368 75025 121393 196418 317811 514229  </p>\n",
              "    </div>\n",
              "    \n",
              "    <div name=\"N31\" style=\"display:none\">\n",
              "      <p> 0 1 1 2 3 5 8 13 21 34 55 89 144 233 377 610 987 1597 2584 4181 6765 10946 17711 28657 46368 75025 121393 196418 317811 514229 832040  </p>\n",
              "    </div>\n",
              "    \n",
              "    <div name=\"N32\" style=\"display:none\">\n",
              "      <p> 0 1 1 2 3 5 8 13 21 34 55 89 144 233 377 610 987 1597 2584 4181 6765 10946 17711 28657 46368 75025 121393 196418 317811 514229 832040 1346269  </p>\n",
              "    </div>\n",
              "    \n",
              "    <div name=\"N33\" style=\"display:none\">\n",
              "      <p> 0 1 1 2 3 5 8 13 21 34 55 89 144 233 377 610 987 1597 2584 4181 6765 10946 17711 28657 46368 75025 121393 196418 317811 514229 832040 1346269 2178309  </p>\n",
              "    </div>\n",
              "    \n",
              "    <div name=\"N34\" style=\"display:none\">\n",
              "      <p> 0 1 1 2 3 5 8 13 21 34 55 89 144 233 377 610 987 1597 2584 4181 6765 10946 17711 28657 46368 75025 121393 196418 317811 514229 832040 1346269 2178309 3524578  </p>\n",
              "    </div>\n",
              "    \n",
              "    <div name=\"N35\" style=\"display:none\">\n",
              "      <p> 0 1 1 2 3 5 8 13 21 34 55 89 144 233 377 610 987 1597 2584 4181 6765 10946 17711 28657 46368 75025 121393 196418 317811 514229 832040 1346269 2178309 3524578 5702887  </p>\n",
              "    </div>\n",
              "    \n",
              "    <div name=\"N36\" style=\"display:none\">\n",
              "      <p> 0 1 1 2 3 5 8 13 21 34 55 89 144 233 377 610 987 1597 2584 4181 6765 10946 17711 28657 46368 75025 121393 196418 317811 514229 832040 1346269 2178309 3524578 5702887 9227465  </p>\n",
              "    </div>\n",
              "    \n",
              "    <div name=\"N37\" style=\"display:none\">\n",
              "      <p> 0 1 1 2 3 5 8 13 21 34 55 89 144 233 377 610 987 1597 2584 4181 6765 10946 17711 28657 46368 75025 121393 196418 317811 514229 832040 1346269 2178309 3524578 5702887 9227465 14930352  </p>\n",
              "    </div>\n",
              "    \n",
              "    <div name=\"N38\" style=\"display:none\">\n",
              "      <p> 0 1 1 2 3 5 8 13 21 34 55 89 144 233 377 610 987 1597 2584 4181 6765 10946 17711 28657 46368 75025 121393 196418 317811 514229 832040 1346269 2178309 3524578 5702887 9227465 14930352 24157817  </p>\n",
              "    </div>\n",
              "    \n",
              "    <div name=\"N39\" style=\"display:none\">\n",
              "      <p> 0 1 1 2 3 5 8 13 21 34 55 89 144 233 377 610 987 1597 2584 4181 6765 10946 17711 28657 46368 75025 121393 196418 317811 514229 832040 1346269 2178309 3524578 5702887 9227465 14930352 24157817 39088169  </p>\n",
              "    </div>\n",
              "    \n",
              "    <div name=\"N40\" style=\"display:none\">\n",
              "      <p> 0 1 1 2 3 5 8 13 21 34 55 89 144 233 377 610 987 1597 2584 4181 6765 10946 17711 28657 46368 75025 121393 196418 317811 514229 832040 1346269 2178309 3524578 5702887 9227465 14930352 24157817 39088169 63245986  </p>\n",
              "    </div>\n",
              "    \n",
              "    <div name=\"N41\" style=\"display:none\">\n",
              "      <p> 0 1 1 2 3 5 8 13 21 34 55 89 144 233 377 610 987 1597 2584 4181 6765 10946 17711 28657 46368 75025 121393 196418 317811 514229 832040 1346269 2178309 3524578 5702887 9227465 14930352 24157817 39088169 63245986 102334155  </p>\n",
              "    </div>\n",
              "    \n",
              "    <div name=\"N42\" style=\"display:none\">\n",
              "      <p> 0 1 1 2 3 5 8 13 21 34 55 89 144 233 377 610 987 1597 2584 4181 6765 10946 17711 28657 46368 75025 121393 196418 317811 514229 832040 1346269 2178309 3524578 5702887 9227465 14930352 24157817 39088169 63245986 102334155 165580141  </p>\n",
              "    </div>\n",
              "    \n",
              "    <div name=\"N43\" style=\"display:none\">\n",
              "      <p> 0 1 1 2 3 5 8 13 21 34 55 89 144 233 377 610 987 1597 2584 4181 6765 10946 17711 28657 46368 75025 121393 196418 317811 514229 832040 1346269 2178309 3524578 5702887 9227465 14930352 24157817 39088169 63245986 102334155 165580141 267914296  </p>\n",
              "    </div>\n",
              "    \n",
              "    <div name=\"N44\" style=\"display:none\">\n",
              "      <p> 0 1 1 2 3 5 8 13 21 34 55 89 144 233 377 610 987 1597 2584 4181 6765 10946 17711 28657 46368 75025 121393 196418 317811 514229 832040 1346269 2178309 3524578 5702887 9227465 14930352 24157817 39088169 63245986 102334155 165580141 267914296 433494437  </p>\n",
              "    </div>\n",
              "    \n",
              "    <div name=\"N45\" style=\"display:none\">\n",
              "      <p> 0 1 1 2 3 5 8 13 21 34 55 89 144 233 377 610 987 1597 2584 4181 6765 10946 17711 28657 46368 75025 121393 196418 317811 514229 832040 1346269 2178309 3524578 5702887 9227465 14930352 24157817 39088169 63245986 102334155 165580141 267914296 433494437 701408733  </p>\n",
              "    </div>\n",
              "    \n",
              "    <div name=\"N46\" style=\"display:none\">\n",
              "      <p> 0 1 1 2 3 5 8 13 21 34 55 89 144 233 377 610 987 1597 2584 4181 6765 10946 17711 28657 46368 75025 121393 196418 317811 514229 832040 1346269 2178309 3524578 5702887 9227465 14930352 24157817 39088169 63245986 102334155 165580141 267914296 433494437 701408733 1134903170  </p>\n",
              "    </div>\n",
              "    \n",
              "    <div name=\"N47\" style=\"display:none\">\n",
              "      <p> 0 1 1 2 3 5 8 13 21 34 55 89 144 233 377 610 987 1597 2584 4181 6765 10946 17711 28657 46368 75025 121393 196418 317811 514229 832040 1346269 2178309 3524578 5702887 9227465 14930352 24157817 39088169 63245986 102334155 165580141 267914296 433494437 701408733 1134903170 1836311903  </p>\n",
              "    </div>\n",
              "    \n",
              "    <div name=\"N48\" style=\"display:none\">\n",
              "      <p> 0 1 1 2 3 5 8 13 21 34 55 89 144 233 377 610 987 1597 2584 4181 6765 10946 17711 28657 46368 75025 121393 196418 317811 514229 832040 1346269 2178309 3524578 5702887 9227465 14930352 24157817 39088169 63245986 102334155 165580141 267914296 433494437 701408733 1134903170 1836311903 2971215073  </p>\n",
              "    </div>\n",
              "    \n",
              "    <div name=\"N49\" style=\"display:none\">\n",
              "      <p> 0 1 1 2 3 5 8 13 21 34 55 89 144 233 377 610 987 1597 2584 4181 6765 10946 17711 28657 46368 75025 121393 196418 317811 514229 832040 1346269 2178309 3524578 5702887 9227465 14930352 24157817 39088169 63245986 102334155 165580141 267914296 433494437 701408733 1134903170 1836311903 2971215073 4807526976  </p>\n",
              "    </div>\n",
              "    \n",
              "    <div name=\"N50\" style=\"display:none\">\n",
              "      <p> 0 1 1 2 3 5 8 13 21 34 55 89 144 233 377 610 987 1597 2584 4181 6765 10946 17711 28657 46368 75025 121393 196418 317811 514229 832040 1346269 2178309 3524578 5702887 9227465 14930352 24157817 39088169 63245986 102334155 165580141 267914296 433494437 701408733 1134903170 1836311903 2971215073 4807526976 7778742049  </p>\n",
              "    </div>\n",
              "    \n",
              "    <div name=\"N51\" style=\"display:none\">\n",
              "      <p> 0 1 1 2 3 5 8 13 21 34 55 89 144 233 377 610 987 1597 2584 4181 6765 10946 17711 28657 46368 75025 121393 196418 317811 514229 832040 1346269 2178309 3524578 5702887 9227465 14930352 24157817 39088169 63245986 102334155 165580141 267914296 433494437 701408733 1134903170 1836311903 2971215073 4807526976 7778742049 12586269025  </p>\n",
              "    </div>\n",
              "    \n",
              "    <div name=\"N52\" style=\"display:none\">\n",
              "      <p> 0 1 1 2 3 5 8 13 21 34 55 89 144 233 377 610 987 1597 2584 4181 6765 10946 17711 28657 46368 75025 121393 196418 317811 514229 832040 1346269 2178309 3524578 5702887 9227465 14930352 24157817 39088169 63245986 102334155 165580141 267914296 433494437 701408733 1134903170 1836311903 2971215073 4807526976 7778742049 12586269025 20365011074  </p>\n",
              "    </div>\n",
              "    \n",
              "    <div name=\"N53\" style=\"display:none\">\n",
              "      <p> 0 1 1 2 3 5 8 13 21 34 55 89 144 233 377 610 987 1597 2584 4181 6765 10946 17711 28657 46368 75025 121393 196418 317811 514229 832040 1346269 2178309 3524578 5702887 9227465 14930352 24157817 39088169 63245986 102334155 165580141 267914296 433494437 701408733 1134903170 1836311903 2971215073 4807526976 7778742049 12586269025 20365011074 32951280099  </p>\n",
              "    </div>\n",
              "    \n",
              "    <div name=\"N54\" style=\"display:none\">\n",
              "      <p> 0 1 1 2 3 5 8 13 21 34 55 89 144 233 377 610 987 1597 2584 4181 6765 10946 17711 28657 46368 75025 121393 196418 317811 514229 832040 1346269 2178309 3524578 5702887 9227465 14930352 24157817 39088169 63245986 102334155 165580141 267914296 433494437 701408733 1134903170 1836311903 2971215073 4807526976 7778742049 12586269025 20365011074 32951280099 53316291173  </p>\n",
              "    </div>\n",
              "    \n",
              "    <div name=\"N55\" style=\"display:none\">\n",
              "      <p> 0 1 1 2 3 5 8 13 21 34 55 89 144 233 377 610 987 1597 2584 4181 6765 10946 17711 28657 46368 75025 121393 196418 317811 514229 832040 1346269 2178309 3524578 5702887 9227465 14930352 24157817 39088169 63245986 102334155 165580141 267914296 433494437 701408733 1134903170 1836311903 2971215073 4807526976 7778742049 12586269025 20365011074 32951280099 53316291173 86267571272  </p>\n",
              "    </div>\n",
              "    \n",
              "    <div name=\"N56\" style=\"display:none\">\n",
              "      <p> 0 1 1 2 3 5 8 13 21 34 55 89 144 233 377 610 987 1597 2584 4181 6765 10946 17711 28657 46368 75025 121393 196418 317811 514229 832040 1346269 2178309 3524578 5702887 9227465 14930352 24157817 39088169 63245986 102334155 165580141 267914296 433494437 701408733 1134903170 1836311903 2971215073 4807526976 7778742049 12586269025 20365011074 32951280099 53316291173 86267571272 139583862445  </p>\n",
              "    </div>\n",
              "    \n",
              "    <div name=\"N57\" style=\"display:none\">\n",
              "      <p> 0 1 1 2 3 5 8 13 21 34 55 89 144 233 377 610 987 1597 2584 4181 6765 10946 17711 28657 46368 75025 121393 196418 317811 514229 832040 1346269 2178309 3524578 5702887 9227465 14930352 24157817 39088169 63245986 102334155 165580141 267914296 433494437 701408733 1134903170 1836311903 2971215073 4807526976 7778742049 12586269025 20365011074 32951280099 53316291173 86267571272 139583862445 225851433717  </p>\n",
              "    </div>\n",
              "    \n",
              "    <div name=\"N58\" style=\"display:none\">\n",
              "      <p> 0 1 1 2 3 5 8 13 21 34 55 89 144 233 377 610 987 1597 2584 4181 6765 10946 17711 28657 46368 75025 121393 196418 317811 514229 832040 1346269 2178309 3524578 5702887 9227465 14930352 24157817 39088169 63245986 102334155 165580141 267914296 433494437 701408733 1134903170 1836311903 2971215073 4807526976 7778742049 12586269025 20365011074 32951280099 53316291173 86267571272 139583862445 225851433717 365435296162  </p>\n",
              "    </div>\n",
              "    \n",
              "    <div name=\"N59\" style=\"display:none\">\n",
              "      <p> 0 1 1 2 3 5 8 13 21 34 55 89 144 233 377 610 987 1597 2584 4181 6765 10946 17711 28657 46368 75025 121393 196418 317811 514229 832040 1346269 2178309 3524578 5702887 9227465 14930352 24157817 39088169 63245986 102334155 165580141 267914296 433494437 701408733 1134903170 1836311903 2971215073 4807526976 7778742049 12586269025 20365011074 32951280099 53316291173 86267571272 139583862445 225851433717 365435296162 591286729879  </p>\n",
              "    </div>\n",
              "    \n",
              "    <div name=\"N60\" style=\"display:none\">\n",
              "      <p> 0 1 1 2 3 5 8 13 21 34 55 89 144 233 377 610 987 1597 2584 4181 6765 10946 17711 28657 46368 75025 121393 196418 317811 514229 832040 1346269 2178309 3524578 5702887 9227465 14930352 24157817 39088169 63245986 102334155 165580141 267914296 433494437 701408733 1134903170 1836311903 2971215073 4807526976 7778742049 12586269025 20365011074 32951280099 53316291173 86267571272 139583862445 225851433717 365435296162 591286729879 956722026041  </p>\n",
              "    </div>\n",
              "    \n",
              "    <div name=\"N61\" style=\"display:none\">\n",
              "      <p> 0 1 1 2 3 5 8 13 21 34 55 89 144 233 377 610 987 1597 2584 4181 6765 10946 17711 28657 46368 75025 121393 196418 317811 514229 832040 1346269 2178309 3524578 5702887 9227465 14930352 24157817 39088169 63245986 102334155 165580141 267914296 433494437 701408733 1134903170 1836311903 2971215073 4807526976 7778742049 12586269025 20365011074 32951280099 53316291173 86267571272 139583862445 225851433717 365435296162 591286729879 956722026041 1548008755920  </p>\n",
              "    </div>\n",
              "    \n",
              "    <div name=\"N62\" style=\"display:none\">\n",
              "      <p> 0 1 1 2 3 5 8 13 21 34 55 89 144 233 377 610 987 1597 2584 4181 6765 10946 17711 28657 46368 75025 121393 196418 317811 514229 832040 1346269 2178309 3524578 5702887 9227465 14930352 24157817 39088169 63245986 102334155 165580141 267914296 433494437 701408733 1134903170 1836311903 2971215073 4807526976 7778742049 12586269025 20365011074 32951280099 53316291173 86267571272 139583862445 225851433717 365435296162 591286729879 956722026041 1548008755920 2504730781961  </p>\n",
              "    </div>\n",
              "    \n",
              "    <div name=\"N63\" style=\"display:none\">\n",
              "      <p> 0 1 1 2 3 5 8 13 21 34 55 89 144 233 377 610 987 1597 2584 4181 6765 10946 17711 28657 46368 75025 121393 196418 317811 514229 832040 1346269 2178309 3524578 5702887 9227465 14930352 24157817 39088169 63245986 102334155 165580141 267914296 433494437 701408733 1134903170 1836311903 2971215073 4807526976 7778742049 12586269025 20365011074 32951280099 53316291173 86267571272 139583862445 225851433717 365435296162 591286729879 956722026041 1548008755920 2504730781961 4052739537881  </p>\n",
              "    </div>\n",
              "    \n",
              "    <div name=\"N64\" style=\"display:none\">\n",
              "      <p> 0 1 1 2 3 5 8 13 21 34 55 89 144 233 377 610 987 1597 2584 4181 6765 10946 17711 28657 46368 75025 121393 196418 317811 514229 832040 1346269 2178309 3524578 5702887 9227465 14930352 24157817 39088169 63245986 102334155 165580141 267914296 433494437 701408733 1134903170 1836311903 2971215073 4807526976 7778742049 12586269025 20365011074 32951280099 53316291173 86267571272 139583862445 225851433717 365435296162 591286729879 956722026041 1548008755920 2504730781961 4052739537881 6557470319842  </p>\n",
              "    </div>\n",
              "    \n",
              "    <div name=\"N65\" style=\"display:none\">\n",
              "      <p> 0 1 1 2 3 5 8 13 21 34 55 89 144 233 377 610 987 1597 2584 4181 6765 10946 17711 28657 46368 75025 121393 196418 317811 514229 832040 1346269 2178309 3524578 5702887 9227465 14930352 24157817 39088169 63245986 102334155 165580141 267914296 433494437 701408733 1134903170 1836311903 2971215073 4807526976 7778742049 12586269025 20365011074 32951280099 53316291173 86267571272 139583862445 225851433717 365435296162 591286729879 956722026041 1548008755920 2504730781961 4052739537881 6557470319842 10610209857723  </p>\n",
              "    </div>\n",
              "    \n",
              "    <div name=\"N66\" style=\"display:none\">\n",
              "      <p> 0 1 1 2 3 5 8 13 21 34 55 89 144 233 377 610 987 1597 2584 4181 6765 10946 17711 28657 46368 75025 121393 196418 317811 514229 832040 1346269 2178309 3524578 5702887 9227465 14930352 24157817 39088169 63245986 102334155 165580141 267914296 433494437 701408733 1134903170 1836311903 2971215073 4807526976 7778742049 12586269025 20365011074 32951280099 53316291173 86267571272 139583862445 225851433717 365435296162 591286729879 956722026041 1548008755920 2504730781961 4052739537881 6557470319842 10610209857723 17167680177565  </p>\n",
              "    </div>\n",
              "    \n",
              "    <div name=\"N67\" style=\"display:none\">\n",
              "      <p> 0 1 1 2 3 5 8 13 21 34 55 89 144 233 377 610 987 1597 2584 4181 6765 10946 17711 28657 46368 75025 121393 196418 317811 514229 832040 1346269 2178309 3524578 5702887 9227465 14930352 24157817 39088169 63245986 102334155 165580141 267914296 433494437 701408733 1134903170 1836311903 2971215073 4807526976 7778742049 12586269025 20365011074 32951280099 53316291173 86267571272 139583862445 225851433717 365435296162 591286729879 956722026041 1548008755920 2504730781961 4052739537881 6557470319842 10610209857723 17167680177565 27777890035288  </p>\n",
              "    </div>\n",
              "    \n",
              "    <div name=\"N68\" style=\"display:none\">\n",
              "      <p> 0 1 1 2 3 5 8 13 21 34 55 89 144 233 377 610 987 1597 2584 4181 6765 10946 17711 28657 46368 75025 121393 196418 317811 514229 832040 1346269 2178309 3524578 5702887 9227465 14930352 24157817 39088169 63245986 102334155 165580141 267914296 433494437 701408733 1134903170 1836311903 2971215073 4807526976 7778742049 12586269025 20365011074 32951280099 53316291173 86267571272 139583862445 225851433717 365435296162 591286729879 956722026041 1548008755920 2504730781961 4052739537881 6557470319842 10610209857723 17167680177565 27777890035288 44945570212853  </p>\n",
              "    </div>\n",
              "    \n",
              "    <div name=\"N69\" style=\"display:none\">\n",
              "      <p> 0 1 1 2 3 5 8 13 21 34 55 89 144 233 377 610 987 1597 2584 4181 6765 10946 17711 28657 46368 75025 121393 196418 317811 514229 832040 1346269 2178309 3524578 5702887 9227465 14930352 24157817 39088169 63245986 102334155 165580141 267914296 433494437 701408733 1134903170 1836311903 2971215073 4807526976 7778742049 12586269025 20365011074 32951280099 53316291173 86267571272 139583862445 225851433717 365435296162 591286729879 956722026041 1548008755920 2504730781961 4052739537881 6557470319842 10610209857723 17167680177565 27777890035288 44945570212853 72723460248141  </p>\n",
              "    </div>\n",
              "    \n",
              "    <div name=\"N70\" style=\"display:none\">\n",
              "      <p> 0 1 1 2 3 5 8 13 21 34 55 89 144 233 377 610 987 1597 2584 4181 6765 10946 17711 28657 46368 75025 121393 196418 317811 514229 832040 1346269 2178309 3524578 5702887 9227465 14930352 24157817 39088169 63245986 102334155 165580141 267914296 433494437 701408733 1134903170 1836311903 2971215073 4807526976 7778742049 12586269025 20365011074 32951280099 53316291173 86267571272 139583862445 225851433717 365435296162 591286729879 956722026041 1548008755920 2504730781961 4052739537881 6557470319842 10610209857723 17167680177565 27777890035288 44945570212853 72723460248141 117669030460994  </p>\n",
              "    </div>\n",
              "    \n",
              "    <div name=\"N71\" style=\"display:none\">\n",
              "      <p> 0 1 1 2 3 5 8 13 21 34 55 89 144 233 377 610 987 1597 2584 4181 6765 10946 17711 28657 46368 75025 121393 196418 317811 514229 832040 1346269 2178309 3524578 5702887 9227465 14930352 24157817 39088169 63245986 102334155 165580141 267914296 433494437 701408733 1134903170 1836311903 2971215073 4807526976 7778742049 12586269025 20365011074 32951280099 53316291173 86267571272 139583862445 225851433717 365435296162 591286729879 956722026041 1548008755920 2504730781961 4052739537881 6557470319842 10610209857723 17167680177565 27777890035288 44945570212853 72723460248141 117669030460994 190392490709135  </p>\n",
              "    </div>\n",
              "    \n",
              "    <div name=\"N72\" style=\"display:none\">\n",
              "      <p> 0 1 1 2 3 5 8 13 21 34 55 89 144 233 377 610 987 1597 2584 4181 6765 10946 17711 28657 46368 75025 121393 196418 317811 514229 832040 1346269 2178309 3524578 5702887 9227465 14930352 24157817 39088169 63245986 102334155 165580141 267914296 433494437 701408733 1134903170 1836311903 2971215073 4807526976 7778742049 12586269025 20365011074 32951280099 53316291173 86267571272 139583862445 225851433717 365435296162 591286729879 956722026041 1548008755920 2504730781961 4052739537881 6557470319842 10610209857723 17167680177565 27777890035288 44945570212853 72723460248141 117669030460994 190392490709135 308061521170129  </p>\n",
              "    </div>\n",
              "    \n",
              "    <div name=\"N73\" style=\"display:none\">\n",
              "      <p> 0 1 1 2 3 5 8 13 21 34 55 89 144 233 377 610 987 1597 2584 4181 6765 10946 17711 28657 46368 75025 121393 196418 317811 514229 832040 1346269 2178309 3524578 5702887 9227465 14930352 24157817 39088169 63245986 102334155 165580141 267914296 433494437 701408733 1134903170 1836311903 2971215073 4807526976 7778742049 12586269025 20365011074 32951280099 53316291173 86267571272 139583862445 225851433717 365435296162 591286729879 956722026041 1548008755920 2504730781961 4052739537881 6557470319842 10610209857723 17167680177565 27777890035288 44945570212853 72723460248141 117669030460994 190392490709135 308061521170129 498454011879264  </p>\n",
              "    </div>\n",
              "    \n",
              "    <div name=\"N74\" style=\"display:none\">\n",
              "      <p> 0 1 1 2 3 5 8 13 21 34 55 89 144 233 377 610 987 1597 2584 4181 6765 10946 17711 28657 46368 75025 121393 196418 317811 514229 832040 1346269 2178309 3524578 5702887 9227465 14930352 24157817 39088169 63245986 102334155 165580141 267914296 433494437 701408733 1134903170 1836311903 2971215073 4807526976 7778742049 12586269025 20365011074 32951280099 53316291173 86267571272 139583862445 225851433717 365435296162 591286729879 956722026041 1548008755920 2504730781961 4052739537881 6557470319842 10610209857723 17167680177565 27777890035288 44945570212853 72723460248141 117669030460994 190392490709135 308061521170129 498454011879264 806515533049393  </p>\n",
              "    </div>\n",
              "    \n",
              "    <div name=\"N75\" style=\"display:none\">\n",
              "      <p> 0 1 1 2 3 5 8 13 21 34 55 89 144 233 377 610 987 1597 2584 4181 6765 10946 17711 28657 46368 75025 121393 196418 317811 514229 832040 1346269 2178309 3524578 5702887 9227465 14930352 24157817 39088169 63245986 102334155 165580141 267914296 433494437 701408733 1134903170 1836311903 2971215073 4807526976 7778742049 12586269025 20365011074 32951280099 53316291173 86267571272 139583862445 225851433717 365435296162 591286729879 956722026041 1548008755920 2504730781961 4052739537881 6557470319842 10610209857723 17167680177565 27777890035288 44945570212853 72723460248141 117669030460994 190392490709135 308061521170129 498454011879264 806515533049393 1304969544928657  </p>\n",
              "    </div>\n",
              "    \n",
              "    <div name=\"N76\" style=\"display:none\">\n",
              "      <p> 0 1 1 2 3 5 8 13 21 34 55 89 144 233 377 610 987 1597 2584 4181 6765 10946 17711 28657 46368 75025 121393 196418 317811 514229 832040 1346269 2178309 3524578 5702887 9227465 14930352 24157817 39088169 63245986 102334155 165580141 267914296 433494437 701408733 1134903170 1836311903 2971215073 4807526976 7778742049 12586269025 20365011074 32951280099 53316291173 86267571272 139583862445 225851433717 365435296162 591286729879 956722026041 1548008755920 2504730781961 4052739537881 6557470319842 10610209857723 17167680177565 27777890035288 44945570212853 72723460248141 117669030460994 190392490709135 308061521170129 498454011879264 806515533049393 1304969544928657 2111485077978050  </p>\n",
              "    </div>\n",
              "    \n",
              "    <div name=\"N77\" style=\"display:none\">\n",
              "      <p> 0 1 1 2 3 5 8 13 21 34 55 89 144 233 377 610 987 1597 2584 4181 6765 10946 17711 28657 46368 75025 121393 196418 317811 514229 832040 1346269 2178309 3524578 5702887 9227465 14930352 24157817 39088169 63245986 102334155 165580141 267914296 433494437 701408733 1134903170 1836311903 2971215073 4807526976 7778742049 12586269025 20365011074 32951280099 53316291173 86267571272 139583862445 225851433717 365435296162 591286729879 956722026041 1548008755920 2504730781961 4052739537881 6557470319842 10610209857723 17167680177565 27777890035288 44945570212853 72723460248141 117669030460994 190392490709135 308061521170129 498454011879264 806515533049393 1304969544928657 2111485077978050 3416454622906707  </p>\n",
              "    </div>\n",
              "    \n",
              "    <div name=\"N78\" style=\"display:none\">\n",
              "      <p> 0 1 1 2 3 5 8 13 21 34 55 89 144 233 377 610 987 1597 2584 4181 6765 10946 17711 28657 46368 75025 121393 196418 317811 514229 832040 1346269 2178309 3524578 5702887 9227465 14930352 24157817 39088169 63245986 102334155 165580141 267914296 433494437 701408733 1134903170 1836311903 2971215073 4807526976 7778742049 12586269025 20365011074 32951280099 53316291173 86267571272 139583862445 225851433717 365435296162 591286729879 956722026041 1548008755920 2504730781961 4052739537881 6557470319842 10610209857723 17167680177565 27777890035288 44945570212853 72723460248141 117669030460994 190392490709135 308061521170129 498454011879264 806515533049393 1304969544928657 2111485077978050 3416454622906707 5527939700884757  </p>\n",
              "    </div>\n",
              "    \n",
              "    <div name=\"N79\" style=\"display:none\">\n",
              "      <p> 0 1 1 2 3 5 8 13 21 34 55 89 144 233 377 610 987 1597 2584 4181 6765 10946 17711 28657 46368 75025 121393 196418 317811 514229 832040 1346269 2178309 3524578 5702887 9227465 14930352 24157817 39088169 63245986 102334155 165580141 267914296 433494437 701408733 1134903170 1836311903 2971215073 4807526976 7778742049 12586269025 20365011074 32951280099 53316291173 86267571272 139583862445 225851433717 365435296162 591286729879 956722026041 1548008755920 2504730781961 4052739537881 6557470319842 10610209857723 17167680177565 27777890035288 44945570212853 72723460248141 117669030460994 190392490709135 308061521170129 498454011879264 806515533049393 1304969544928657 2111485077978050 3416454622906707 5527939700884757 8944394323791464  </p>\n",
              "    </div>\n",
              "    \n",
              "    <div name=\"N80\" style=\"display:none\">\n",
              "      <p> 0 1 1 2 3 5 8 13 21 34 55 89 144 233 377 610 987 1597 2584 4181 6765 10946 17711 28657 46368 75025 121393 196418 317811 514229 832040 1346269 2178309 3524578 5702887 9227465 14930352 24157817 39088169 63245986 102334155 165580141 267914296 433494437 701408733 1134903170 1836311903 2971215073 4807526976 7778742049 12586269025 20365011074 32951280099 53316291173 86267571272 139583862445 225851433717 365435296162 591286729879 956722026041 1548008755920 2504730781961 4052739537881 6557470319842 10610209857723 17167680177565 27777890035288 44945570212853 72723460248141 117669030460994 190392490709135 308061521170129 498454011879264 806515533049393 1304969544928657 2111485077978050 3416454622906707 5527939700884757 8944394323791464 14472334024676221  </p>\n",
              "    </div>\n",
              "    \n",
              "    <div name=\"N81\" style=\"display:none\">\n",
              "      <p> 0 1 1 2 3 5 8 13 21 34 55 89 144 233 377 610 987 1597 2584 4181 6765 10946 17711 28657 46368 75025 121393 196418 317811 514229 832040 1346269 2178309 3524578 5702887 9227465 14930352 24157817 39088169 63245986 102334155 165580141 267914296 433494437 701408733 1134903170 1836311903 2971215073 4807526976 7778742049 12586269025 20365011074 32951280099 53316291173 86267571272 139583862445 225851433717 365435296162 591286729879 956722026041 1548008755920 2504730781961 4052739537881 6557470319842 10610209857723 17167680177565 27777890035288 44945570212853 72723460248141 117669030460994 190392490709135 308061521170129 498454011879264 806515533049393 1304969544928657 2111485077978050 3416454622906707 5527939700884757 8944394323791464 14472334024676221 23416728348467685  </p>\n",
              "    </div>\n",
              "    \n",
              "    <div name=\"N82\" style=\"display:none\">\n",
              "      <p> 0 1 1 2 3 5 8 13 21 34 55 89 144 233 377 610 987 1597 2584 4181 6765 10946 17711 28657 46368 75025 121393 196418 317811 514229 832040 1346269 2178309 3524578 5702887 9227465 14930352 24157817 39088169 63245986 102334155 165580141 267914296 433494437 701408733 1134903170 1836311903 2971215073 4807526976 7778742049 12586269025 20365011074 32951280099 53316291173 86267571272 139583862445 225851433717 365435296162 591286729879 956722026041 1548008755920 2504730781961 4052739537881 6557470319842 10610209857723 17167680177565 27777890035288 44945570212853 72723460248141 117669030460994 190392490709135 308061521170129 498454011879264 806515533049393 1304969544928657 2111485077978050 3416454622906707 5527939700884757 8944394323791464 14472334024676221 23416728348467685 37889062373143906  </p>\n",
              "    </div>\n",
              "    \n",
              "    <div name=\"N83\" style=\"display:none\">\n",
              "      <p> 0 1 1 2 3 5 8 13 21 34 55 89 144 233 377 610 987 1597 2584 4181 6765 10946 17711 28657 46368 75025 121393 196418 317811 514229 832040 1346269 2178309 3524578 5702887 9227465 14930352 24157817 39088169 63245986 102334155 165580141 267914296 433494437 701408733 1134903170 1836311903 2971215073 4807526976 7778742049 12586269025 20365011074 32951280099 53316291173 86267571272 139583862445 225851433717 365435296162 591286729879 956722026041 1548008755920 2504730781961 4052739537881 6557470319842 10610209857723 17167680177565 27777890035288 44945570212853 72723460248141 117669030460994 190392490709135 308061521170129 498454011879264 806515533049393 1304969544928657 2111485077978050 3416454622906707 5527939700884757 8944394323791464 14472334024676221 23416728348467685 37889062373143906 61305790721611591  </p>\n",
              "    </div>\n",
              "    \n",
              "    <div name=\"N84\" style=\"display:none\">\n",
              "      <p> 0 1 1 2 3 5 8 13 21 34 55 89 144 233 377 610 987 1597 2584 4181 6765 10946 17711 28657 46368 75025 121393 196418 317811 514229 832040 1346269 2178309 3524578 5702887 9227465 14930352 24157817 39088169 63245986 102334155 165580141 267914296 433494437 701408733 1134903170 1836311903 2971215073 4807526976 7778742049 12586269025 20365011074 32951280099 53316291173 86267571272 139583862445 225851433717 365435296162 591286729879 956722026041 1548008755920 2504730781961 4052739537881 6557470319842 10610209857723 17167680177565 27777890035288 44945570212853 72723460248141 117669030460994 190392490709135 308061521170129 498454011879264 806515533049393 1304969544928657 2111485077978050 3416454622906707 5527939700884757 8944394323791464 14472334024676221 23416728348467685 37889062373143906 61305790721611591 99194853094755497  </p>\n",
              "    </div>\n",
              "    \n",
              "    <div name=\"N85\" style=\"display:none\">\n",
              "      <p> 0 1 1 2 3 5 8 13 21 34 55 89 144 233 377 610 987 1597 2584 4181 6765 10946 17711 28657 46368 75025 121393 196418 317811 514229 832040 1346269 2178309 3524578 5702887 9227465 14930352 24157817 39088169 63245986 102334155 165580141 267914296 433494437 701408733 1134903170 1836311903 2971215073 4807526976 7778742049 12586269025 20365011074 32951280099 53316291173 86267571272 139583862445 225851433717 365435296162 591286729879 956722026041 1548008755920 2504730781961 4052739537881 6557470319842 10610209857723 17167680177565 27777890035288 44945570212853 72723460248141 117669030460994 190392490709135 308061521170129 498454011879264 806515533049393 1304969544928657 2111485077978050 3416454622906707 5527939700884757 8944394323791464 14472334024676221 23416728348467685 37889062373143906 61305790721611591 99194853094755497 160500643816367088  </p>\n",
              "    </div>\n",
              "    \n",
              "    <div name=\"N86\" style=\"display:none\">\n",
              "      <p> 0 1 1 2 3 5 8 13 21 34 55 89 144 233 377 610 987 1597 2584 4181 6765 10946 17711 28657 46368 75025 121393 196418 317811 514229 832040 1346269 2178309 3524578 5702887 9227465 14930352 24157817 39088169 63245986 102334155 165580141 267914296 433494437 701408733 1134903170 1836311903 2971215073 4807526976 7778742049 12586269025 20365011074 32951280099 53316291173 86267571272 139583862445 225851433717 365435296162 591286729879 956722026041 1548008755920 2504730781961 4052739537881 6557470319842 10610209857723 17167680177565 27777890035288 44945570212853 72723460248141 117669030460994 190392490709135 308061521170129 498454011879264 806515533049393 1304969544928657 2111485077978050 3416454622906707 5527939700884757 8944394323791464 14472334024676221 23416728348467685 37889062373143906 61305790721611591 99194853094755497 160500643816367088 259695496911122585  </p>\n",
              "    </div>\n",
              "    \n",
              "    <div name=\"N87\" style=\"display:none\">\n",
              "      <p> 0 1 1 2 3 5 8 13 21 34 55 89 144 233 377 610 987 1597 2584 4181 6765 10946 17711 28657 46368 75025 121393 196418 317811 514229 832040 1346269 2178309 3524578 5702887 9227465 14930352 24157817 39088169 63245986 102334155 165580141 267914296 433494437 701408733 1134903170 1836311903 2971215073 4807526976 7778742049 12586269025 20365011074 32951280099 53316291173 86267571272 139583862445 225851433717 365435296162 591286729879 956722026041 1548008755920 2504730781961 4052739537881 6557470319842 10610209857723 17167680177565 27777890035288 44945570212853 72723460248141 117669030460994 190392490709135 308061521170129 498454011879264 806515533049393 1304969544928657 2111485077978050 3416454622906707 5527939700884757 8944394323791464 14472334024676221 23416728348467685 37889062373143906 61305790721611591 99194853094755497 160500643816367088 259695496911122585 420196140727489673  </p>\n",
              "    </div>\n",
              "    \n",
              "    <div name=\"N88\" style=\"display:none\">\n",
              "      <p> 0 1 1 2 3 5 8 13 21 34 55 89 144 233 377 610 987 1597 2584 4181 6765 10946 17711 28657 46368 75025 121393 196418 317811 514229 832040 1346269 2178309 3524578 5702887 9227465 14930352 24157817 39088169 63245986 102334155 165580141 267914296 433494437 701408733 1134903170 1836311903 2971215073 4807526976 7778742049 12586269025 20365011074 32951280099 53316291173 86267571272 139583862445 225851433717 365435296162 591286729879 956722026041 1548008755920 2504730781961 4052739537881 6557470319842 10610209857723 17167680177565 27777890035288 44945570212853 72723460248141 117669030460994 190392490709135 308061521170129 498454011879264 806515533049393 1304969544928657 2111485077978050 3416454622906707 5527939700884757 8944394323791464 14472334024676221 23416728348467685 37889062373143906 61305790721611591 99194853094755497 160500643816367088 259695496911122585 420196140727489673 679891637638612258  </p>\n",
              "    </div>\n",
              "    \n",
              "    <div name=\"N89\" style=\"display:none\">\n",
              "      <p> 0 1 1 2 3 5 8 13 21 34 55 89 144 233 377 610 987 1597 2584 4181 6765 10946 17711 28657 46368 75025 121393 196418 317811 514229 832040 1346269 2178309 3524578 5702887 9227465 14930352 24157817 39088169 63245986 102334155 165580141 267914296 433494437 701408733 1134903170 1836311903 2971215073 4807526976 7778742049 12586269025 20365011074 32951280099 53316291173 86267571272 139583862445 225851433717 365435296162 591286729879 956722026041 1548008755920 2504730781961 4052739537881 6557470319842 10610209857723 17167680177565 27777890035288 44945570212853 72723460248141 117669030460994 190392490709135 308061521170129 498454011879264 806515533049393 1304969544928657 2111485077978050 3416454622906707 5527939700884757 8944394323791464 14472334024676221 23416728348467685 37889062373143906 61305790721611591 99194853094755497 160500643816367088 259695496911122585 420196140727489673 679891637638612258 1100087778366101931  </p>\n",
              "    </div>\n",
              "    \n",
              "    <div name=\"N90\" style=\"display:none\">\n",
              "      <p> 0 1 1 2 3 5 8 13 21 34 55 89 144 233 377 610 987 1597 2584 4181 6765 10946 17711 28657 46368 75025 121393 196418 317811 514229 832040 1346269 2178309 3524578 5702887 9227465 14930352 24157817 39088169 63245986 102334155 165580141 267914296 433494437 701408733 1134903170 1836311903 2971215073 4807526976 7778742049 12586269025 20365011074 32951280099 53316291173 86267571272 139583862445 225851433717 365435296162 591286729879 956722026041 1548008755920 2504730781961 4052739537881 6557470319842 10610209857723 17167680177565 27777890035288 44945570212853 72723460248141 117669030460994 190392490709135 308061521170129 498454011879264 806515533049393 1304969544928657 2111485077978050 3416454622906707 5527939700884757 8944394323791464 14472334024676221 23416728348467685 37889062373143906 61305790721611591 99194853094755497 160500643816367088 259695496911122585 420196140727489673 679891637638612258 1100087778366101931 1779979416004714189  </p>\n",
              "    </div>\n",
              "    \n",
              "    <div name=\"N91\" style=\"display:none\">\n",
              "      <p> 0 1 1 2 3 5 8 13 21 34 55 89 144 233 377 610 987 1597 2584 4181 6765 10946 17711 28657 46368 75025 121393 196418 317811 514229 832040 1346269 2178309 3524578 5702887 9227465 14930352 24157817 39088169 63245986 102334155 165580141 267914296 433494437 701408733 1134903170 1836311903 2971215073 4807526976 7778742049 12586269025 20365011074 32951280099 53316291173 86267571272 139583862445 225851433717 365435296162 591286729879 956722026041 1548008755920 2504730781961 4052739537881 6557470319842 10610209857723 17167680177565 27777890035288 44945570212853 72723460248141 117669030460994 190392490709135 308061521170129 498454011879264 806515533049393 1304969544928657 2111485077978050 3416454622906707 5527939700884757 8944394323791464 14472334024676221 23416728348467685 37889062373143906 61305790721611591 99194853094755497 160500643816367088 259695496911122585 420196140727489673 679891637638612258 1100087778366101931 1779979416004714189 2880067194370816120  </p>\n",
              "    </div>\n",
              "    \n",
              "    <div name=\"N92\" style=\"display:none\">\n",
              "      <p> 0 1 1 2 3 5 8 13 21 34 55 89 144 233 377 610 987 1597 2584 4181 6765 10946 17711 28657 46368 75025 121393 196418 317811 514229 832040 1346269 2178309 3524578 5702887 9227465 14930352 24157817 39088169 63245986 102334155 165580141 267914296 433494437 701408733 1134903170 1836311903 2971215073 4807526976 7778742049 12586269025 20365011074 32951280099 53316291173 86267571272 139583862445 225851433717 365435296162 591286729879 956722026041 1548008755920 2504730781961 4052739537881 6557470319842 10610209857723 17167680177565 27777890035288 44945570212853 72723460248141 117669030460994 190392490709135 308061521170129 498454011879264 806515533049393 1304969544928657 2111485077978050 3416454622906707 5527939700884757 8944394323791464 14472334024676221 23416728348467685 37889062373143906 61305790721611591 99194853094755497 160500643816367088 259695496911122585 420196140727489673 679891637638612258 1100087778366101931 1779979416004714189 2880067194370816120 4660046610375530309  </p>\n",
              "    </div>\n",
              "    \n",
              "    <div name=\"N93\" style=\"display:none\">\n",
              "      <p> 0 1 1 2 3 5 8 13 21 34 55 89 144 233 377 610 987 1597 2584 4181 6765 10946 17711 28657 46368 75025 121393 196418 317811 514229 832040 1346269 2178309 3524578 5702887 9227465 14930352 24157817 39088169 63245986 102334155 165580141 267914296 433494437 701408733 1134903170 1836311903 2971215073 4807526976 7778742049 12586269025 20365011074 32951280099 53316291173 86267571272 139583862445 225851433717 365435296162 591286729879 956722026041 1548008755920 2504730781961 4052739537881 6557470319842 10610209857723 17167680177565 27777890035288 44945570212853 72723460248141 117669030460994 190392490709135 308061521170129 498454011879264 806515533049393 1304969544928657 2111485077978050 3416454622906707 5527939700884757 8944394323791464 14472334024676221 23416728348467685 37889062373143906 61305790721611591 99194853094755497 160500643816367088 259695496911122585 420196140727489673 679891637638612258 1100087778366101931 1779979416004714189 2880067194370816120 4660046610375530309 7540113804746346429  </p>\n",
              "    </div>\n",
              "    \n",
              "    <div name=\"N94\" style=\"display:none\">\n",
              "      <p> 0 1 1 2 3 5 8 13 21 34 55 89 144 233 377 610 987 1597 2584 4181 6765 10946 17711 28657 46368 75025 121393 196418 317811 514229 832040 1346269 2178309 3524578 5702887 9227465 14930352 24157817 39088169 63245986 102334155 165580141 267914296 433494437 701408733 1134903170 1836311903 2971215073 4807526976 7778742049 12586269025 20365011074 32951280099 53316291173 86267571272 139583862445 225851433717 365435296162 591286729879 956722026041 1548008755920 2504730781961 4052739537881 6557470319842 10610209857723 17167680177565 27777890035288 44945570212853 72723460248141 117669030460994 190392490709135 308061521170129 498454011879264 806515533049393 1304969544928657 2111485077978050 3416454622906707 5527939700884757 8944394323791464 14472334024676221 23416728348467685 37889062373143906 61305790721611591 99194853094755497 160500643816367088 259695496911122585 420196140727489673 679891637638612258 1100087778366101931 1779979416004714189 2880067194370816120 4660046610375530309 7540113804746346429 12200160415121876738  </p>\n",
              "    </div>\n",
              "    \n",
              "    <div name=\"N95\" style=\"display:none\">\n",
              "      <p> 0 1 1 2 3 5 8 13 21 34 55 89 144 233 377 610 987 1597 2584 4181 6765 10946 17711 28657 46368 75025 121393 196418 317811 514229 832040 1346269 2178309 3524578 5702887 9227465 14930352 24157817 39088169 63245986 102334155 165580141 267914296 433494437 701408733 1134903170 1836311903 2971215073 4807526976 7778742049 12586269025 20365011074 32951280099 53316291173 86267571272 139583862445 225851433717 365435296162 591286729879 956722026041 1548008755920 2504730781961 4052739537881 6557470319842 10610209857723 17167680177565 27777890035288 44945570212853 72723460248141 117669030460994 190392490709135 308061521170129 498454011879264 806515533049393 1304969544928657 2111485077978050 3416454622906707 5527939700884757 8944394323791464 14472334024676221 23416728348467685 37889062373143906 61305790721611591 99194853094755497 160500643816367088 259695496911122585 420196140727489673 679891637638612258 1100087778366101931 1779979416004714189 2880067194370816120 4660046610375530309 7540113804746346429 12200160415121876738 19740274219868223167  </p>\n",
              "    </div>\n",
              "    \n",
              "    <div name=\"N96\" style=\"display:none\">\n",
              "      <p> 0 1 1 2 3 5 8 13 21 34 55 89 144 233 377 610 987 1597 2584 4181 6765 10946 17711 28657 46368 75025 121393 196418 317811 514229 832040 1346269 2178309 3524578 5702887 9227465 14930352 24157817 39088169 63245986 102334155 165580141 267914296 433494437 701408733 1134903170 1836311903 2971215073 4807526976 7778742049 12586269025 20365011074 32951280099 53316291173 86267571272 139583862445 225851433717 365435296162 591286729879 956722026041 1548008755920 2504730781961 4052739537881 6557470319842 10610209857723 17167680177565 27777890035288 44945570212853 72723460248141 117669030460994 190392490709135 308061521170129 498454011879264 806515533049393 1304969544928657 2111485077978050 3416454622906707 5527939700884757 8944394323791464 14472334024676221 23416728348467685 37889062373143906 61305790721611591 99194853094755497 160500643816367088 259695496911122585 420196140727489673 679891637638612258 1100087778366101931 1779979416004714189 2880067194370816120 4660046610375530309 7540113804746346429 12200160415121876738 19740274219868223167 31940434634990099905  </p>\n",
              "    </div>\n",
              "    \n",
              "    <div name=\"N97\" style=\"display:none\">\n",
              "      <p> 0 1 1 2 3 5 8 13 21 34 55 89 144 233 377 610 987 1597 2584 4181 6765 10946 17711 28657 46368 75025 121393 196418 317811 514229 832040 1346269 2178309 3524578 5702887 9227465 14930352 24157817 39088169 63245986 102334155 165580141 267914296 433494437 701408733 1134903170 1836311903 2971215073 4807526976 7778742049 12586269025 20365011074 32951280099 53316291173 86267571272 139583862445 225851433717 365435296162 591286729879 956722026041 1548008755920 2504730781961 4052739537881 6557470319842 10610209857723 17167680177565 27777890035288 44945570212853 72723460248141 117669030460994 190392490709135 308061521170129 498454011879264 806515533049393 1304969544928657 2111485077978050 3416454622906707 5527939700884757 8944394323791464 14472334024676221 23416728348467685 37889062373143906 61305790721611591 99194853094755497 160500643816367088 259695496911122585 420196140727489673 679891637638612258 1100087778366101931 1779979416004714189 2880067194370816120 4660046610375530309 7540113804746346429 12200160415121876738 19740274219868223167 31940434634990099905 51680708854858323072  </p>\n",
              "    </div>\n",
              "    \n",
              "    <div name=\"N98\" style=\"display:none\">\n",
              "      <p> 0 1 1 2 3 5 8 13 21 34 55 89 144 233 377 610 987 1597 2584 4181 6765 10946 17711 28657 46368 75025 121393 196418 317811 514229 832040 1346269 2178309 3524578 5702887 9227465 14930352 24157817 39088169 63245986 102334155 165580141 267914296 433494437 701408733 1134903170 1836311903 2971215073 4807526976 7778742049 12586269025 20365011074 32951280099 53316291173 86267571272 139583862445 225851433717 365435296162 591286729879 956722026041 1548008755920 2504730781961 4052739537881 6557470319842 10610209857723 17167680177565 27777890035288 44945570212853 72723460248141 117669030460994 190392490709135 308061521170129 498454011879264 806515533049393 1304969544928657 2111485077978050 3416454622906707 5527939700884757 8944394323791464 14472334024676221 23416728348467685 37889062373143906 61305790721611591 99194853094755497 160500643816367088 259695496911122585 420196140727489673 679891637638612258 1100087778366101931 1779979416004714189 2880067194370816120 4660046610375530309 7540113804746346429 12200160415121876738 19740274219868223167 31940434634990099905 51680708854858323072 83621143489848422977  </p>\n",
              "    </div>\n",
              "    \n",
              "    <div name=\"N99\" style=\"display:none\">\n",
              "      <p> 0 1 1 2 3 5 8 13 21 34 55 89 144 233 377 610 987 1597 2584 4181 6765 10946 17711 28657 46368 75025 121393 196418 317811 514229 832040 1346269 2178309 3524578 5702887 9227465 14930352 24157817 39088169 63245986 102334155 165580141 267914296 433494437 701408733 1134903170 1836311903 2971215073 4807526976 7778742049 12586269025 20365011074 32951280099 53316291173 86267571272 139583862445 225851433717 365435296162 591286729879 956722026041 1548008755920 2504730781961 4052739537881 6557470319842 10610209857723 17167680177565 27777890035288 44945570212853 72723460248141 117669030460994 190392490709135 308061521170129 498454011879264 806515533049393 1304969544928657 2111485077978050 3416454622906707 5527939700884757 8944394323791464 14472334024676221 23416728348467685 37889062373143906 61305790721611591 99194853094755497 160500643816367088 259695496911122585 420196140727489673 679891637638612258 1100087778366101931 1779979416004714189 2880067194370816120 4660046610375530309 7540113804746346429 12200160415121876738 19740274219868223167 31940434634990099905 51680708854858323072 83621143489848422977 135301852344706746049  </p>\n",
              "    </div>\n",
              "    \n",
              "    <div name=\"N100\" style=\"display:none\">\n",
              "      <p> 0 1 1 2 3 5 8 13 21 34 55 89 144 233 377 610 987 1597 2584 4181 6765 10946 17711 28657 46368 75025 121393 196418 317811 514229 832040 1346269 2178309 3524578 5702887 9227465 14930352 24157817 39088169 63245986 102334155 165580141 267914296 433494437 701408733 1134903170 1836311903 2971215073 4807526976 7778742049 12586269025 20365011074 32951280099 53316291173 86267571272 139583862445 225851433717 365435296162 591286729879 956722026041 1548008755920 2504730781961 4052739537881 6557470319842 10610209857723 17167680177565 27777890035288 44945570212853 72723460248141 117669030460994 190392490709135 308061521170129 498454011879264 806515533049393 1304969544928657 2111485077978050 3416454622906707 5527939700884757 8944394323791464 14472334024676221 23416728348467685 37889062373143906 61305790721611591 99194853094755497 160500643816367088 259695496911122585 420196140727489673 679891637638612258 1100087778366101931 1779979416004714189 2880067194370816120 4660046610375530309 7540113804746346429 12200160415121876738 19740274219868223167 31940434634990099905 51680708854858323072 83621143489848422977 135301852344706746049 218922995834555169026  </p>\n",
              "    </div>\n",
              "    \n",
              "      <b>N:</b> <input type=\"range\" name=\"N\" min=\"1\" max=\"100\" step=\"1\" value=\"10\" style=\"width:350px\" oninput=\"interactUpdate(this.parentNode);\" onchange=\"interactUpdate(this.parentNode);\">\n",
              "    </div>\n",
              "    "
            ],
            "text/plain": [
              "<pyquickhelper.ipythonhelper.interact.StaticInteract at 0x8feaa90>"
            ]
          },
          "execution_count": null,
          "metadata": {},
          "output_type": "execute_result"
        }
      ],
      "source": [
        "def show_fib(N):\n",
        "    sequence = \"\"\n",
        "    a, b = 0, 1\n",
        "    for i in range(N):\n",
        "        sequence += \"{0} \".format(a)\n",
        "        a, b = b, a + b\n",
        "    return sequence\n",
        "\n",
        "StaticInteract(show_fib,\n",
        "               N=RangeWidget(1, 100, default=10))"
      ]
    },
    {
      "cell_type": "markdown",
      "metadata": {},
      "source": [
        "In order to have a fast display, the function ``show_lib`` is called for each possible version. If it is a graph, all possible graphs will be generated."
      ]
    },
    {
      "cell_type": "code",
      "execution_count": null,
      "metadata": {
        "collapsed": false
      },
      "outputs": [],
      "source": [
        "%matplotlib inline\n",
        "import numpy as np\n",
        "import matplotlib.pyplot as plt\n",
        "\n",
        "def plot(amplitude, color):\n",
        "    fig, ax = plt.subplots(figsize=(4, 3),\n",
        "                           subplot_kw={'axisbg':'#EEEEEE',\n",
        "                                       'axisbelow':True})\n",
        "    ax.grid(color='w', linewidth=2, linestyle='solid')\n",
        "    x = np.linspace(0, 10, 1000)\n",
        "    ax.plot(x, amplitude * np.sin(x), color=color,\n",
        "            lw=5, alpha=0.4)\n",
        "    ax.set_xlim(0, 10)\n",
        "    ax.set_ylim(-1.1, 1.1)\n",
        "    return fig"
      ]
    },
    {
      "cell_type": "code",
      "execution_count": null,
      "metadata": {
        "collapsed": false
      },
      "outputs": [
        {
          "data": {
            "text/html": [
              "\n",
              "    <script type=\"text/javascript\">\n",
              "      var mergeNodes = function(a, b) {\n",
              "        return [].slice.call(a).concat([].slice.call(b));\n",
              "      }; // http://stackoverflow.com/questions/914783/javascript-nodelist/17262552#17262552\n",
              "      function interactUpdate(div){\n",
              "         var outputs = div.getElementsByTagName(\"div\");\n",
              "         //var controls = div.getElementsByTagName(\"input\");\n",
              "         var controls = mergeNodes(div.getElementsByTagName(\"input\"), div.getElementsByTagName(\"select\"));\n",
              "         function nameCompare(a,b) {\n",
              "            return a.getAttribute(\"name\").localeCompare(b.getAttribute(\"name\"));\n",
              "         }\n",
              "         controls.sort(nameCompare);\n",
              "\n",
              "         var value = \"\";\n",
              "         for(i=0; i<controls.length; i++){\n",
              "           if((controls[i].type == \"range\") || controls[i].checked){\n",
              "             value = value + controls[i].getAttribute(\"name\") + controls[i].value;\n",
              "           }\n",
              "           if(controls[i].type == \"select-one\"){\n",
              "             value = value + controls[i].getAttribute(\"name\") + controls[i][controls[i].selectedIndex].value;\n",
              "           }\n",
              "         }\n",
              "\n",
              "         for(i=0; i<outputs.length; i++){\n",
              "           var name = outputs[i].getAttribute(\"name\");\n",
              "           if(name == value){\n",
              "              outputs[i].style.display = 'block';\n",
              "           } else if(name != \"controls\"){\n",
              "              outputs[i].style.display = 'none';\n",
              "           }\n",
              "         }\n",
              "      }\n",
              "    </script>\n",
              "\n",
              "    <div>\n",
              "      \n",
              "    <div name=\"amplitude0.1colorblue\" style=\"display:none\">\n",
              "      <img src=\"data:image/png;base64,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\">\n",
              "    </div>\n",
              "    \n",
              "    <div name=\"amplitude0.1colorgreen\" style=\"display:none\">\n",
              "      <img src=\"data:image/png;base64,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\">\n",
              "    </div>\n",
              "    \n",
              "    <div name=\"amplitude0.1colorred\" style=\"display:none\">\n",
              "      <img src=\"data:image/png;base64,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\">\n",
              "    </div>\n",
              "    \n",
              "    <div name=\"amplitude0.2colorblue\" style=\"display:none\">\n",
              "      <img src=\"data:image/png;base64,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\">\n",
              "    </div>\n",
              "    \n",
              "    <div name=\"amplitude0.2colorgreen\" style=\"display:none\">\n",
              "      <img src=\"data:image/png;base64,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\">\n",
              "    </div>\n",
              "    \n",
              "    <div name=\"amplitude0.2colorred\" style=\"display:none\">\n",
              "      <img src=\"data:image/png;base64,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\">\n",
              "    </div>\n",
              "    \n",
              "    <div name=\"amplitude0.3colorblue\" style=\"display:none\">\n",
              "      <img src=\"data:image/png;base64,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\">\n",
              "    </div>\n",
              "    \n",
              "    <div name=\"amplitude0.3colorgreen\" style=\"display:none\">\n",
              "      <img src=\"data:image/png;base64,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\">\n",
              "    </div>\n",
              "    \n",
              "    <div name=\"amplitude0.3colorred\" style=\"display:none\">\n",
              "      <img src=\"data:image/png;base64,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\">\n",
              "    </div>\n",
              "    \n",
              "    <div name=\"amplitude0.4colorblue\" style=\"display:none\">\n",
              "      <img src=\"data:image/png;base64,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\">\n",
              "    </div>\n",
              "    \n",
              "    <div name=\"amplitude0.4colorgreen\" style=\"display:none\">\n",
              "      <img src=\"data:image/png;base64,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\">\n",
              "    </div>\n",
              "    \n",
              "    <div name=\"amplitude0.4colorred\" style=\"display:block\">\n",
              "      <img src=\"data:image/png;base64,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\">\n",
              "    </div>\n",
              "    \n",
              "    <div name=\"amplitude0.5colorblue\" style=\"display:none\">\n",
              "      <img src=\"data:image/png;base64,iVBORw0KGgoAAAANSUhEUgAAAQ0AAADDCAYAAACYh0R4AAAABHNCSVQICAgIfAhkiAAAAAlwSFlzAAALEgAACxIB0t1+/AAAHCdJREFUeJzt3XtwXPd12PHv2QdIgk9QD4IkKPD9DN8CQfEhrhTGZihFciZpHKcZezKZ1tNWribTdmynnYb9K3FnMm0ynjaqa2eUNLWcuK4ija1KVMuVRIkkRIKQSIKkSPEFgi+RAJ/gA7t7+sddKNDuXWDvLnbvvYvzmfFoH3fvHoN3z/39zu93f1dUFWOMKVbE7wCMMeFiScMY44klDWOMJ5Y0jDGeWNIwxngS8zuAASJiwzjG+ERVpdhtA5M0AHp6evwOoSgNDQ3s2LGDF1980e9QimYxV17Y4gUnZpGi8wVg3RNjjEeWNIwxnpSdNETkRyJyWUQODbHNn4vICRH5SERWl/udQZBIJPwOwTOLufLCFm8ppNxp5CKyGbgN/JWqLnd5fzvwgqpuF5FW4M9Udb3LdhqmmgZAb2+vz5EUz2KuvLDFC/9Q0/BSCC27paGq7wFD/ZWeA17ObrsPmCIi08r9XmOMP6oxejIT6Br0/DzQBFzO3XAgU4dF2OIFi7kawhavV9Uacs1t+rj2iXbs2PH540QiMSr6h8ZUWzKZJJlMlvz5smsaACIyG3i9QE3jL4Ckqr6SfX4M2KKql3O2s5pGBVnMlRe2eMGnmkYRXgO+DiAi64HruQnDGBMeZXdPROTHwBbgYRHpAv4IiAOo6kuq+gsR2S4iJ4E7wO+V+53GGP+UnTRU9WtFbPNCud9jjAkGmxFqjPHEkoYxxhNLGsYYTyxpGGM8saRhjPHEkoYxxhNLGsYYTyxpGGM8saRhjPHEkoYxxhNLGsYYTyxpGGM8saRhjPHEkoYxxhNLGsYYTyxpGGM8saRhjPHEkoYxxhNLGsYYTyxpGGM8saRhjPHEkoYxxhNLGsYYTyxpGGM8saRhjPHEkoYxxhNLGsYYTyxpGGM8saRhjPGk7KQhIttE5JiInBCRb7u8nxCRGyJyMPu/f1fudxpj/BMr58MiEgW+D2wFuoEPReQ1VT2as+k7qvpcOd9VSffuQU+PcPeucP8+RKMwZgxMmqRMmaJErD1mBkmlnOPlzh3h3j3ntTFjoKkJpk71N7ZqKCtpAOuAk6p6BkBEXgGeB3KThpT5PSPu+nXh1KkIZ89GuHGjcHixGDQ2Zpg9O0Nzc4Z4vIpBmsDo64MzZyKcORPl6lUhk8nfZvx4EIFx4+I0N2eYOzdNfX31Y600UdXSPyzym8CXVfWfZJ//LtCqqt8atM0W4GfAeZzWyL9W1U6XfWk5sRTr0iU4eBC6urx/dswYWLYMli93Hpvad+sWdHTA8eO4JoqhRCKwYAGsXg2TJlUmvpEgIqhq0Sf2clsaxfzK24FZqtonIr8KvAosdNtwx44dnz9OJBIkEokyw/sHfX2wdy+cPFn6Pu7fh/Z26OyE1lZYuNA5s5jak047yaKjw3lcikzGSTYnTsCKFbBmjdNy9VsymSSZTJb8+XJbGuuBHaq6Lfv8u0BGVb83xGdOA2tVtSfnde3p6SnwqfKcPRvh/fdjPHgwMvsbP348AFOm3GLTphTjxo3MfiupoaEBgN7eXp8jKZ5fMff0CO+8Exuy2+pm4Li4c+eO6/uTJilbtqR46KHKt6iL1dDQUPWWxn5ggYjMBi4AXwW+NngDEZkGXFFVFZF1OImqMtkhRyYDbW1Rjh2LDrmdCEyZojQ0KHV1SiYj3LkD165FPi90uenujvD663U8+WQ/jY3BORBM6T75JMK+fbFhWxcTJihTpyrjxoGI0tcnPHjgdGcKuXlT+PnP47S0pFiyxGNfJ0DKShqqmhKRF4A3gSjwQ1U9KiLfzL7/EvCbwD8TkRTQB/x2mTEXpb8fdu2KceFC4aGPiROVJUvSzJmTcW0tqMKVK8LJk1E+/TTi2qft64O33oqzcWOKefPCeyCMdqqwf3+UI0cKn2DGjIFFi9LMm5dh8uT8k0RDA9y4AQcOpDl+POp6wslkYN++GDdvplm3Lh3K7m1Z3ZORNJLdk74+ePvtOD097v8iY8fCmjUpFizIFP2PducOHDgQ49SpSMFm6Nq1aZYvL7EDXGHWPSksk4H334/x6afuJ5hIBJYtS7NiRXrI0bPB8aZScOhQlMOHowVbLY89liGRSPk6pO9H9yRw7t6FN9+MF+yPNjdn2LAh5Xn0Y/x4ePLJFHPnCh0dzvfkOnAgiiqsWBHMxGHyZTKQTMY4d879l9vQ4NQhpkzxdnKNxWD16jTz5qV55504167lH4/nzkXYtStGIpEiOnQPOlBqatrSvXuFE0YkAq2tKZ56ynvCGKypSfmN34DGRvf329ujHDoUoiNgFFOF3bsLJ4wFCzI8+2y/54Qx2KRJsH17P4sXu59IuroiJJMxz8O5fqqZpNHfDzt3xrl+PT9hxGLw9NP9I1Z8qq+HZ56BOXPc93fgQJRPPqmZP23N2rvX6W66WbMmzcaNI9MCiEZh/fo0LS3uNYyurgh79oSn0V8TR7YqvPNOzLUJOGYMbNvWT1PTyNZuolGnu1LoDLJ3b4zu7hBWuUaJjz+Ocvx4/uEvAhs2pCrSxVy2zElEbonjxIkIHR3haKHWRNJoa4ty/nz+/5W6OviVX+nn4YcrU+wVgdbWNIsW5bc4nL5y4WKs8c/ZsxHa291/oOvXp1i4sHJ9hfnzMwUTR0dHlBMngv+TDH6Ewzh+PMLRo/kHQCwGW7dWLmEMEHEOtPnz8w+0gWHf+/crGoLx4OpV4b333LsC69alXE8AI23+/Azr16dc39u7N8bVq8E+0YQ6aVy7JrS15R8AIrBlS4pHH63OcPJAk3bGjPwD7tYt4d13YwRkZHtUu3/fGSlJufxely9Ps3Rp9aqRixZlXLtA6bQT41CTCv0W2qQxcAC4jYG3tKSYNau65ehIBBKJFA0N+dmhuzvCRx+Fo79ay3bvjnH7dv5Z/LHHMqxZU/1h8jVr0q4TAm/fDvaJJpRJY2Co7Nat/ANg4cJMVc8Yg9XVOaM0bkO6HR1RK4z66MiRKF1d+Yf7Qw8pmze71xiqYcMG92tRLlwI7okmlEnj6NFIwQOgtdW9r1gtEyfC5s39ru+9/3480M3OWnXlinDgQP4PcMwYSCT6fV0jJRp1Yhg7Nv+9jz6KcuVK8E40oUsa168LBw7k1zHq6pw/fhBm1jU1KatW5Td3+/rggw/CMx5fC/r74b333CdPbdqUYuLE6seUa+BEk9vaUXViH6mrs0dKqJJGJgPvvutex9i8ORgHwICVK9OuhdFz5yI28auKDhyIunZjly1LV73uNZSZM5WVK/MP7Fu3hH37gnWiCdXR29ERdZ33sGRJsA4AcEZUNm5MuTY729pi3LxZ/ZhGm+5ucV0W4ZFHlLVrg3d90MqVadcRv08/jXDmTHB+qsGJZBhXrojrNR1TpiiPPx68AwCci9yeeCK/xpJKwZ498cBWx2vB/fvwwQf5xYpYzOkKBHGxaBHYtMm9xrJvX3CGYQP4p8uXTjuXLuf+yCIRp1sShDpGIc3NGdcZhhcvius0ZjMy2tpiuC2gtXZtKtDrdU6ahOvEr7t3cZ2T5IdQHLUffxx1vXJ11ap0oJZOK6SlJcXEiflxHjgQ4/ZtHwKqcRcuiOvaGDNnZli8OFjdWDfz5jkr3+c6dcp91LDa/I9gGL297t2SRx7RwC54kysed++m9PcTqqsbwyCdxrVwWFfnzIkIy0pZra3uSzjs2eP/aEqgk4aqM0SZO1wWiVDwop+gmjFDXbsp3d2RgitGGe86O91bpS0tKbILroVCfb1zLUyuvj7Yv9/fE02gj9ajRyN89ln+AbB8ebqshVH88vjj7gfuhx/aRW0j4fZtXGdRTpumLFgQ/G5JrnnzMjQ15cf9yScRXyd9BTZp3L4NBw/mZ9TJkzW0y+nV1bkXue7dg/Z266aU68MP8y9Gi0Tc/+Zh8cQTKerq8l/fs8e/1b4CmzQ+/DBGv8ts7A0bgj1aMpxZszKuK34dP+7eqjLFOX9eOHs2/3BevDjtehFhWIwfD6tX5ye93l5xXRKiGgKZNLq7Cx8A06aF9wAY0NJS+Oxhcze8S6fdhyPr63Gdzh82ixdnXNeF6eiIug4rV1rgkkah6nd9Pb5cvlwJzsGcf/bo6RGOHg3cP0ngHTkS5ebN/Fba44+7J+ewGVjoKbfw39/vz9yNwB2hnZ21fQAMWLIk4zrHpKMjRl+fDwGF1K1bzjyeXNOnK3Pnhq/4WcjDDyuLFuWfNM+ejXD+fHW7tYFKGnfuuFe/Gxtr6wCAwmePBw+ceo4pTqHip99LJFTCmjVp6uvzXy/mNpIjKVBJYzQdAOBMUHM7e5w+HeHCBSuKDuf8eXG9Z8mSJeEckh9OXZ3T4s5165b7BMhKCVTScLuSb9GicFe/h7N6ddr1PrL79oXrBjrVVqj2NX58bRQ/C5k7N+O65MKhQ9GqXTkdqKSRa9w450dVy8aMcS6iynXjhtDZGeKx5Qo7dMh9nYzHH0/5uhJXNbS2pvOu0i00glQJgU4aa9fWVvGzkHnzMq5DyX4NqQXdzZu4NsdnzHCfA1NrJk9Wli3LP5meP1+dC9rK/gYR2SYix0TkhIh8u8A2f559/yMRWV3MfqdNU9eVmmuRc9Ol/KJoKmVFUTdtbfmFP6f2Vdut0sFWrkwzYUL+iaatLep6i4aRVFbSEJEo8H1gG7AU+JqILMnZZjswX1UXAP8U+K/D79f9R1TLpk5V11s8njkTsVXMB+nqirjeTW/ZsjSTJ9du7StXLAYtLe7LA1a6KFpuS2MdcFJVz6hqP/AK8HzONs8BLwOo6j5giohMG2qnixalmTp19BwAA1avDsaQWlClUs6ZNNeECeG9Hqkczc0ZZs7Mb40fPlzZomi5bd+ZQNeg5+eB1iK2aQIu5+5s/PjxjB0LTz+N61oCQdPQ0DDi+3z6adi164uvpdPQ1QWri+rYDa0SMVfaQMz79zuLS+deKbx1Kzz6qA+BFVDNv/GXvwx/93fkjbQdOTKe7dsr853lJo1imwO57WvXz73++us0N5/h1KlrJBIJEolEWcGF0YIFcOwYXLz4xdcPHnTemzDBn7j8duMGfPRR/utNTTBnTvXjCYrJk2HlSuf4GOz8eTh92v1vk0wmSSaTJX+naBlXSInIemCHqm7LPv8ukFHV7w3a5i+ApKq+kn1+DNiiqpdz9qV//de32L49//4PQTNwJunt7a3I/nt7hddfj+edPZqbMzz1VGlVrkrHXAmDY965M0Z39xd709EoPP/8g8Cs+enX3ziVgldfjefdcnLCBOUrX+knNkTToKGhARFBVYv+1ZVb09gPLBCR2SJSB3wVeC1nm9eAr8PnSeZ6bsIYMNqKn4U0NChLlgTjOoMgOHs2kpcwAH7pl9KBSRh+isVg3br84+X2banIrR3LShqqmgJeAN4EOoGfqOpREfmmiHwzu80vgFMichJ4CfjnhfbndvnvaLVqlRVFYWDY2b34GZY1YqvhscfcV/k6csR9+cNylD1PQ1XfUNVFqjpfVf84+9pLqvrSoG1eyL6/UlXby/3O0SAeL3ydweHDo2emaHs7rnd6X7cuPWSzezRaty5/gapMxn3EqRyBnhE62s2dm2H69PzWlzOF2oeAquz6dfj44/zXm5oyPPbY6Jj458WkSU6XLVd398jeoc2SRsC1tqbyrjMYLTNF338/fygxGnVfpds4li9Pu95jp9DymaWwpBFwU6a4F0XPnavtoujp0xG6u/NfX77cip9DKVQULbRWTSksaYTAqlVp11sf1GpRtNBCRBMnWvGzGLNmZVxviN7ZGeX69fJPNJY0QmCoomg1F1+plvb2qOuSh62t4V6JvpoKFUXd1iDxypJGSMyZU3jxlVoqil69Khw/np8ZmpszNDXZkHyxJk7EtVV28aJw+nR5P3tLGiHi9+IrlaYKe/fm38YhHrfiZykqVRS1pBEihRZf6eoKxt3Ey3XsWISrV/P73IVqOmZo0aj7+rp9fc4CT6UK/5E2yqxY4f4DqsbiK5V05477bTinTsV19MgUp6lJXee0HD1aelHUkkbIxOPOHdpyhb0oumdPjAcP8l/fvJm8LpnxpqUllTd7NpNxuoKlsH+OEJo9u/DiKyN9nUE1fPqp+2pcixfDtCGXazLFmDgR10WKLl0STpzwvj9LGiG1bp17UXT37nDdD/buXfc5GfX10Jq7nJMp2bJlaSZNyj8wPvjA+74saYRUoaLoZ5+Fq5uyb1+Me/fyX3/iiVQoVm8Li0LT7+/f974vSxohtnKl+9mjoyNKT0/wuymnT7tfSDV3rvuMRlOepqaRub2pJY0Qi8Vg06b8hYsyGaebEuQ7tN2+7RQ/c40da3MyKqm1NeW6TosXljRC7tFH1fVy6J4eob09mN0UVdi9O+46WtLammLs2OrHNFqMGeN0/cphSaMGrFrlfr/bw4ejgbwS9tChKJcu5cc1Z87ouEOa32bNyjB/ful/Z0saNSAadbopbvMZdu+OB+rWjpcvi+tsxAkTlPXrrVtSLS0tqZJn2VrSqBEPPaSsWZPfTbl3D959Nx6IYdi+PnjnnfxV1kWcpGejJdXjdFOGXqm8EEsaNWTZsrTr4rKXLwt79vgQ0CCZDCSTcddL3pcvT9PYGICsNso0NSm/8zveP2dJo4YMnLHdmp2HD0NnZ/VjGtDWFuXKlfw6xrRpyqpVdm2JX0opOlvSqDFjx8KTT/a71jc++AAuXKh+YfTw4SjHjuXXMerrYcsW91hNcNk/Vw2aNk1dV/oa6CJcu1a9xHHqVIT9+/MTRiTiJIxy5wyY6rOkUaOWLs2waFF+fePBA9i5Mz4ia0UOp6srwu7d7pW2lpYU06ZZHSOMLGnUsNbWlOt9U+7dg7feilf0itiurgi7drnPSl26NM2SJTYfI6wsadSwSAQSiX4mT85PHH198MYbcT77bOQTx6lThRPG7NkZWlqs8BlmljRq3Jgx8KUv9bveK+TePXjzzThnz47MYaDqXCz37rvuCaOxUdm82W7yHXaWNEaB8ePhmWdgwoT891Ip2LUrRltbtKx7qNy9C2+/HSu49mRjo/LLv9xvtyCoAZY0RomJE+HZZ3FdnRqcG+m89lqcixe9NQNU4cSJCH//93V0d7sfTtOnK1u39hOPew7bBFDJa9+LyFTgJ0AzcAb4LVW97rLdGeAmkAb6VXVdqd9pyjNpEmzf3s/bb7sPu964Ibz5ZpyZMzMsXZpmxgwt2JVIpeDs2QiHD0fp7S2caObMybBpk93kqJaUc8OM7wA7VfU/isi3s8+/47KdAglV7Snju8wIGTcOtm3rZ/fuWMFaRnd3hO7uCOPGQWNjhqlTlbFjlUwG7t4Vrl0TLl6MDLv6+YoVaVavTlsNo8aUkzSeA7ZkH78MJHFPGgB22ARIPA5PPZWiszPC/v2FF+u5e9dZXev0aW/7HzcONm7stzui1SjREi9/FJFeVW3IPhagZ+B5znangBs43ZOXVPUHBfanpcZiStfbC++9B5cujcz+5s2DDRucxGHCQURQ1aJP7EO2NERkJ9Do8ta/HfxEVVVECv3iN6rqRRF5BNgpIsdU9T23DXfs2PH540QiQSKRGCo8MwIaGuDXfg1OnoT2drhxo7T9NDZCSwtMnz6y8ZmRl0wmSSaTJX++nJbGMZxaxSURmQ7sUtXFw3zmj4DbqvqnLu9pT084yh4NDU6Dqre31+dIildMzKpw7lyEU6ec+5AMNwQ7dqyzCtSCBWkefXTkW4lh+zuHLV5wYh7RlsYwXgO+AXwv+99XczcQkXogqqq3RGQ88CXgP5TxnaaCRJy7szc3Z0ilnDu4X7sWoa8P7t8XIhGIx5VJk5SHHlKmTlW7QnUUKidp/AnwtyLy+2SHXAFEZAbwA1V9Bqdr8zOn5EEM+BtVfausiE1VxGLOhKzGRpvybb6o5KSRHULd6vL6BeCZ7ONTwKqSozPGBI41Lo0xnljSMMZ4YknDGOOJJQ1jjCeWNIwxnljSMMZ4YknDGOOJJQ1jjCeWNIwxnljSMMZ4YknDGOOJJQ1jjCeWNIwxnljSMMZ4YknDGOOJJQ1jjCeWNIwxnljSMMZ4YknDGOOJJQ1jjCeWNIwxnljSMMZ4YknDGOOJJQ1jjCeWNIwxnljSMMZ4YknDGOOJJQ1jjCeWNIwxnpScNETkH4nIERFJi8iaIbbbJiLHROSEiHy71O8zxgRDOS2NQ8CvA+8W2kBEosD3gW3AUuBrIrKkjO80xvgsVuoHVfUYgIgMtdk64KSqnslu+wrwPHC01O81xvir5KRRpJlA16Dn54HWQhs3NDRUOJyRFbZ4wWKuhrDF69WQSUNEdgKNLm/9oaq+XsT+1UswO3bs+PxxIpEgkUh4+bgxpgjJZJJkMlny50XV0+86fwciu4B/partLu+tB3ao6rbs8+8CGVX9nsu22tPTU1Ys1TJwJunt7fU5kuJZzJUXtnjBiVlEUNUh6wyDjdSQa6Ev3A8sEJHZIlIHfBV4bYS+0xjjg3KGXH9dRLqA9cDPReSN7OszROTnAKqaAl4A3gQ6gZ+oqhVBjQmxkpOGqv5vVZ2lquNUtVFVfzX7+gVVfWbQdm+o6iJVna+qfzwSQQdBOX1Cv1jMlRe2eEthM0JLFMaDw2KuvLDFWwpLGsYYTyxpGGM8KXvIdaSISDACMWYU8jLkGpikYYwJB+ueGGM8saRhjPHEkoYxxhPfk0bYFukRkVkisiu7ANFhEfmXfsdUDBGJishBESnmQkPficgUEfmpiBwVkc7sdUyBJiJ/kD0mDonI/xSRMX7HNJiI/EhELovIoUGvTRWRnSLyiYi8JSJThtuPr0kjpIv09AN/oKrLcKbQ/4sQxAzwIs5U/rBUvv8M+IWqLgFWEPA1WERkJvAtYK2qLgeiwG/7G1Wev8T5rQ32HWCnqi4E/m/2+ZD8bml8vkiPqvYDA4v0BJaqXlLVjuzj2zgH8wx/oxqaiDQB24H/TuGLCwNDRCYDm1X1R+Bcw6SqN3wOqxgxoF5EYkA90O1zPF+gqu8BuZfgPge8nH38MvCV4fbjd9JwW6Rnpk+xeCYis4HVwD5/IxnWfwL+DZDxO5AizQE+E5G/FJF2EfmBiNT7HdRQVLUb+FPgHHABuK6qb/sbVVGmqerl7OPLwLThPuB30ghLUzmPiEwAfgq8mG1xBJKIPAtcUdWDhKCVkRUD1gD/RVXXAHcootnsJxFpwDlrz8ZpeU4QkX/sa1AeqTNpa9jfpN9JoxuYNej5LJzWRqCJSBz4X8D/UNVX/Y5nGBuA50TkNPBj4GkR+SufYxrOeeC8qn6Yff5TnCQSZFuB06p6LbskxM9w/vZBd1lEGgFEZDpwZbgP+J00QrdIjzgrKf8Q6FTV/+x3PMNR1T/MLmEwB6cw9/9U9et+xzUUVb0EdInIwuxLW4EjPoZUjLPAehEZlz1GtuIUnoPuNeAb2cffAIY9CVZ6YeEhqWpKRAYW6YkCPwzBIj0bgd8FPhaRg9nXvquq/8fHmLwIS5fwW8DfZE8mnwK/53M8Q1LVNhH5KdAOpLL//W/+RvVFIvJjYAvwcHYBrX8P/AnwtyLy+8AZ4LeG3Y9de2KM8cLv7okxJmQsaRhjPLGkYYzxxJKGMcYTSxrGGE8saRhjPLGkYYzx5P8DKMwdzNs0NeYAAAAASUVORK5CYII=\">\n",
              "    </div>\n",
              "    \n",
              "    <div name=\"amplitude0.5colorgreen\" style=\"display:none\">\n",
              "      <img src=\"data:image/png;base64,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\">\n",
              "    </div>\n",
              "    \n",
              "    <div name=\"amplitude0.5colorred\" style=\"display:none\">\n",
              "      <img src=\"data:image/png;base64,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\">\n",
              "    </div>\n",
              "    \n",
              "      <b>amplitude:</b> <input type=\"range\" name=\"amplitude\" min=\"0.1\" max=\"0.5\" step=\"0.1\" value=\"0.4\" style=\"width:350px\" oninput=\"interactUpdate(this.parentNode);\" onchange=\"interactUpdate(this.parentNode);\">\n",
              "<br>\n",
              "<b>color:</b> blue: <input type=\"radio\" name=\"color\" value=\"blue\"  onchange=\"interactUpdate(this.parentNode);\">      green: <input type=\"radio\" name=\"color\" value=\"green\"  onchange=\"interactUpdate(this.parentNode);\">      red: <input type=\"radio\" name=\"color\" value=\"red\" checked=\"checked\" onchange=\"interactUpdate(this.parentNode);\">\n",
              "    </div>\n",
              "    "
            ],
            "text/plain": [
              "<pyquickhelper.ipythonhelper.interact.StaticInteract at 0x8fe7898>"
            ]
          },
          "execution_count": null,
          "metadata": {},
          "output_type": "execute_result"
        }
      ],
      "source": [
        "StaticInteract(plot,\n",
        "               amplitude=RangeWidget(0.1, 0.5, 0.1, default=0.4),\n",
        "               color=RadioWidget(['blue', 'green', 'red'], default='red'))"
      ]
    },
    {
      "cell_type": "markdown",
      "metadata": {
        "collapsed": true
      },
      "source": [
        "### A form with IPython 3+"
      ]
    },
    {
      "cell_type": "markdown",
      "metadata": {},
      "source": [
        "Not yet ready and the form does not show up in the converted notebook. You need to execute the notebook."
      ]
    },
    {
      "cell_type": "code",
      "execution_count": null,
      "metadata": {
        "collapsed": false
      },
      "outputs": [],
      "source": [
        "from IPython.display import display\n",
        "from ipywidgets import Text\n",
        "last_name = Text(description=\"Last Name\")\n",
        "first_name = Text(description=\"First Name\")\n",
        "display(last_name)\n",
        "display(first_name)"
      ]
    },
    {
      "cell_type": "code",
      "execution_count": null,
      "metadata": {
        "collapsed": false
      },
      "outputs": [
        {
          "data": {
            "text/plain": [
              "('v2', 'v1')"
            ]
          },
          "execution_count": null,
          "metadata": {},
          "output_type": "execute_result"
        }
      ],
      "source": [
        "first_name.value, last_name.value"
      ]
    },
    {
      "cell_type": "markdown",
      "metadata": {
        "collapsed": true
      },
      "source": [
        "### Automated menu"
      ]
    },
    {
      "cell_type": "code",
      "execution_count": null,
      "metadata": {
        "collapsed": false
      },
      "outputs": [
        {
          "data": {
            "text/html": [
              "<div id=\"my_id_menu_nb\">run previous cell, wait for 2 seconds</div>\n",
              "<script>\n",
              "function repeat_indent_string(n){\n",
              "    var a = \"\" ;\n",
              "    for ( ; n > 0 ; --n) {\n",
              "        a += \"    \";\n",
              "    }\n",
              "    return a;\n",
              "}\n",
              "var update_menu = function() {\n",
              "    var anchors = document.getElementsByClassName(\"section\");\n",
              "    if (anchors.length == 0) {\n",
              "        anchors = document.getElementsByClassName(\"text_cell_render rendered_html\");\n",
              "    }\n",
              "    var i;\n",
              "    var text_menu = \"\";\n",
              "    var ind = \"\";\n",
              "    var memo_level = 1;\n",
              "    var href;\n",
              "    for (i = 0; i < anchors.length; i++) {\n",
              "        var child = anchors[i].children[0];\n",
              "        if (anchors[i].hasAttribute(\"id\")) {\n",
              "            href = anchors[i].id;\n",
              "        }\n",
              "        else if (child.hasAttribute(\"id\")) {\n",
              "            href = child.id;\n",
              "        }\n",
              "        else {\n",
              "            continue;\n",
              "        }\n",
              "        var title = child.textContent;\n",
              "        var level = parseInt(child.tagName.substring(1,2));\n",
              "        if ((level <= 2) || (level > 4)) {\n",
              "            continue ;\n",
              "        }\n",
              "        if (title.endsWith('\u00b6')) {\n",
              "            title = title.substring(0,title.length-1).replace(\"<\", \"&lt;\").replace(\">\", \"&gt;\").replace(\"&\", \"&amp;\")\n",
              "        }\n",
              "        if (title.length == 0) {\n",
              "            continue;\n",
              "        }\n",
              "        while (level > memo_level) {\n",
              "            text_menu += \"<ul>\\n\";\n",
              "            memo_level += 1;\n",
              "        }\n",
              "        while (level < memo_level) {\n",
              "            text_menu += \"</ul>\\n\";\n",
              "            memo_level -= 1;\n",
              "        }\n",
              "        text_menu += repeat_indent_string(level-2) + '<li><a href=\"#' + href + '\">' + title + '</a></li>';\n",
              "    }\n",
              "    while (1 < memo_level) {\n",
              "        text_menu += \"</ul>\\n\";\n",
              "        memo_level -= 1;\n",
              "    }\n",
              "    text_menu += \"\";\n",
              "    var menu = document.getElementById(\"my_id_menu_nb\");\n",
              "    menu.innerHTML=text_menu;\n",
              "};\n",
              "window.setTimeout(update_menu,2000);\n",
              "            </script>"
            ],
            "text/plain": [
              "<IPython.core.display.HTML object>"
            ]
          },
          "execution_count": null,
          "metadata": {},
          "output_type": "execute_result"
        }
      ],
      "source": [
        "from pyquickhelper.ipythonhelper import add_notebook_menu\n",
        "add_notebook_menu()"
      ]
    },
    {
      "cell_type": "code",
      "execution_count": null,
      "metadata": {
        "collapsed": true
      },
      "outputs": [],
      "source": []
    }
  ],
  "metadata": {
    "kernelspec": {
      "display_name": "Python 3",
      "language": "python",
      "name": "python3"
    },
    "language_info": {
      "codemirror_mode": {
        "name": "ipython",
        "version": 3
      },
      "file_extension": ".py",
      "mimetype": "text/x-python",
      "name": "python",
      "nbconvert_exporter": "python",
      "pygments_lexer": "ipython3",
      "version": "3.4.3"
    }
  },
  "nbformat": 4,
  "nbformat_minor": 0
}