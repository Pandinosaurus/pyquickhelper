{
 "metadata": {
  "name": "",
  "signature": "sha256:3e4967d6e4db2889ed46b4ffe9169e13faacbd8cec813eeecbf4bb4d3a278b86"
 },
 "nbformat": 3,
 "nbformat_minor": 0,
 "worksheets": [
  {
   "cells": [
    {
     "cell_type": "heading",
     "level": 1,
     "metadata": {},
     "source": [
      "Having a form in a notebook"
     ]
    },
    {
     "cell_type": "markdown",
     "metadata": {},
     "source": [
      "This following trick is inspired from [IPython Notebook: Javascript/Python Bi-directional Communication](https://jakevdp.github.io/blog/2013/06/01/ipython-notebook-javascript-python-communication/). The code is copy pasted below with some modifications."
     ]
    },
    {
     "cell_type": "code",
     "collapsed": false,
     "input": [
      "from IPython.display import HTML\n",
      "\n",
      "input_form = \"\"\"\n",
      "<div style=\"background-color:gainsboro; width:500px; padding:10px;\">\n",
      "<label>Variable Name: </label> \n",
      "<input type=\"text\" id=\"var_name\" value=\"foo\" size=\"170\" />\n",
      "<label>Variable Value: </label>\n",
      "<input type=\"text\" id=\"var_value\" value=\"bar\" />\n",
      "<br />\n",
      "<button onclick=\"set_value()\">Set Value</button>\n",
      "</div>\n",
      "\"\"\"\n",
      "\n",
      "javascript = \"\"\"\n",
      "<script type=\"text/Javascript\">\n",
      "    function set_value(){\n",
      "        var var_name = document.getElementById('var_name').value;\n",
      "        var var_value = document.getElementById('var_value').value;\n",
      "        var command = var_name + \" = '\" + var_value + \"'\";\n",
      "        console.log(\"Executing Command: \" + command);\n",
      "        \n",
      "        var kernel = IPython.notebook.kernel;\n",
      "        kernel.execute(command);\n",
      "    }\n",
      "</script>\n",
      "\"\"\"\n",
      "\n",
      "HTML(input_form + javascript)"
     ],
     "language": "python",
     "metadata": {},
     "outputs": [
      {
       "html": [
        "\n",
        "<div style=\"background-color:gainsboro; width:500px; padding:10px;\">\n",
        "<label>Variable Name: </label> \n",
        "<input type=\"text\" id=\"var_name\" value=\"foo\" size=\"170\" />\n",
        "<label>Variable Value: </label>\n",
        "<input type=\"text\" id=\"var_value\" value=\"bar\" />\n",
        "<br />\n",
        "<button onclick=\"set_value()\">Set Value</button>\n",
        "</div>\n",
        "\n",
        "<script type=\"text/Javascript\">\n",
        "    function set_value(){\n",
        "        var var_name = document.getElementById('var_name').value;\n",
        "        var var_value = document.getElementById('var_value').value;\n",
        "        var command = var_name + \" = '\" + var_value + \"'\";\n",
        "        console.log(\"Executing Command: \" + command);\n",
        "        \n",
        "        var kernel = IPython.notebook.kernel;\n",
        "        kernel.execute(command);\n",
        "    }\n",
        "</script>\n"
       ],
       "metadata": {},
       "output_type": "pyout",
       "prompt_number": 3,
       "text": [
        "<IPython.core.display.HTML at 0x6c449f0>"
       ]
      }
     ],
     "prompt_number": 3
    },
    {
     "cell_type": "code",
     "collapsed": false,
     "input": [
      "myvar"
     ],
     "language": "python",
     "metadata": {},
     "outputs": [
      {
       "metadata": {},
       "output_type": "pyout",
       "prompt_number": 4,
       "text": [
        "'changed from bar'"
       ]
      }
     ],
     "prompt_number": 4
    },
    {
     "cell_type": "markdown",
     "metadata": {},
     "source": [
      "Now we try to get something like this:"
     ]
    },
    {
     "cell_type": "code",
     "collapsed": false,
     "input": [
      "from pyquickhelper import open_html_form\n",
      "params= {\"module\":\"\", \"version\":\"v...\"}\n",
      "open_html_form(params, \"fill the fields\", \"form1\")"
     ],
     "language": "python",
     "metadata": {},
     "outputs": [
      {
       "html": [
        "<div style=\"background-color:gainsboro; padding:2px; border:0px;\"><b>fill the fields</b>\n",
        "<br />module <input type=\"text\" id=\"form1module\" value=\"\" size=\"80\" />\n",
        "<br />version <input type=\"text\" id=\"form1version\" value=\"v...\" size=\"80\" />\n",
        "<br /><button onclick=\"set_valueform1()\">Ok</button></div>\n",
        "<script type=\"text/Javascript\">\n",
        "function set_valueform1(){\n",
        "   command='form1 = {' ;\n",
        "   var form1modulevar_value = document.getElementById('form1module').value;\n",
        "   command += '\"module\":\"' + form1modulevar_value + '\",';\n",
        "   var form1versionvar_value = document.getElementById('form1version').value;\n",
        "   command += '\"version\":\"' + form1versionvar_value + '\",';\n",
        "   command += '}';\n",
        "   var kernel = IPython.notebook.kernel;\n",
        "   kernel.execute(command);\n",
        "}\n",
        "</script>"
       ],
       "metadata": {},
       "output_type": "pyout",
       "prompt_number": 1,
       "text": [
        "<IPython.core.display.HTML at 0x6c44970>"
       ]
      }
     ],
     "prompt_number": 1
    },
    {
     "cell_type": "code",
     "collapsed": false,
     "input": [
      "form1"
     ],
     "language": "python",
     "metadata": {},
     "outputs": [
      {
       "metadata": {},
       "output_type": "pyout",
       "prompt_number": 2,
       "text": [
        "{'module': 'version1', 'version': 'version2'}"
       ]
      }
     ],
     "prompt_number": 2
    },
    {
     "cell_type": "markdown",
     "metadata": {},
     "source": [
      "With a password:"
     ]
    },
    {
     "cell_type": "code",
     "collapsed": false,
     "input": [
      "from pyquickhelper import open_html_form\n",
      "params= {\"login\":\"\", \"password\":\"\"}\n",
      "open_html_form(params, \"credential\", \"credential\")"
     ],
     "language": "python",
     "metadata": {},
     "outputs": [
      {
       "html": [
        "<div style=\"background-color:gainsboro; padding:2px; border:0px;\"><b>credential</b>\n",
        "<br />login <input type=\"text\" id=\"credentiallogin\" value=\"\" size=\"80\" />\n",
        "<br />password <input type=\"password\" id=\"credentialpassword\" value=\"\" size=\"80\" />\n",
        "<br /><button onclick=\"set_valuecredential()\">Ok</button></div>\n",
        "<script type=\"text/Javascript\">\n",
        "function set_valuecredential(){\n",
        "   command='credential = {' ;\n",
        "   var credentialloginvar_value = document.getElementById('credentiallogin').value;\n",
        "   command += '\"login\":\"' + credentialloginvar_value + '\",';\n",
        "   var credentialpasswordvar_value = document.getElementById('credentialpassword').value;\n",
        "   command += '\"password\":\"' + credentialpasswordvar_value + '\",';\n",
        "   command += '}';\n",
        "   var kernel = IPython.notebook.kernel;\n",
        "   kernel.execute(command);\n",
        "}\n",
        "</script>"
       ],
       "metadata": {},
       "output_type": "pyout",
       "prompt_number": 2,
       "text": [
        "<IPython.core.display.HTML at 0x6c44930>"
       ]
      }
     ],
     "prompt_number": 2
    },
    {
     "cell_type": "code",
     "collapsed": false,
     "input": [
      "credential"
     ],
     "language": "python",
     "metadata": {},
     "outputs": [
      {
       "metadata": {},
       "output_type": "pyout",
       "prompt_number": 2,
       "text": [
        "{'login': 'admin', 'password': 'hiddenpassword'}"
       ]
      }
     ],
     "prompt_number": 2
    },
    {
     "cell_type": "code",
     "collapsed": false,
     "input": [],
     "language": "python",
     "metadata": {},
     "outputs": []
    }
   ],
   "metadata": {}
  }
 ]
}