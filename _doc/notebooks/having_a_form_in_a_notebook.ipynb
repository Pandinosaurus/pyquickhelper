{
 "cells": [
  {
   "cell_type": "markdown",
   "metadata": {},
   "source": [
    "# Having a form in a notebook"
   ]
  },
  {
   "cell_type": "markdown",
   "metadata": {},
   "source": [
    "This following trick is inspired from [IPython Notebook: Javascript/Python Bi-directional Communication](https://jakevdp.github.io/blog/2013/06/01/ipython-notebook-javascript-python-communication/). The code is copy pasted below with some modifications."
   ]
  },
  {
   "cell_type": "code",
   "execution_count": 3,
   "metadata": {
    "collapsed": false
   },
   "outputs": [
    {
     "data": {
      "text/html": [
       "\n",
       "<div style=\"background-color:gainsboro; width:500px; padding:10px;\">\n",
       "<label>Variable Name: </label> \n",
       "<input type=\"text\" id=\"var_name\" value=\"foo\" size=\"170\" />\n",
       "<label>Variable Value: </label>\n",
       "<input type=\"text\" id=\"var_value\" value=\"bar\" />\n",
       "<br />\n",
       "<button onclick=\"set_value()\">Set Value</button>\n",
       "</div>\n",
       "\n",
       "<script type=\"text/Javascript\">\n",
       "    function set_value(){\n",
       "        var var_name = document.getElementById('var_name').value;\n",
       "        var var_value = document.getElementById('var_value').value;\n",
       "        var command = var_name + \" = '\" + var_value + \"'\";\n",
       "        console.log(\"Executing Command: \" + command);\n",
       "        \n",
       "        var kernel = IPython.notebook.kernel;\n",
       "        kernel.execute(command);\n",
       "    }\n",
       "</script>\n"
      ],
      "text/plain": [
       "<IPython.core.display.HTML at 0x6c449f0>"
      ]
     },
     "execution_count": 3,
     "metadata": {},
     "output_type": "execute_result"
    }
   ],
   "source": [
    "from IPython.display import HTML\n",
    "\n",
    "input_form = \"\"\"\n",
    "<div style=\"background-color:gainsboro; width:500px; padding:10px;\">\n",
    "<label>Variable Name: </label> \n",
    "<input type=\"text\" id=\"var_name\" value=\"foo\" size=\"170\" />\n",
    "<label>Variable Value: </label>\n",
    "<input type=\"text\" id=\"var_value\" value=\"bar\" />\n",
    "<br />\n",
    "<button onclick=\"set_value()\">Set Value</button>\n",
    "</div>\n",
    "\"\"\"\n",
    "\n",
    "javascript = \"\"\"\n",
    "<script type=\"text/Javascript\">\n",
    "    function set_value(){\n",
    "        var var_name = document.getElementById('var_name').value;\n",
    "        var var_value = document.getElementById('var_value').value;\n",
    "        var command = var_name + \" = '\" + var_value + \"'\";\n",
    "        console.log(\"Executing Command: \" + command);\n",
    "        \n",
    "        var kernel = IPython.notebook.kernel;\n",
    "        kernel.execute(command);\n",
    "    }\n",
    "</script>\n",
    "\"\"\"\n",
    "\n",
    "HTML(input_form + javascript)"
   ]
  },
  {
   "cell_type": "code",
   "execution_count": 4,
   "metadata": {
    "collapsed": false
   },
   "outputs": [
    {
     "data": {
      "text/plain": [
       "'changed from bar'"
      ]
     },
     "execution_count": 4,
     "metadata": {},
     "output_type": "execute_result"
    }
   ],
   "source": [
    "myvar"
   ]
  },
  {
   "cell_type": "markdown",
   "metadata": {},
   "source": [
    "Now we try to get something like this:"
   ]
  },
  {
   "cell_type": "code",
   "execution_count": 1,
   "metadata": {
    "collapsed": false
   },
   "outputs": [
    {
     "data": {
      "text/html": [
       "<div style=\"background-color:gainsboro; padding:2px; border:0px;\"><b>fill the fields</b>\n",
       "<br />module <input type=\"text\" id=\"form1module\" value=\"\" size=\"80\" />\n",
       "<br />version <input type=\"text\" id=\"form1version\" value=\"v...\" size=\"80\" />\n",
       "<br /><button onclick=\"set_valueform1()\">Ok</button></div>\n",
       "<script type=\"text/Javascript\">\n",
       "function set_valueform1(){\n",
       "   command='form1 = {' ;\n",
       "   var form1modulevar_value = document.getElementById('form1module').value;\n",
       "   command += '\"module\":\"' + form1modulevar_value + '\",';\n",
       "   var form1versionvar_value = document.getElementById('form1version').value;\n",
       "   command += '\"version\":\"' + form1versionvar_value + '\",';\n",
       "   command += '}';\n",
       "   var kernel = IPython.notebook.kernel;\n",
       "   kernel.execute(command);\n",
       "}\n",
       "</script>"
      ],
      "text/plain": [
       "<IPython.core.display.HTML at 0x6c44970>"
      ]
     },
     "execution_count": 1,
     "metadata": {},
     "output_type": "execute_result"
    }
   ],
   "source": [
    "from pyquickhelper import open_html_form\n",
    "params= {\"module\":\"\", \"version\":\"v...\"}\n",
    "open_html_form(params, \"fill the fields\", \"form1\")"
   ]
  },
  {
   "cell_type": "code",
   "execution_count": 2,
   "metadata": {
    "collapsed": false
   },
   "outputs": [
    {
     "data": {
      "text/plain": [
       "{'module': 'version1', 'version': 'version2'}"
      ]
     },
     "execution_count": 2,
     "metadata": {},
     "output_type": "execute_result"
    }
   ],
   "source": [
    "form1"
   ]
  },
  {
   "cell_type": "markdown",
   "metadata": {},
   "source": [
    "With a password:"
   ]
  },
  {
   "cell_type": "code",
   "execution_count": 5,
   "metadata": {
    "collapsed": false
   },
   "outputs": [
    {
     "data": {
      "text/html": [
       "<div style=\"background-color:gainsboro; padding:2px; border:0px;\"><b>credential</b>\n",
       "<br />login <input type=\"text\" id=\"credentiallogin\" value=\"\" size=\"80\" />\n",
       "<br />password <input type=\"password\" id=\"credentialpassword\" value=\"\" size=\"80\" />\n",
       "<br /><button onclick=\"set_valuecredential()\">Ok</button></div>\n",
       "<script type=\"text/Javascript\">\n",
       "function credentialcallback(msg) {\n",
       "   var ret = msg.content.data['text/plain'];\n",
       "   $('#outcredential').text(ret);\n",
       "}\n",
       "function set_valuecredential(){\n",
       "   command='credential = {' ;\n",
       "   var credentialloginvar_value = document.getElementById('credentiallogin').value;\n",
       "   command += '\"login\":\"' + credentialloginvar_value + '\",';\n",
       "   var credentialpasswordvar_value = document.getElementById('credentialpassword').value;\n",
       "   command += '\"password\":\"' + credentialpasswordvar_value + '\",';\n",
       "   command += '}';\n",
       "   var kernel = IPython.notebook.kernel;\n",
       "   kernel.execute(command);\n",
       "}\n",
       "</script>"
      ],
      "text/plain": [
       "<IPython.core.display.HTML at 0x7a0af50>"
      ]
     },
     "execution_count": 5,
     "metadata": {},
     "output_type": "execute_result"
    }
   ],
   "source": [
    "from pyquickhelper import open_html_form\n",
    "params= {\"login\":\"\", \"password\":\"\"}\n",
    "open_html_form(params, \"credential\", \"credential\")"
   ]
  },
  {
   "cell_type": "code",
   "execution_count": 6,
   "metadata": {
    "collapsed": false
   },
   "outputs": [
    {
     "data": {
      "text/plain": [
       "{'password': 'hiddenpassword', 'login': 'admin'}"
      ]
     },
     "execution_count": 6,
     "metadata": {},
     "output_type": "execute_result"
    }
   ],
   "source": [
    "credential"
   ]
  },
  {
   "cell_type": "markdown",
   "metadata": {},
   "source": [
    "To excecute an instruction when the button *Ok* is clicked:"
   ]
  },
  {
   "cell_type": "code",
   "execution_count": 3,
   "metadata": {
    "collapsed": false
   },
   "outputs": [
    {
     "data": {
      "text/html": [
       "<div style=\"background-color:gainsboro; padding:2px; border:0px;\"><b>enter your name</b>\n",
       "<br />first_name <input type=\"text\" id=\"my_addressfirst_name\" value=\"\" size=\"80\" />\n",
       "<br />last_name <input type=\"text\" id=\"my_addresslast_name\" value=\"\" size=\"80\" />\n",
       "<br /><button onclick=\"set_valuemy_address()\">Ok</button></div>\n",
       "<div id='outmyaddress'></div>\n",
       "<script type=\"text/Javascript\">\n",
       "function my_addresscallback(msg) {\n",
       "   var ret = msg.content.data['text/plain'];\n",
       "   $('#outmyaddress').text(ret);\n",
       "}\n",
       "function set_valuemy_address(){\n",
       "   command='my_address = {' ;\n",
       "   var my_addressfirst_namevar_value = document.getElementById('my_addressfirst_name').value;\n",
       "   command += '\"first_name\":\"' + my_addressfirst_namevar_value + '\",';\n",
       "   var my_addresslast_namevar_value = document.getElementById('my_addresslast_name').value;\n",
       "   command += '\"last_name\":\"' + my_addresslast_namevar_value + '\",';\n",
       "   command += '}';\n",
       "   var kernel = IPython.notebook.kernel;\n",
       "   kernel.execute(command);\n",
       "   kernel.execute('custom_action(my_address)', {iopub: {output: my_addresscallback}}, {silent: false});\n",
       "}\n",
       "</script>"
      ],
      "text/plain": [
       "<IPython.core.display.HTML at 0x73b3730>"
      ]
     },
     "execution_count": 3,
     "metadata": {},
     "output_type": "execute_result"
    }
   ],
   "source": [
    "my_address = None\n",
    "def custom_action(x):\n",
    "    x[\"combined\"] = x[\"first_name\"] + \" \" + x[\"last_name\"]\n",
    "    return str(x)\n",
    "from pyquickhelper import open_html_form\n",
    "params = { \"first_name\":\"\", \"last_name\":\"\" }\n",
    "open_html_form (params, title=\"enter your name\", key_save=\"my_address\", hook=\"custom_action(my_address)\")"
   ]
  },
  {
   "cell_type": "code",
   "execution_count": 4,
   "metadata": {
    "collapsed": false
   },
   "outputs": [
    {
     "data": {
      "text/plain": [
       "{'last_name': 'dupre', 'combined': 'xavier dupre', 'first_name': 'xavier'}"
      ]
     },
     "execution_count": 4,
     "metadata": {},
     "output_type": "execute_result"
    }
   ],
   "source": [
    "my_address"
   ]
  },
  {
   "cell_type": "markdown",
   "metadata": {},
   "source": [
    "**END**"
   ]
  },
  {
   "cell_type": "code",
   "execution_count": null,
   "metadata": {
    "collapsed": false
   },
   "outputs": [],
   "source": []
  }
 ],
 "metadata": {},
 "nbformat": 4,
 "nbformat_minor": 0
}