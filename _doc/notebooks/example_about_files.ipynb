{
 "metadata": {
  "name": "",
  "signature": "sha256:469ffb8e9d7a50e4fe4c6559f6f1978d33f1ddabfd7598bd8aae830b8a06302b"
 },
 "nbformat": 3,
 "nbformat_minor": 0,
 "worksheets": [
  {
   "cells": [
    {
     "cell_type": "heading",
     "level": 1,
     "metadata": {},
     "source": [
      "Helpers about files"
     ]
    },
    {
     "cell_type": "code",
     "collapsed": false,
     "input": [
      "from pyquickhelper import download, gzip_files, zip7_files"
     ],
     "language": "python",
     "metadata": {},
     "outputs": [],
     "prompt_number": 2
    },
    {
     "cell_type": "code",
     "collapsed": false,
     "input": [
      "download(\"https://docs.python.org/3.4/library/urllib.request.html\")"
     ],
     "language": "python",
     "metadata": {},
     "outputs": [
      {
       "metadata": {},
       "output_type": "pyout",
       "prompt_number": 2,
       "text": [
        "'.\\\\urllib.request.html'"
       ]
      }
     ],
     "prompt_number": 2
    },
    {
     "cell_type": "code",
     "collapsed": false,
     "input": [
      "gzip_files(\"request.html.gz\", [\"urllib.request.html\"])"
     ],
     "language": "python",
     "metadata": {},
     "outputs": [
      {
       "metadata": {},
       "output_type": "pyout",
       "prompt_number": 3,
       "text": [
        "1"
       ]
      }
     ],
     "prompt_number": 3
    },
    {
     "cell_type": "code",
     "collapsed": false,
     "input": [
      "os.listdir(\".\")"
     ],
     "language": "python",
     "metadata": {},
     "outputs": [
      {
       "metadata": {},
       "output_type": "pyout",
       "prompt_number": 5,
       "text": [
        "['example_about_files.ipynb',\n",
        " 'example_completion.ipynb',\n",
        " 'example_documentation.ipynb',\n",
        " 'example_pyquickhelper.ipynb',\n",
        " 'exemple_of_fix_menu.ipynb',\n",
        " 'having_a_form_in_a_notebook.ipynb',\n",
        " 'nbimage.png',\n",
        " 'request.html.gz',\n",
        " 'urllib.request.html']"
       ]
      }
     ],
     "prompt_number": 5
    },
    {
     "cell_type": "code",
     "collapsed": false,
     "input": [
      "ipy = [ _ for _ in os.listdir(\".\") if \".ipynb\" in _ ]\n",
      "zip7_files(\"notebooks.7z\", ipy)"
     ],
     "language": "python",
     "metadata": {},
     "outputs": [
      {
       "metadata": {},
       "output_type": "pyout",
       "prompt_number": 3,
       "text": [
        "6"
       ]
      }
     ],
     "prompt_number": 3
    },
    {
     "cell_type": "markdown",
     "metadata": {},
     "source": [
      "The following example get all files registered in a repository GIT or SVN."
     ]
    },
    {
     "cell_type": "code",
     "collapsed": false,
     "input": [
      "from pyquickhelper import explore_folder_iterfile_repo"
     ],
     "language": "python",
     "metadata": {},
     "outputs": [],
     "prompt_number": 1
    },
    {
     "cell_type": "code",
     "collapsed": false,
     "input": [
      "files = list ( explore_folder_iterfile_repo(\".\") )"
     ],
     "language": "python",
     "metadata": {},
     "outputs": [],
     "prompt_number": 2
    },
    {
     "cell_type": "code",
     "collapsed": false,
     "input": [
      "files"
     ],
     "language": "python",
     "metadata": {},
     "outputs": [
      {
       "metadata": {},
       "output_type": "pyout",
       "prompt_number": 3,
       "text": [
        "['example_completion.ipynb',\n",
        " 'example_about_files.ipynb',\n",
        " 'exemple_of_fix_menu.ipynb',\n",
        " 'having_a_form_in_a_notebook.ipynb',\n",
        " 'example_pyquickhelper.ipynb',\n",
        " 'example_documentation.ipynb',\n",
        " 'nbimage.png']"
       ]
      }
     ],
     "prompt_number": 3
    },
    {
     "cell_type": "code",
     "collapsed": false,
     "input": [],
     "language": "python",
     "metadata": {},
     "outputs": []
    }
   ],
   "metadata": {}
  }
 ]
}