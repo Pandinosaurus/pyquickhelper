{
 "cells": [
  {
   "cell_type": "markdown",
   "metadata": {},
   "source": [
    "# Helpers about files"
   ]
  },
  {
   "cell_type": "markdown",
   "metadata": {},
   "source": [
    "## compress"
   ]
  },
  {
   "cell_type": "code",
   "execution_count": 1,
   "metadata": {
    "collapsed": false
   },
   "outputs": [],
   "source": [
    "from pyquickhelper import download, gzip_files, zip7_files"
   ]
  },
  {
   "cell_type": "code",
   "execution_count": 2,
   "metadata": {
    "collapsed": false
   },
   "outputs": [
    {
     "data": {
      "text/plain": [
       "'.\\\\urllib.request.html'"
      ]
     },
     "execution_count": 2,
     "metadata": {},
     "output_type": "execute_result"
    }
   ],
   "source": [
    "download(\"https://docs.python.org/3.4/library/urllib.request.html\")"
   ]
  },
  {
   "cell_type": "code",
   "execution_count": 3,
   "metadata": {
    "collapsed": false
   },
   "outputs": [
    {
     "data": {
      "text/plain": [
       "1"
      ]
     },
     "execution_count": 3,
     "metadata": {},
     "output_type": "execute_result"
    }
   ],
   "source": [
    "gzip_files(\"request.html.gz\", [\"urllib.request.html\"])"
   ]
  },
  {
   "cell_type": "code",
   "execution_count": 4,
   "metadata": {
    "collapsed": false
   },
   "outputs": [
    {
     "data": {
      "text/plain": [
       "['.ipynb_checkpoints',\n",
       " 'example_about_files.ipynb',\n",
       " 'example_completion.ipynb',\n",
       " 'example_documentation.ipynb',\n",
       " 'example_pyquickhelper.ipynb',\n",
       " 'example_with_comments.ipynb',\n",
       " 'exemple_of_fix_menu.ipynb',\n",
       " 'having_a_form_in_a_notebook.ipynb',\n",
       " 'javascript_extension.ipynb',\n",
       " 'listfiles7z.txt',\n",
       " 'nbimage.png',\n",
       " 'notebooks.7z',\n",
       " 'notebook_with_svg.ipynb',\n",
       " 'request.html.gz',\n",
       " 'simple_example.ipynb',\n",
       " 'urllib.request.html']"
      ]
     },
     "execution_count": 4,
     "metadata": {},
     "output_type": "execute_result"
    }
   ],
   "source": [
    "import os\n",
    "os.listdir(\".\")"
   ]
  },
  {
   "cell_type": "code",
   "execution_count": 7,
   "metadata": {
    "collapsed": false
   },
   "outputs": [
    {
     "data": {
      "text/plain": [
       "11"
      ]
     },
     "execution_count": 7,
     "metadata": {},
     "output_type": "execute_result"
    }
   ],
   "source": [
    "ipy = [ _ for _ in os.listdir(\".\") if \".ipynb\" in _ ]\n",
    "if os.path.exists(\"notebooks.7z\"):\n",
    "    os.remove(\"notebooks.7z\")\n",
    "zip7_files(\"notebooks.7z\", ipy)"
   ]
  },
  {
   "cell_type": "markdown",
   "metadata": {},
   "source": [
    "The following example get all files registered in a repository GIT or SVN."
   ]
  },
  {
   "cell_type": "code",
   "execution_count": 8,
   "metadata": {
    "collapsed": false
   },
   "outputs": [],
   "source": [
    "from pyquickhelper import explore_folder_iterfile_repo"
   ]
  },
  {
   "cell_type": "code",
   "execution_count": 9,
   "metadata": {
    "collapsed": false
   },
   "outputs": [],
   "source": [
    "files = list ( explore_folder_iterfile_repo(\".\") )"
   ]
  },
  {
   "cell_type": "code",
   "execution_count": 10,
   "metadata": {
    "collapsed": false
   },
   "outputs": [
    {
     "data": {
      "text/plain": [
       "['exemple_of_fix_menu.ipynb',\n",
       " 'example_documentation.ipynb',\n",
       " 'example_with_comments.ipynb',\n",
       " 'nbimage.png',\n",
       " 'notebook_with_svg.ipynb',\n",
       " 'simple_example.ipynb',\n",
       " 'javascript_extension.ipynb',\n",
       " 'listfiles7z.txt',\n",
       " 'example_pyquickhelper.ipynb',\n",
       " 'having_a_form_in_a_notebook.ipynb',\n",
       " 'example_completion.ipynb',\n",
       " 'example_about_files.ipynb']"
      ]
     },
     "execution_count": 10,
     "metadata": {},
     "output_type": "execute_result"
    }
   ],
   "source": [
    "files"
   ]
  },
  {
   "cell_type": "markdown",
   "metadata": {},
   "source": [
    "## encrypt, decrypt"
   ]
  },
  {
   "cell_type": "code",
   "execution_count": 11,
   "metadata": {
    "collapsed": false
   },
   "outputs": [],
   "source": [
    "%load_ext pyquickhelper"
   ]
  },
  {
   "cell_type": "code",
   "execution_count": 16,
   "metadata": {
    "collapsed": true
   },
   "outputs": [],
   "source": [
    "%encrypt_file notebooks.7z notebooks.enc passwordpassword"
   ]
  },
  {
   "cell_type": "code",
   "execution_count": 17,
   "metadata": {
    "collapsed": false
   },
   "outputs": [],
   "source": [
    "%decrypt_file notebooks.enc notebooks2.7z passwordpassword"
   ]
  },
  {
   "cell_type": "code",
   "execution_count": null,
   "metadata": {
    "collapsed": true
   },
   "outputs": [],
   "source": []
  }
 ],
 "metadata": {
  "kernelspec": {
   "display_name": "Python 3",
   "language": "python",
   "name": "python3"
  },
  "language_info": {
   "codemirror_mode": {
    "name": "ipython",
    "version": 3
   },
   "file_extension": ".py",
   "mimetype": "text/x-python",
   "name": "python",
   "nbconvert_exporter": "python",
   "pygments_lexer": "ipython3",
   "version": "3.4.3"
  }
 },
 "nbformat": 4,
 "nbformat_minor": 0
}
