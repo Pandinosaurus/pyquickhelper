{
 "metadata": {
  "name": "",
  "signature": "sha256:fa430d7c64a9a3ed09d29090121e405961bb393758aac4c477521d64fb480bc2"
 },
 "nbformat": 3,
 "nbformat_minor": 0,
 "worksheets": [
  {
   "cells": [
    {
     "cell_type": "heading",
     "level": 1,
     "metadata": {},
     "source": [
      "Helpers about files"
     ]
    },
    {
     "cell_type": "code",
     "collapsed": false,
     "input": [
      "from pyquickhelper import download, gzip_files"
     ],
     "language": "python",
     "metadata": {},
     "outputs": [],
     "prompt_number": 1
    },
    {
     "cell_type": "code",
     "collapsed": false,
     "input": [
      "download(\"https://docs.python.org/3.4/library/urllib.request.html\")"
     ],
     "language": "python",
     "metadata": {},
     "outputs": [
      {
       "metadata": {},
       "output_type": "pyout",
       "prompt_number": 2,
       "text": [
        "'.\\\\urllib.request.html'"
       ]
      }
     ],
     "prompt_number": 2
    },
    {
     "cell_type": "code",
     "collapsed": false,
     "input": [
      "gzip_files(\"request.html.gz\", [\"urllib.request.html\"])"
     ],
     "language": "python",
     "metadata": {},
     "outputs": [
      {
       "metadata": {},
       "output_type": "pyout",
       "prompt_number": 3,
       "text": [
        "1"
       ]
      }
     ],
     "prompt_number": 3
    },
    {
     "cell_type": "code",
     "collapsed": false,
     "input": [
      "os.listdir(\".\")"
     ],
     "language": "python",
     "metadata": {},
     "outputs": [
      {
       "metadata": {},
       "output_type": "pyout",
       "prompt_number": 5,
       "text": [
        "['example_about_files.ipynb',\n",
        " 'example_completion.ipynb',\n",
        " 'example_documentation.ipynb',\n",
        " 'example_pyquickhelper.ipynb',\n",
        " 'exemple_of_fix_menu.ipynb',\n",
        " 'having_a_form_in_a_notebook.ipynb',\n",
        " 'nbimage.png',\n",
        " 'request.html.gz',\n",
        " 'urllib.request.html']"
       ]
      }
     ],
     "prompt_number": 5
    },
    {
     "cell_type": "code",
     "collapsed": false,
     "input": [],
     "language": "python",
     "metadata": {},
     "outputs": []
    }
   ],
   "metadata": {}
  }
 ]
}