{
 "metadata": {
  "name": "",
  "signature": "sha256:f83dd4f17f42992d17f075e576683360365583299a251886595e452743fc248f"
 },
 "nbformat": 3,
 "nbformat_minor": 0,
 "worksheets": [
  {
   "cells": [
    {
     "cell_type": "markdown",
     "metadata": {},
     "source": [
      "# example pyquickhelper #"
     ]
    },
    {
     "cell_type": "markdown",
     "metadata": {},
     "source": [
      "**Plan**\n",
      "\n",
      "* [Log, run_cmd](#log)\n",
      "* [Ask something to the user](#user)\n",
      "* [Explore a folder](#exp)\n",
      "\n",
      "<h3 id=\"log\">Log, run_cmd</h3>\n",
      "\n",
      "The function [fLOG](http://www.xavierdupre.fr/app/pyquickhelper/helpsphinx/pyquickhelper/loghelper/flog.html?highlight=flog) prints information on the standard output and in a file *temp_log.txt*:"
     ]
    },
    {
     "cell_type": "code",
     "collapsed": false,
     "input": [
      "from pyquickhelper import fLOG\n",
      "fLOG(OutputPrint=False)  # by default\n",
      "fLOG(\"not printed\")\n",
      "fLOG(OutputPrint=True)\n",
      "fLOG(\"printed\")"
     ],
     "language": "python",
     "metadata": {},
     "outputs": [
      {
       "output_type": "stream",
       "stream": "stdout",
       "text": [
        "2014-11-23 13:48:09 printed\n"
       ]
      }
     ],
     "prompt_number": 1
    },
    {
     "cell_type": "markdown",
     "metadata": {},
     "source": [
      "The function [run_cmd](http://www.xavierdupre.fr/app/pyquickhelper/helpsphinx/pyquickhelper/loghelper/flog.html?highlight=run_cmd#loghelper.flog.run_cmd) runs a command line and returns the standard output and error:"
     ]
    },
    {
     "cell_type": "code",
     "collapsed": false,
     "input": [
      "from pyquickhelper import run_cmd\n",
      "out,err=run_cmd(\"help\", wait=True)\n",
      "print(out)"
     ],
     "language": "python",
     "metadata": {},
     "outputs": [
      {
       "output_type": "stream",
       "stream": "stdout",
       "text": [
        "2014-11-23 13:48:13 execute  help\n",
        "2014-11-23 13:48:13 --linux ['help']\n",
        "2014-11-23 13:48:13 end of execution  help\n",
        "2014-11-23 13:48:13 error (log)\n",
        "/bin/sh: 1: help: not found\n",
        "\n"
       ]
      }
     ],
     "prompt_number": 2
    },
    {
     "cell_type": "markdown",
     "metadata": {},
     "source": [
      "<h3 id=\"user\">Ask something to the user</h3>"
     ]
    },
    {
     "cell_type": "code",
     "collapsed": false,
     "input": [
      "from pyquickhelper import open_window_params\n",
      "params = { \"name\":\"Xavier\",\n",
      "           \"last name\":\"\",\n",
      "           \"password\":\"\"}\n",
      "newparams = open_window_params (params, title=\"try the window\", help_string = \"unit test\", key_save=\"question1\")\n",
      "print(\"typed\",newparams)"
     ],
     "language": "python",
     "metadata": {},
     "outputs": [
      {
       "output_type": "stream",
       "stream": "stdout",
       "text": [
        "typed {'password': '', 'last name': '', '__cancel__': True, 'name': 'Xavier'}\n"
       ]
      }
     ],
     "prompt_number": 2
    },
    {
     "cell_type": "markdown",
     "metadata": {},
     "source": [
      "The function [open_window_params](http://www.xavierdupre.fr/app/pyquickhelper/helpsphinx/pyquickhelper/funcwin/frame_params.html?highlight=open_window_params#funcwin.frame_params.open_window_params) opens a [Tkinter](https://docs.python.org/3.4/library/tkinter.html) window and asks the user to fill two fields. The function stores the entered values. It avoids typing the same values again next time. It uses the ``key_save`` parameter to identify the parameters to retrieve on the second call.\n",
      "\n",
      "This way of doing does not work if you use your notebook from a remote server (not your local machine). In that case, the tkinter windows will pop up on the remote machine. The remote user cannot see it. You should look at the other notebook showing how to insert a form in a notebook.\n",
      "\n",
      "If it goes well, you should see a window like this one:"
     ]
    },
    {
     "cell_type": "code",
     "collapsed": false,
     "input": [
      "from pyquickhelper import NbImage\n",
      "NbImage(\"nbimage.png\", force_github=True)"
     ],
     "language": "python",
     "metadata": {},
     "outputs": [
      {
       "output_type": "stream",
       "stream": "stdout",
       "text": [
        "https://raw.githubusercontent.com/sdpython/pyquickhelper/master/_docs/notebooks/nbimage.png\n"
       ]
      },
      {
       "metadata": {},
       "output_type": "pyout",
       "prompt_number": 1,
       "text": [
        "<IPython.core.display.Image at 0x5a2c830>"
       ]
      }
     ],
     "prompt_number": 1
    },
    {
     "cell_type": "markdown",
     "metadata": {},
     "source": [
      "<h3 id=\"exp\">Explore a folder</h3>"
     ]
    },
    {
     "cell_type": "code",
     "collapsed": false,
     "input": [
      "from pyquickhelper import explore_folder\n",
      "d,f =explore_folder(\"..\")\n",
      "f[:5]"
     ],
     "language": "python",
     "metadata": {},
     "outputs": [
      {
       "metadata": {},
       "output_type": "pyout",
       "prompt_number": 7,
       "text": [
        "['../sphinxdoc/source/index_module.rst',\n",
        " '../sphinxdoc/source/index_method.rst',\n",
        " '../sphinxdoc/source/all_indexes.rst',\n",
        " '../sphinxdoc/source/README.rst',\n",
        " '../sphinxdoc/source/all_example.rst']"
       ]
      }
     ],
     "prompt_number": 7
    },
    {
     "cell_type": "code",
     "collapsed": false,
     "input": [],
     "language": "python",
     "metadata": {},
     "outputs": []
    }
   ],
   "metadata": {}
  }
 ]
}