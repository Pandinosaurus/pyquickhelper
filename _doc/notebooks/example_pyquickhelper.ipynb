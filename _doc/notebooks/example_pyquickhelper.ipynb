{
 "cells": [
  {
   "cell_type": "markdown",
   "metadata": {},
   "source": [
    "# example pyquickhelper #"
   ]
  },
  {
   "cell_type": "code",
   "execution_count": 3,
   "metadata": {
    "collapsed": false
   },
   "outputs": [
    {
     "data": {
      "text/html": [
       "<b>Plan</b>\n",
       "<div id=\"my_id_menu_nb\">run previous cell, wait for 2 seconds</div>\n",
       "<script>\n",
       "function repeat_indent_string(n){\n",
       "    var a = \"\" ;\n",
       "    for ( ; n > 0 ; --n) {\n",
       "        a += \"    \";\n",
       "    }\n",
       "    return a;\n",
       "}            \n",
       "var update_menu = function() {\n",
       "    var anchors = document.getElementsByClassName(\"section\");\n",
       "    if (anchors.length == 0) {\n",
       "        anchors = document.getElementsByClassName(\"text_cell_render rendered_html\");\n",
       "    }\n",
       "    var i;\n",
       "    var text_menu = \"\";\n",
       "    var ind = \"\";\n",
       "    var memo_level = 0;\n",
       "    var href;\n",
       "    for (i = 0; i < anchors.length; i++) {\n",
       "        var child = anchors[i].children[0];\n",
       "        if (anchors[i].hasAttribute(\"id\")) {\n",
       "            href = anchors[i].id;\n",
       "        }\n",
       "        else if (child.hasAttribute(\"id\")) {\n",
       "            href = child.id;\n",
       "        }\n",
       "        else {\n",
       "            continue;\n",
       "        }\n",
       "        var title = child.textContent;\n",
       "        var level = parseInt(child.tagName.substring(1,2));\n",
       "        if ((level <= 1) || (level >= 4)) {\n",
       "            continue ;\n",
       "        }\n",
       "        if (title.endsWith('¶')) {\n",
       "            title = title.substring(0,title.length-1);\n",
       "        }\n",
       "        if (level > memo_level) {\n",
       "            text_menu += \"<ul>\\n\";\n",
       "        }\n",
       "        text_menu += repeat_indent_string(level-2) + '<li><a href=\"#' + href + '\">' + title + '</a></li>';\n",
       "        if (level < memo_level) {\n",
       "            text_menu += \"</ul>\\n\";\n",
       "        }\n",
       "        memo_level = level;\n",
       "    }\n",
       "    text_menu += \"\";\n",
       "    var menu = document.getElementById(\"my_id_menu_nb\");\n",
       "    menu.innerHTML=text_menu;\n",
       "};\n",
       "window.setTimeout(update_menu,2000);\n",
       "            </script>"
      ],
      "text/plain": [
       "<IPython.core.display.HTML object>"
      ]
     },
     "execution_count": 3,
     "metadata": {},
     "output_type": "execute_result"
    }
   ],
   "source": [
    "from pyquickhelper.ipythonhelper import add_notebook_menu\n",
    "add_notebook_menu(header=\"Plan\")"
   ]
  },
  {
   "cell_type": "markdown",
   "metadata": {},
   "source": [
    "### Log, run_cmd\n",
    "\n",
    "The function [fLOG](http://www.xavierdupre.fr/app/pyquickhelper/helpsphinx/pyquickhelper/loghelper/flog.html?highlight=flog) prints information on the standard output and in a file *temp_log.txt*:"
   ]
  },
  {
   "cell_type": "code",
   "execution_count": 1,
   "metadata": {
    "collapsed": false
   },
   "outputs": [
    {
     "name": "stdout",
     "output_type": "stream",
     "text": [
      "2014-11-23 13:48:09 printed\n"
     ]
    }
   ],
   "source": [
    "from pyquickhelper import fLOG\n",
    "fLOG(OutputPrint=False)  # by default\n",
    "fLOG(\"not printed\")\n",
    "fLOG(OutputPrint=True)\n",
    "fLOG(\"printed\")"
   ]
  },
  {
   "cell_type": "markdown",
   "metadata": {},
   "source": [
    "The function [run_cmd](http://www.xavierdupre.fr/app/pyquickhelper/helpsphinx/pyquickhelper/loghelper/flog.html?highlight=run_cmd#loghelper.flog.run_cmd) runs a command line and returns the standard output and error:"
   ]
  },
  {
   "cell_type": "code",
   "execution_count": 2,
   "metadata": {
    "collapsed": false
   },
   "outputs": [
    {
     "name": "stdout",
     "output_type": "stream",
     "text": [
      "2014-11-23 13:48:13 execute  help\n",
      "2014-11-23 13:48:13 --linux ['help']\n",
      "2014-11-23 13:48:13 end of execution  help\n",
      "2014-11-23 13:48:13 error (log)\n",
      "/bin/sh: 1: help: not found\n",
      "\n"
     ]
    }
   ],
   "source": [
    "from pyquickhelper import run_cmd\n",
    "out,err=run_cmd(\"help\", wait=True)\n",
    "print(out)"
   ]
  },
  {
   "cell_type": "markdown",
   "metadata": {},
   "source": [
    "### Ask something to the user"
   ]
  },
  {
   "cell_type": "code",
   "execution_count": 2,
   "metadata": {
    "collapsed": false
   },
   "outputs": [
    {
     "name": "stdout",
     "output_type": "stream",
     "text": [
      "typed {'password': '', 'last name': '', '__cancel__': True, 'name': 'Xavier'}\n"
     ]
    }
   ],
   "source": [
    "from pyquickhelper import open_window_params\n",
    "params = { \"name\":\"Xavier\",\n",
    "           \"last name\":\"\",\n",
    "           \"password\":\"\"}\n",
    "newparams = open_window_params (params, title=\"try the window\", help_string = \"unit test\", key_save=\"question1\")\n",
    "print(\"typed\",newparams)"
   ]
  },
  {
   "cell_type": "markdown",
   "metadata": {},
   "source": [
    "The function [open_window_params](http://www.xavierdupre.fr/app/pyquickhelper/helpsphinx/pyquickhelper/funcwin/frame_params.html?highlight=open_window_params#funcwin.frame_params.open_window_params) opens a [Tkinter](https://docs.python.org/3.4/library/tkinter.html) window and asks the user to fill two fields. The function stores the entered values. It avoids typing the same values again next time. It uses the ``key_save`` parameter to identify the parameters to retrieve on the second call.\n",
    "\n",
    "This way of doing does not work if you use your notebook from a remote server (not your local machine). In that case, the tkinter windows will pop up on the remote machine. The remote user cannot see it. You should look at the other notebook showing how to insert a form in a notebook.\n",
    "\n",
    "If it goes well, you should see a window like this one:"
   ]
  },
  {
   "cell_type": "code",
   "execution_count": 2,
   "metadata": {
    "collapsed": false
   },
   "outputs": [
    {
     "data": {
      "image/png": "[encoded data removed]",
      "text/plain": [
       "<IPython.core.display.Image at 0x540bd30>"
      ]
     },
     "execution_count": 2,
     "metadata": {},
     "output_type": "execute_result"
    }
   ],
   "source": [
    "from pyquickhelper import NbImage\n",
    "NbImage(\"nbimage.png\")"
   ]
  },
  {
   "cell_type": "markdown",
   "metadata": {},
   "source": [
    "### Ask something to the user in a notebook"
   ]
  },
  {
   "cell_type": "code",
   "execution_count": 1,
   "metadata": {
    "collapsed": false
   },
   "outputs": [
    {
     "data": {
      "text/html": [
       "<div style=\"background-color:gainsboro; padding:2px; border:0px;\"><b>fill the fields</b>\n",
       "<br />module <input type=\"text\" id=\"form1module\" value=\"\" size=\"80\" />\n",
       "<br />version <input type=\"text\" id=\"form1version\" value=\"v...\" size=\"80\" />\n",
       "<br /><button onclick=\"set_valueform1()\">Ok</button></div>\n",
       "<script type=\"text/Javascript\">\n",
       "function form1callback(msg) {\n",
       "   var ret = msg.content.data['text/plain'];\n",
       "   $('#outform1').text(ret);\n",
       "}\n",
       "function set_valueform1(){\n",
       "   command='form1 = {' ;\n",
       "   var form1modulevar_value = document.getElementById('form1module').value;\n",
       "   command += '\"module\":\"' + form1modulevar_value + '\",';\n",
       "   var form1versionvar_value = document.getElementById('form1version').value;\n",
       "   command += '\"version\":\"' + form1versionvar_value + '\",';\n",
       "   command += '}';\n",
       "   var kernel = IPython.notebook.kernel;\n",
       "   kernel.execute(command);\n",
       "}\n",
       "</script>"
      ],
      "text/plain": [
       "<IPython.core.display.HTML at 0x7816fb0>"
      ]
     },
     "execution_count": 1,
     "metadata": {},
     "output_type": "execute_result"
    }
   ],
   "source": [
    "from pyquickhelper import open_html_form\n",
    "params= {\"module\":\"\", \"version\":\"v...\"}\n",
    "open_html_form(params, \"fill the fields\", \"form1\")"
   ]
  },
  {
   "cell_type": "code",
   "execution_count": 5,
   "metadata": {
    "collapsed": false
   },
   "outputs": [
    {
     "data": {
      "text/plain": [
       "{'version': 'modified', 'module': 'anything'}"
      ]
     },
     "execution_count": 5,
     "metadata": {},
     "output_type": "execute_result"
    }
   ],
   "source": [
    "form1"
   ]
  },
  {
   "cell_type": "markdown",
   "metadata": {},
   "source": [
    "### Explore a folder"
   ]
  },
  {
   "cell_type": "code",
   "execution_count": 2,
   "metadata": {
    "collapsed": false
   },
   "outputs": [
    {
     "data": {
      "application/javascript": [
       "var kernel = IPython.notebook.kernel;\n",
       "var body = document.body, attribs = body.attributes;\n",
       "var command = \"theNotebook = \" + \"'\"+attribs['data-notebook-name'].value+\"'\";\n",
       "kernel.execute(command);"
      ],
      "text/plain": [
       "<IPython.core.display.Javascript object>"
      ]
     },
     "metadata": {},
     "output_type": "display_data"
    }
   ],
   "source": [
    "from pyquickhelper.ipythonhelper import set_notebook_name_theNotebook\n",
    "set_notebook_name_theNotebook()"
   ]
  },
  {
   "cell_type": "code",
   "execution_count": 3,
   "metadata": {
    "collapsed": true
   },
   "outputs": [],
   "source": [
    "import os\n",
    "path = os.path.join(os.path.abspath(os.path.dirname(theNotebook)), \"..\")"
   ]
  },
  {
   "cell_type": "code",
   "execution_count": 6,
   "metadata": {
    "collapsed": false
   },
   "outputs": [
    {
     "data": {
      "text/plain": [
       "['example_about_files.ipynb',\n",
       " 'example_completion.ipynb',\n",
       " 'example_documentation.ipynb',\n",
       " 'example_pyquickhelper.ipynb',\n",
       " 'exemple_of_fix_menu.ipynb']"
      ]
     },
     "execution_count": 6,
     "metadata": {},
     "output_type": "execute_result"
    }
   ],
   "source": [
    "from pyquickhelper import explore_folder\n",
    "d,f =explore_folder(path)\n",
    "[ os.path.split(_)[-1] for _ in f[:5]]"
   ]
  },
  {
   "cell_type": "code",
   "execution_count": null,
   "metadata": {
    "collapsed": true
   },
   "outputs": [],
   "source": []
  }
 ],
 "metadata": {
  "kernelspec": {
   "display_name": "Python 3",
   "language": "python",
   "name": "python3"
  },
  "language_info": {
   "codemirror_mode": {
    "name": "ipython",
    "version": 3
   },
   "file_extension": ".py",
   "mimetype": "text/x-python",
   "name": "python",
   "nbconvert_exporter": "python",
   "pygments_lexer": "ipython3",
   "version": "3.4.3"
  }
 },
 "nbformat": 4,
 "nbformat_minor": 0
}
