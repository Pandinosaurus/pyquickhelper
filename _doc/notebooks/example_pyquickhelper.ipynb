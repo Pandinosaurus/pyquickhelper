{
 "metadata": {
  "name": "",
  "signature": "sha256:0821e19c6a29c9e6b773725b8e7c306dacc0408c71dc665b46fda61312cd2fc5"
 },
 "nbformat": 3,
 "nbformat_minor": 0,
 "worksheets": [
  {
   "cells": [
    {
     "cell_type": "markdown",
     "metadata": {},
     "source": [
      "# example pyquickhelper #"
     ]
    },
    {
     "cell_type": "markdown",
     "metadata": {},
     "source": [
      "**Plan**\n",
      "\n",
      "* [Log, run_cmd](#log)\n",
      "* [Ask something to the user](#user)\n",
      "* [Explore a folder](#exp)\n",
      "\n",
      "<h3 id=\"log\">Log, run_cmd</h3>\n",
      "\n",
      "The function [fLOG](http://www.xavierdupre.fr/app/pyquickhelper/helpsphinx/pyquickhelper/loghelper/flog.html?highlight=flog) prints information on the standard output and in a file *temp_log.txt*:"
     ]
    },
    {
     "cell_type": "code",
     "collapsed": false,
     "input": [
      "from pyquickhelper import fLOG\n",
      "fLOG(OutputPrint=False)  # by default\n",
      "fLOG(\"not printed\")\n",
      "fLOG(OutputPrint=True)\n",
      "fLOG(\"printed\")"
     ],
     "language": "python",
     "metadata": {},
     "outputs": [
      {
       "output_type": "stream",
       "stream": "stdout",
       "text": [
        "2014-11-23 13:48:09 printed\n"
       ]
      }
     ],
     "prompt_number": 1
    },
    {
     "cell_type": "markdown",
     "metadata": {},
     "source": [
      "The function [run_cmd](http://www.xavierdupre.fr/app/pyquickhelper/helpsphinx/pyquickhelper/loghelper/flog.html?highlight=run_cmd#loghelper.flog.run_cmd) runs a command line and returns the standard output and error:"
     ]
    },
    {
     "cell_type": "code",
     "collapsed": false,
     "input": [
      "from pyquickhelper import run_cmd\n",
      "out,err=run_cmd(\"help\", wait=True)\n",
      "print(out)"
     ],
     "language": "python",
     "metadata": {},
     "outputs": [
      {
       "output_type": "stream",
       "stream": "stdout",
       "text": [
        "2014-11-23 13:48:13 execute  help\n",
        "2014-11-23 13:48:13 --linux ['help']\n",
        "2014-11-23 13:48:13 end of execution  help\n",
        "2014-11-23 13:48:13 error (log)\n",
        "/bin/sh: 1: help: not found\n",
        "\n"
       ]
      }
     ],
     "prompt_number": 2
    },
    {
     "cell_type": "markdown",
     "metadata": {},
     "source": [
      "<h3 id=\"user\">Ask something to the user</h3>"
     ]
    },
    {
     "cell_type": "code",
     "collapsed": false,
     "input": [
      "from pyquickhelper import open_window_params\n",
      "params = { \"name\":\"Xavier\",\n",
      "           \"last name\":\"\" }\n",
      "newparams = open_window_params (params, title=\"try the password *\", help_string = \"unit test\", key_save=\"question1\")\n",
      "print(\"typed\",newparams)"
     ],
     "language": "python",
     "metadata": {},
     "outputs": [
      {
       "output_type": "stream",
       "stream": "stdout",
       "text": [
        "2014-11-23 13:40:01 FrameWindows: unable to find file  /tmp/FrameParams.question1.pyquickhelper.txt\n",
        "typed"
       ]
      },
      {
       "output_type": "stream",
       "stream": "stdout",
       "text": [
        " {'__cancel__': True, 'last name': '', 'name': 'Xavier'}\n"
       ]
      }
     ],
     "prompt_number": 6
    },
    {
     "cell_type": "markdown",
     "metadata": {},
     "source": [
      "The function [open_window_params](http://www.xavierdupre.fr/app/pyquickhelper/helpsphinx/pyquickhelper/funcwin/frame_params.html?highlight=open_window_params#funcwin.frame_params.open_window_params) opens a [Tkinter](https://docs.python.org/3.4/library/tkinter.html) window and asks the user to fill two fields. The function stores the entered values. It avoids typing the same values again next time. It uses the ``key_save`` parameter to identify the parameters to retrieve on the second call.\n",
      "\n",
      "This way of doing does not work if you use your notebook from a remote server (not your local machine). In that case, the tkinter windows will pop up on the remote machine. The remote user cannot see it."
     ]
    },
    {
     "cell_type": "markdown",
     "metadata": {},
     "source": [
      "<h3 id=\"exp\">Explore a folder</h3>"
     ]
    },
    {
     "cell_type": "code",
     "collapsed": false,
     "input": [
      "from pyquickhelper import explore_folder\n",
      "d,f =explore_folder(\"..\")\n",
      "f[:5]"
     ],
     "language": "python",
     "metadata": {},
     "outputs": [
      {
       "metadata": {},
       "output_type": "pyout",
       "prompt_number": 7,
       "text": [
        "['../sphinxdoc/source/index_module.rst',\n",
        " '../sphinxdoc/source/index_method.rst',\n",
        " '../sphinxdoc/source/all_indexes.rst',\n",
        " '../sphinxdoc/source/README.rst',\n",
        " '../sphinxdoc/source/all_example.rst']"
       ]
      }
     ],
     "prompt_number": 7
    },
    {
     "cell_type": "code",
     "collapsed": false,
     "input": [],
     "language": "python",
     "metadata": {},
     "outputs": []
    }
   ],
   "metadata": {}
  }
 ]
}