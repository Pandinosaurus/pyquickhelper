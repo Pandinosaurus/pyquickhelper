{
 "metadata": {
  "name": "",
  "signature": "sha256:e074b8bca5485bd000bc8febc8e7040c444058f150a2e863d3d66932e6015149"
 },
 "nbformat": 3,
 "nbformat_minor": 0,
 "worksheets": [
  {
   "cells": [
    {
     "cell_type": "markdown",
     "metadata": {},
     "source": [
      "# example pyquickhelper #"
     ]
    },
    {
     "cell_type": "markdown",
     "metadata": {},
     "source": [
      "**Plan**\n",
      "\n",
      "* [Log, run_cmd](#log)\n",
      "* [Ask something to the user](#user)\n",
      "* [Explore a folder](#exp)\n",
      "\n",
      "<h3 id=\"log\">Log, run_cmd</h3>\n",
      "\n",
      "The function [fLOG](http://www.xavierdupre.fr/app/pyquickhelper/helpsphinx/pyquickhelper/loghelper/flog.html?highlight=flog) prints information on the standard output and in a file *temp_log.txt*:"
     ]
    },
    {
     "cell_type": "code",
     "collapsed": false,
     "input": [
      "from pyquickhelper import fLOG\n",
      "fLOG(OutputPrint=False)  # by default\n",
      "fLOG(\"not printed\")\n",
      "fLOG(OutputPrint=True)\n",
      "fLOG(\"printed\")"
     ],
     "language": "python",
     "metadata": {},
     "outputs": [
      {
       "output_type": "stream",
       "stream": "stdout",
       "text": [
        "2014-07-14 22:13:57 printed\n"
       ]
      }
     ],
     "prompt_number": 9
    },
    {
     "cell_type": "markdown",
     "metadata": {},
     "source": [
      "The function [run_cmd](http://www.xavierdupre.fr/app/pyquickhelper/helpsphinx/pyquickhelper/loghelper/flog.html?highlight=run_cmd#loghelper.flog.run_cmd) runs a command line and returns the standard output and error:"
     ]
    },
    {
     "cell_type": "code",
     "collapsed": false,
     "input": [
      "from pyquickhelper import run_cmd\n",
      "out,err=run_cmd(\"help\", wait=True)\n",
      "print(out)"
     ],
     "language": "python",
     "metadata": {},
     "outputs": [
      {
       "output_type": "stream",
       "stream": "stdout",
       "text": [
        "Pour plus d'informations sur une commande spcifique, entrez HELP\n",
        "suivi de la commande.\n",
        "ASSOC          Affiche ou modifie les applications associes aux extensions de\n",
        "               fichiers.\n",
        "ATTRIB         Affiche ou modifie les attributs d'un fichier.\n",
        "BREAK          Active ou dsactive le contrle tendu de CTRL+C.\n",
        "BCDEDIT        Dfinit les proprits dans la base de donnes de dmarrage pour\n",
        "               le contrle du chargement d'amorage.\n",
        "CACLS          Affiche ou modifie les listes de contrles d'accs aux fichiers.\n",
        "CALL           Appelle un fichier de commandes  partir d'un autre fichier de\n",
        "               commandes.\n",
        "CD             Modifie le rpertoire ou affiche le rpertoire actif.\n",
        "CHCP           Modifie ou affiche le numro de la page de code active.\n",
        "CHDIR          Modifie le rpertoire ou affiche le nom du rpertoire actif.\n",
        "CHKDSK         Vrifie un disque et affiche un rapport d'tat.\n",
        "CHKNTFS        Affiche ou modifie la vrification du disque au dmarrage.\n",
        "CLS            Efface l'cran.\n",
        "CMD            Excute une nouvelle instance de l'interprteur de commandes de\n",
        "               Windows.\n",
        "COLOR          Modifie les couleurs du premier plan et de l'arrire-plan de la\n",
        "               console.\n",
        "COMP           Compare les contenus de deux fichiers ou groupes de fichiers.\n",
        "COMPACT        Modifie ou affiche la compression des fichiers sur une\n",
        "               partition NTFS.\n",
        "CONVERT        Convertit des volumes FAT en volumes NTFS. Vous ne pouvez pas\n",
        "               convertir le lecteur en cours d'utilisation.\n",
        "COPY           Copie un ou plusieurs fichiers.\n",
        "DATE           Affiche ou dfinit la date.\n",
        "DEL            Supprime un ou plusieurs fichiers.\n",
        "DIR            Affiche la liste des fichiers et des sous-rpertoires d'un\n",
        "               rpertoire.\n",
        "DISKCOMP       Compare les contenus de deux disquettes.\n",
        "DISKCOPY       Copie le contenu d'une disquette sur une autre.\n",
        "DISKPART       Affiche ou configure les proprits d'une partition de disque.\n",
        "DOSKEY         Modifie les lignes de commande, rappelle des commandes Windows,\n",
        "               et cre des macros.\n",
        "DRIVERQUERY    Affiche l'tat et les proprits du pilote de priphrique en\n",
        "               cours d'utilisation.\n",
        "ECHO           Affiche des messages ou active/dsactive l'affichage des\n",
        "               commandes.\n",
        "ENDLOCAL       Stoppe la localisation des modifications d'environnement dans\n",
        "               un fichier de commandes.\n",
        "ERASE          Supprime un ou plusieurs fichiers.\n",
        "EXIT           Quitte l'interprteur de commandes (CMD.EXE).\n",
        "FC             Compare deux fichiers ou groupes de fichiers et affiche \n",
        "               les diffrences.\n",
        "FIND           Recherche une chane de caractres dans un ou plusieurs\n",
        "               fichiers.\n",
        "FINDSTR        Cherche des chanes dans les fichiers.\n",
        "FOR            Excute une commande sur chaque fichier d'un ensemble de\n",
        "               fichiers.\n",
        "FORMAT         Formate un disque devant tre utilis avec Windows.\n",
        "FSUTIL         Affiche ou configure les proprits du systme de fichiers.\n",
        "FTYPE          Affiche ou modifie les types de fichiers utiliss dans les\n",
        "               associations d'extensions.\n",
        "GOTO           Indique l'excution d'un fichier de commandes pour une ligne\n",
        "               identifie par une tiquette.\n",
        "GPRESULT       Affiche les informations de stratgie de groupe pour un\n",
        "               ordinateur ou un utilisateur.\n",
        "GRAFTABL       Permet  Windows d'afficher un jeu de caractres en \n",
        "               mode graphique.\n",
        "HELP           Affiche des informations sur les commandes de Windows.\n",
        "ICACLS         Afficher, modifier, sauvegarder ou restaurer les listes de\n",
        "               contrle d'accs pour les fichiers et les rpertoires.\n",
        "IF             Effectue un traitement conditionnel dans un fichier de\n",
        "               commandes.\n",
        "LABEL          Cre, modifie ou supprime le nom de volume d'un disque.\n",
        "MD             Cre un rpertoire.\n",
        "MKDIR          Cre un rpertoire.\n",
        "MKLINK         Crer des liens symboliques et des liens physiques\n",
        "MODE           Configure un priphrique du systme.\n",
        "MORE           Affiche la sortie cran par cran.\n",
        "MOVE           Dplace un ou plusieurs fichiers d'un rpertoire \n",
        "                un autre.\n",
        "OPENFILES      Affiche les fichiers partags ouverts  distance par les\n",
        "               utilisateurs.\n",
        "PATH           Affiche ou dfinit le chemin de recherche des fichiers\n",
        "               excutables.\n",
        "PAUSE          Interrompt l'excution d'un fichier de commandes et affiche un\n",
        "               message.\n",
        "POPD           Restaure la valeur prcdente du rpertoire actif enregistre\n",
        "               par PUSHD.\n",
        "PRINT          Imprime un fichier texte.\n",
        "PROMPT         Modifie l'invite de commande de Windows.\n",
        "PUSHD          Enregistre le rpertoire actif puis le modifie.\n",
        "RD             Supprime un rpertoire.\n",
        "RECOVER        Rcupre l'information lisible d'un disque dfectueux.\n",
        "REM            Insre un commentaire dans un fichier de commandes ou\n",
        "               CONFIG.SYS.\n",
        "REN            Renomme un ou plusieurs fichiers.\n",
        "RENAME         Renomme un ou plusieurs fichiers.\n",
        "REPLACE        Remplace des fichiers.\n",
        "RMDIR          Supprime un rpertoire.\n",
        "ROBOCOPY       Utilitaire avanc pour copier les fichiers et les\n",
        "               arborescences de rpertoires\n",
        "SET            Affiche, dfinit ou supprime des variables d'environnement\n",
        "               Windows.\n",
        "SETLOCAL       Commence la localisation des modifications d'environnement dans\n",
        "               un fichier de commandes.\n",
        "SC             Affiche ou configure les services (processus en arrire-plan).\n",
        "SCHTASKS       Planifie les commandes et les programmes  excuter sur\n",
        "               l'ordinateur.\n",
        "SHIFT          Modifie la position des paramtres remplaables dans un fichier\n",
        "               de commandes.\n",
        "SHUTDOWN       Permet un arrt local ou distant correct de l'ordinateur.\n",
        "SORT           Trie les entres.\n",
        "START          Ouvre une fentre spare pour l'excution d'un programme ou\n",
        "               d'une commande spcifique.\n",
        "SUBST          Associe un chemin d'accs  une lettre de lecteur.\n",
        "SYSTEMINFO     Affiche les proprits et la configuration spcifiques de\n",
        "               l'ordinateur.\n",
        "TASKLIST       Affiche toutes les tches en cours d'excution, y compris les\n",
        "               services.\n",
        "TASKKILL       Termine ou interrompt un processus ou une application en cours\n",
        "               d'excution.\n",
        "TIME           Affiche ou dfinit l'heure du systme.\n",
        "TITLE          Dfinit le titre de la fentre pour une session CMD.EXE.\n",
        "TREE           Affiche le graphisme de la structure de rpertoire d'un lecteur\n",
        "               ou d'un chemin d'accs.\n",
        "TYPE           Affiche le contenu d'un fichier texte.\n",
        "VER            Affiche la version de Windows.\n",
        "VERIFY         Demande  Windows de vrifier si vos fichiers sont\n",
        "               correctement crits sur le disque.\n",
        "VOL            Affiche le nom et le numro de srie d'un volume de disque.\n",
        "XCOPY          Copie les fichiers et les arborescences de rpertoires.\n",
        "WMIC           Affiche les informations WMI dans l'interface de commande\n",
        "               interactive.\n",
        "\n",
        "Pour obtenir plus d'informations sur les outils, consultez la rfrence de\n",
        "commande en ligne dans l'aide en ligne.\n",
        "\n"
       ]
      }
     ],
     "prompt_number": 2
    },
    {
     "cell_type": "markdown",
     "metadata": {},
     "source": [
      "<h3 id=\"user\">Ask something to the user</h3>"
     ]
    },
    {
     "cell_type": "code",
     "collapsed": false,
     "input": [
      "from pyquickhelper import open_window_params\n",
      "params = { \"name\":\"Xavier\",\n",
      "           \"last name\":\"\" }\n",
      "newparams = open_window_params (params, title=\"try the password *\", help_string = \"unit test\", key_save=\"question1\")\n",
      "print(\"typed\",newparams)"
     ],
     "language": "python",
     "metadata": {},
     "outputs": [
      {
       "output_type": "stream",
       "stream": "stdout",
       "text": [
        "typed {'name': 'Xavier', 'last name': 'Dupr\u00e9'}\n"
       ]
      }
     ],
     "prompt_number": 1
    },
    {
     "cell_type": "markdown",
     "metadata": {},
     "source": [
      "The function [open_window_params](http://www.xavierdupre.fr/app/pyquickhelper/helpsphinx/pyquickhelper/funcwin/frame_params.html?highlight=open_window_params#funcwin.frame_params.open_window_params) opens a [Tkinter](https://docs.python.org/3.4/library/tkinter.html) window and asks the user to fill two fields. The function stores the entered values. It avoids typing the same values again next time. It uses the ``key_save`` parameter to identify the parameters to retrieve on the second call."
     ]
    },
    {
     "cell_type": "markdown",
     "metadata": {},
     "source": [
      "<h3 id=\"exp\">Explore a folder</h3>"
     ]
    },
    {
     "cell_type": "code",
     "collapsed": false,
     "input": [
      "from pyquickhelper import explore_folder\n",
      "d,f =explore_folder(\"..\")\n",
      "f[:5]"
     ],
     "language": "python",
     "metadata": {},
     "outputs": [
      {
       "metadata": {},
       "output_type": "pyout",
       "prompt_number": 2,
       "text": [
        "['..\\\\notebooks\\\\example_pyquickhelper.ipynb',\n",
        " '..\\\\sphinxdoc\\\\make.bat',\n",
        " '..\\\\sphinxdoc\\\\Makefile',\n",
        " '..\\\\sphinxdoc\\\\build\\\\doctrees\\\\all_example.doctree',\n",
        " '..\\\\sphinxdoc\\\\build\\\\doctrees\\\\all_example_otherpageofexamples.doctree']"
       ]
      }
     ],
     "prompt_number": 2
    },
    {
     "cell_type": "code",
     "collapsed": false,
     "input": [],
     "language": "python",
     "metadata": {},
     "outputs": []
    }
   ],
   "metadata": {}
  }
 ]
}