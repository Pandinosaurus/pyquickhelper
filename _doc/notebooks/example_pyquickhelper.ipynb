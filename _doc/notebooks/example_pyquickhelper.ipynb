{
 "metadata": {
  "name": ""
 },
 "nbformat": 3,
 "nbformat_minor": 0,
 "worksheets": [
  {
   "cells": [
    {
     "cell_type": "markdown",
     "metadata": {},
     "source": [
      "# example pyquickhelper #"
     ]
    },
    {
     "cell_type": "markdown",
     "metadata": {},
     "source": [
      "The function [fLOG](http://www.xavierdupre.fr/app/pyquickhelper/helpsphinx/pyquickhelper/loghelper/flog.html?highlight=flog) prints information on the standard output and in a file *temp_log.txt*:"
     ]
    },
    {
     "cell_type": "code",
     "collapsed": false,
     "input": [
      "from pyquickhelper import fLOG\n",
      "fLOG(\"vanished\")\n",
      "fLOG(OutputPrint=True)\n",
      "fLOG(\"printed\")"
     ],
     "language": "python",
     "metadata": {},
     "outputs": [
      {
       "output_type": "stream",
       "stream": "stdout",
       "text": [
        "2014-04-18 10:27:24 printed\n"
       ]
      }
     ],
     "prompt_number": 1
    },
    {
     "cell_type": "code",
     "collapsed": false,
     "input": [
      "print([_ for _ in os.listdir(\".\") if \".txt\" in _])"
     ],
     "language": "python",
     "metadata": {},
     "outputs": [
      {
       "output_type": "stream",
       "stream": "stdout",
       "text": [
        "['temp_log.txt']\n"
       ]
      }
     ],
     "prompt_number": 6
    },
    {
     "cell_type": "code",
     "collapsed": false,
     "input": [
      "with open(\"temp_log.txt\",\"r\",encoding=\"utf8\") as f : text = f.read()\n",
      "print(text)"
     ],
     "language": "python",
     "metadata": {},
     "outputs": [
      {
       "output_type": "stream",
       "stream": "stdout",
       "text": [
        "2014-04-18 10:11:35 vanished\n",
        "2014-04-18 10:11:35 OutpurPrint = True\n",
        "2014-04-18 10:11:35 printed\n",
        "2014-04-18 10:11:43 vanished\n",
        "2014-04-18 10:11:43 printed\n",
        "\n"
       ]
      }
     ],
     "prompt_number": 7
    },
    {
     "cell_type": "markdown",
     "metadata": {},
     "source": [
      "The function [run_cmd](http://www.xavierdupre.fr/app/pyquickhelper/helpsphinx/pyquickhelper/loghelper/flog.html?highlight=run_cmd#loghelper.flog.run_cmd) runs a command line and returns the standard output and error:"
     ]
    },
    {
     "cell_type": "code",
     "collapsed": false,
     "input": [
      "from pyquickhelper import run_cmd\n",
      "out,err=run_cmd(\"dir\", wait=True)\n",
      "print(out)"
     ],
     "language": "python",
     "metadata": {},
     "outputs": [
      {
       "output_type": "stream",
       "stream": "stdout",
       "text": [
        "2014-04-18 10:28:47 execute  dir\n",
        "2014-04-18 10:28:48 end of execution  dir"
       ]
      },
      {
       "output_type": "stream",
       "stream": "stdout",
       "text": [
        "\n",
        " Le volume dans le lecteur C s'appelle OSDisk\n",
        " Le numro de srie du volume est A6C3-9C43\n",
        "\n",
        " Rpertoire de C:\\xadupre\\__home_\\_data\\notebooks\n",
        "\n",
        "18/04/2014  10:11    <DIR>          .\n",
        "18/04/2014  10:11    <DIR>          ..\n",
        "09/04/2014  00:38               890 add_link_notebook.py\n",
        "07/04/2014  00:01           292531 example pyensae-checkpoint.ipynb\n",
        "18/04/2014  10:12               952 example pyquickhelper.ipynb\n",
        "14/04/2014  23:27             8542 example RWR.ipynb\n",
        "14/04/2014  22:05    <DIR>          notehtml\n",
        "23/02/2014  18:10               100 README\n",
        "05/04/2014  11:55                41 run3.3-64.bat\n",
        "14/04/2014  22:05               733 runhtml.bat\n",
        "23/02/2014  18:06               653 startup.py\n",
        "18/04/2014  10:27               136 temp_log.txt\n",
        "               9 fichier(s)          304578 octets\n",
        "               3 Rp(s)  31723495424 octets libres\n",
        "\n"
       ]
      }
     ],
     "prompt_number": 4
    },
    {
     "cell_type": "markdown",
     "metadata": {},
     "source": [
      "**Ask something to the user**"
     ]
    },
    {
     "cell_type": "code",
     "collapsed": false,
     "input": [
      "from pyquickhelper import open_window_params\n",
      "params = { \"name\":\"Xavier\",\n",
      "           \"last name\":\"\" }\n",
      "newparams = open_window_params (params, title=\"try the password *\", help_string = \"unit test\", key_save=\"question1\")\n",
      "print(\"typed\",newparams)"
     ],
     "language": "python",
     "metadata": {},
     "outputs": [
      {
       "output_type": "stream",
       "stream": "stdout",
       "text": [
        "typed {'last name': 'Dupr\u00e9', 'name': 'Xavier'}\n"
       ]
      }
     ],
     "prompt_number": 5
    },
    {
     "cell_type": "markdown",
     "metadata": {},
     "source": [
      "The function [open_window_params](http://www.xavierdupre.fr/app/pyquickhelper/helpsphinx/pyquickhelper/funcwin/frame_params.html?highlight=open_window_params#funcwin.frame_params.open_window_params) opens a [Tkinter](https://docs.python.org/3.4/library/tkinter.html) window and asks the user to fill two fields. The function stores the entered values. It avoids typing the same values again next time. It uses the ``key_save`` parameter to identify the parameters to retrieve on the second call."
     ]
    }
   ],
   "metadata": {}
  }
 ]
}