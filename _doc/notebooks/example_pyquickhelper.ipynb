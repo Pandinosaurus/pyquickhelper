{
 "metadata": {
  "name": "",
  "signature": "sha256:0e6f573695cb791e727611dc60f1bcdc0732c07d1ed412317f90abf88086aaff"
 },
 "nbformat": 3,
 "nbformat_minor": 0,
 "worksheets": [
  {
   "cells": [
    {
     "cell_type": "markdown",
     "metadata": {},
     "source": [
      "# example pyquickhelper #"
     ]
    },
    {
     "cell_type": "markdown",
     "metadata": {},
     "source": [
      "The function [fLOG](http://www.xavierdupre.fr/app/pyquickhelper/helpsphinx/pyquickhelper/loghelper/flog.html?highlight=flog) prints information on the standard output and in a file *temp_log.txt*:"
     ]
    },
    {
     "cell_type": "code",
     "collapsed": false,
     "input": [
      "from pyquickhelper import fLOG\n",
      "fLOG(\"vanished\")\n",
      "fLOG(OutputPrint=True)\n",
      "fLOG(\"printed\")"
     ],
     "language": "python",
     "metadata": {},
     "outputs": [
      {
       "output_type": "stream",
       "stream": "stdout",
       "text": [
        "2014-05-23 18:39:07 printed\n"
       ]
      }
     ],
     "prompt_number": 1
    },
    {
     "cell_type": "code",
     "collapsed": false,
     "input": [
      "print([_ for _ in os.listdir(\".\") if \".txt\" in _])"
     ],
     "language": "python",
     "metadata": {},
     "outputs": [
      {
       "output_type": "stream",
       "stream": "stdout",
       "text": [
        "['temp_log.txt']\n"
       ]
      }
     ],
     "prompt_number": 2
    },
    {
     "cell_type": "code",
     "collapsed": false,
     "input": [
      "with open(\"temp_log.txt\",\"r\",encoding=\"utf8\") as f : text = f.read()\n",
      "print(text)"
     ],
     "language": "python",
     "metadata": {},
     "outputs": [
      {
       "output_type": "stream",
       "stream": "stdout",
       "text": [
        "2014-05-23 18:39:07 vanished\n",
        "2014-05-23 18:39:07 printed\n",
        "\n"
       ]
      }
     ],
     "prompt_number": 3
    },
    {
     "cell_type": "markdown",
     "metadata": {},
     "source": [
      "The function [run_cmd](http://www.xavierdupre.fr/app/pyquickhelper/helpsphinx/pyquickhelper/loghelper/flog.html?highlight=run_cmd#loghelper.flog.run_cmd) runs a command line and returns the standard output and error:"
     ]
    },
    {
     "cell_type": "code",
     "collapsed": false,
     "input": [
      "from pyquickhelper import run_cmd\n",
      "out,err=run_cmd(\"dir\", wait=True)\n",
      "print(out)"
     ],
     "language": "python",
     "metadata": {},
     "outputs": [
      {
       "output_type": "stream",
       "stream": "stdout",
       "text": [
        "2014-05-23 18:39:20 execute  dir\n",
        "2014-05-23 18:39:20 end of execution  dir\n",
        " Le volume dans le lecteur C s'appelle OSDisk\n",
        " Le numro de srie du volume est A6C3-9C43\n",
        "\n",
        " Rpertoire de C:\\xadupre\\__home_\\_data\\GitHub\\pyquickhelper\\_doc\\notebooks\n",
        "\n",
        "26/04/2014  11:11    <DIR>          .\n",
        "26/04/2014  11:11    <DIR>          ..\n",
        "26/04/2014  11:24             5611 example_pyquickhelper.ipynb\n",
        "23/05/2014  18:39                59 temp_log.txt\n",
        "               2 fichier(s)            5670 octets\n",
        "               2 Rp(s)  31620096000 octets libres\n",
        "\n"
       ]
      }
     ],
     "prompt_number": 4
    },
    {
     "cell_type": "markdown",
     "metadata": {},
     "source": [
      "**Ask something to the user**"
     ]
    },
    {
     "cell_type": "code",
     "collapsed": false,
     "input": [
      "from pyquickhelper import open_window_params\n",
      "params = { \"name\":\"Xavier\",\n",
      "           \"last name\":\"\" }\n",
      "newparams = open_window_params (params, title=\"try the password *\", help_string = \"unit test\", key_save=\"question1\")\n",
      "print(\"typed\",newparams)"
     ],
     "language": "python",
     "metadata": {},
     "outputs": [
      {
       "output_type": "stream",
       "stream": "stdout",
       "text": [
        "2014-05-23 18:39:24 FrameWindows: loading parameters from file:  C:\\Users\\xadupre\\AppData\\Local\\Temp\\FrameParams.question1.pyhome3.txt\n",
        "2014-05-23 18:39:27 FrameWindows: storing parameters in file:  C:\\Users\\xadupre\\AppData\\Local\\Temp\\FrameParams.question1.pyhome3.txt"
       ]
      },
      {
       "output_type": "stream",
       "stream": "stdout",
       "text": [
        "\n",
        "2014-05-23 18:39:27 FrameWindows: loading parameters from file:  C:\\Users\\xadupre\\AppData\\Local\\Temp\\FrameParams.question1.pyhome3.txt\n",
        "2014-05-23 18:39:27 removing one element from history\n",
        "typed {'last name': 'Dupr\u00e9', 'name': 'Xavier'}\n"
       ]
      }
     ],
     "prompt_number": 5
    },
    {
     "cell_type": "markdown",
     "metadata": {},
     "source": [
      "The function [open_window_params](http://www.xavierdupre.fr/app/pyquickhelper/helpsphinx/pyquickhelper/funcwin/frame_params.html?highlight=open_window_params#funcwin.frame_params.open_window_params) opens a [Tkinter](https://docs.python.org/3.4/library/tkinter.html) window and asks the user to fill two fields. The function stores the entered values. It avoids typing the same values again next time. It uses the ``key_save`` parameter to identify the parameters to retrieve on the second call."
     ]
    }
   ],
   "metadata": {}
  }
 ]
}