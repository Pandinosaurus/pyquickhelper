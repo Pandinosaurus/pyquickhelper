{
 "metadata": {
  "name": "",
  "signature": "sha256:8b9a9031f85851094960a878ec9a1bb34b48797aad49afc85c5af0288ede3486"
 },
 "nbformat": 3,
 "nbformat_minor": 0,
 "worksheets": [
  {
   "cells": [
    {
     "cell_type": "markdown",
     "metadata": {},
     "source": [
      "# example pyquickhelper #"
     ]
    },
    {
     "cell_type": "markdown",
     "metadata": {},
     "source": [
      "**Plan**\n",
      "\n",
      "* [Log, run_cmd](#log)\n",
      "* [Ask something to the user](#user)\n",
      "* [Explore a folder](#exp)\n",
      "\n",
      "<h3 id=\"log\">Log, run_cmd</h3>\n",
      "\n",
      "The function [fLOG](http://www.xavierdupre.fr/app/pyquickhelper/helpsphinx/pyquickhelper/loghelper/flog.html?highlight=flog) prints information on the standard output and in a file *temp_log.txt*:"
     ]
    },
    {
     "cell_type": "code",
     "collapsed": false,
     "input": [
      "from pyquickhelper import fLOG\n",
      "fLOG(OutputPrint=False)  # by default\n",
      "fLOG(\"not printed\")\n",
      "fLOG(OutputPrint=True)\n",
      "fLOG(\"printed\")"
     ],
     "language": "python",
     "metadata": {},
     "outputs": [
      {
       "output_type": "stream",
       "stream": "stdout",
       "text": [
        "2014-07-14 22:13:57 printed\n"
       ]
      }
     ],
     "prompt_number": 9
    },
    {
     "cell_type": "markdown",
     "metadata": {},
     "source": [
      "The function [run_cmd](http://www.xavierdupre.fr/app/pyquickhelper/helpsphinx/pyquickhelper/loghelper/flog.html?highlight=run_cmd#loghelper.flog.run_cmd) runs a command line and returns the standard output and error:"
     ]
    },
    {
     "cell_type": "code",
     "collapsed": false,
     "input": [
      "from pyquickhelper import run_cmd\n",
      "out,err=run_cmd(\"dir\", wait=True)\n",
      "print(out)"
     ],
     "language": "python",
     "metadata": {},
     "outputs": [
      {
       "output_type": "stream",
       "stream": "stdout",
       "text": [
        "2014-07-14 21:42:21 execute  dir\n",
        "2014-07-14 21:42:21 end of execution  dir\n",
        " Le volume dans le lecteur C s'appelle OSDisk\n",
        " Le numro de srie du volume est A6C3-9C43\n",
        "\n",
        " Rpertoire de C:\\xadupre\\__home_\\_data\\GitHub\\pyquickhelper\\_doc\\notebooks\n",
        "\n",
        "27/05/2014  11:46    <DIR>          .\n",
        "27/05/2014  11:46    <DIR>          ..\n",
        "14/07/2014  21:40             5155 example_pyquickhelper.ipynb\n",
        "               1 fichier(s)            5155 octets\n",
        "               2 Rp(s)  15201263616 octets libres\n",
        "\n"
       ]
      }
     ],
     "prompt_number": 7
    },
    {
     "cell_type": "markdown",
     "metadata": {},
     "source": [
      "<h3 id=\"user\">Ask something to the user</h3>"
     ]
    },
    {
     "cell_type": "code",
     "collapsed": false,
     "input": [
      "from pyquickhelper import open_window_params\n",
      "params = { \"name\":\"Xavier\",\n",
      "           \"last name\":\"\" }\n",
      "newparams = open_window_params (params, title=\"try the password *\", help_string = \"unit test\", key_save=\"question1\")\n",
      "print(\"typed\",newparams)"
     ],
     "language": "python",
     "metadata": {},
     "outputs": [
      {
       "output_type": "stream",
       "stream": "stdout",
       "text": [
        "typed {'name': 'Xavier', 'last name': 'Dupr\u00e9'}\n"
       ]
      }
     ],
     "prompt_number": 1
    },
    {
     "cell_type": "markdown",
     "metadata": {},
     "source": [
      "The function [open_window_params](http://www.xavierdupre.fr/app/pyquickhelper/helpsphinx/pyquickhelper/funcwin/frame_params.html?highlight=open_window_params#funcwin.frame_params.open_window_params) opens a [Tkinter](https://docs.python.org/3.4/library/tkinter.html) window and asks the user to fill two fields. The function stores the entered values. It avoids typing the same values again next time. It uses the ``key_save`` parameter to identify the parameters to retrieve on the second call."
     ]
    },
    {
     "cell_type": "markdown",
     "metadata": {},
     "source": [
      "<h3 id=\"exp\">Explore a folder</h3>"
     ]
    },
    {
     "cell_type": "code",
     "collapsed": false,
     "input": [
      "from pyquickhelper import explore_folder\n",
      "d,f =explore_folder(\"..\")\n",
      "f[:5]"
     ],
     "language": "python",
     "metadata": {},
     "outputs": [
      {
       "metadata": {},
       "output_type": "pyout",
       "prompt_number": 2,
       "text": [
        "['..\\\\notebooks\\\\example_pyquickhelper.ipynb',\n",
        " '..\\\\sphinxdoc\\\\make.bat',\n",
        " '..\\\\sphinxdoc\\\\Makefile',\n",
        " '..\\\\sphinxdoc\\\\build\\\\doctrees\\\\all_example.doctree',\n",
        " '..\\\\sphinxdoc\\\\build\\\\doctrees\\\\all_example_otherpageofexamples.doctree']"
       ]
      }
     ],
     "prompt_number": 2
    },
    {
     "cell_type": "code",
     "collapsed": false,
     "input": [],
     "language": "python",
     "metadata": {},
     "outputs": []
    }
   ],
   "metadata": {}
  }
 ]
}