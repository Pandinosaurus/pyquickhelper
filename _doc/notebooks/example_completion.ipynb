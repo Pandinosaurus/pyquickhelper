{
 "metadata": {
  "name": "",
  "signature": "sha256:f63acd86a0e8dab92d573475455f976f83d9327291b8ab9faf32e8b53e5fea29"
 },
 "nbformat": 3,
 "nbformat_minor": 0,
 "worksheets": [
  {
   "cells": [
    {
     "cell_type": "heading",
     "level": 1,
     "metadata": {},
     "source": [
      "Example of auto completion with IPython"
     ]
    },
    {
     "cell_type": "code",
     "collapsed": false,
     "input": [
      "from pyquickhelper import *\n",
      "\n",
      "d = AutoCompletionFile(\"..\")\n",
      "d._members"
     ],
     "language": "python",
     "metadata": {},
     "outputs": [
      {
       "metadata": {},
       "output_type": "pyout",
       "prompt_number": 1,
       "text": [
        "['sphinxdoc', 'notebooks']"
       ]
      }
     ],
     "prompt_number": 1
    },
    {
     "cell_type": "code",
     "collapsed": false,
     "input": [
      "d.sphinxdoc.source.index_rst._ [25:]"
     ],
     "language": "python",
     "metadata": {},
     "outputs": [
      {
       "metadata": {},
       "output_type": "pyout",
       "prompt_number": 2,
       "text": [
        "'GitHub\\\\pyquickhelper\\\\_doc\\\\sphinxdoc\\\\source\\\\index.rst'"
       ]
      }
     ],
     "prompt_number": 2
    },
    {
     "cell_type": "code",
     "collapsed": false,
     "input": [
      "os.listdir(d.sphinxdoc.source._)"
     ],
     "language": "python",
     "metadata": {},
     "outputs": [
      {
       "metadata": {},
       "output_type": "pyout",
       "prompt_number": 3,
       "text": [
        "['all_coverage.rst',\n",
        " 'all_example.rst',\n",
        " 'all_example_otherpageofexamples.rst',\n",
        " 'all_example_pagewithanaccentinthetitle.rst',\n",
        " 'all_FAQ.rst',\n",
        " 'all_indexes.rst',\n",
        " 'all_notebooks.rst',\n",
        " 'all_report.rst',\n",
        " 'completion.png',\n",
        " 'conf.py',\n",
        " 'confr_pyp.rst',\n",
        " 'coverage',\n",
        " 'doctestunit.rst',\n",
        " 'filechanges.rst',\n",
        " 'form.png',\n",
        " 'generatedoc.rst',\n",
        " 'generatesetup.rst',\n",
        " 'glossary.rst',\n",
        " 'images',\n",
        " 'index.rst',\n",
        " 'indexmenu.rst',\n",
        " 'index_class.rst',\n",
        " 'index_function.rst',\n",
        " 'index_method.rst',\n",
        " 'index_module.rst',\n",
        " 'index_property.rst',\n",
        " 'index_staticmethod.rst',\n",
        " 'installation.rst',\n",
        " 'license.rst',\n",
        " 'LICENSE.txt',\n",
        " 'notebooks',\n",
        " 'open_function.png',\n",
        " 'open_functionl.png',\n",
        " 'open_params.png',\n",
        " 'phdoc_static',\n",
        " 'pyquickhelper',\n",
        " 'README.rst',\n",
        " '__pycache__']"
       ]
      }
     ],
     "prompt_number": 3
    },
    {
     "cell_type": "code",
     "collapsed": false,
     "input": [],
     "language": "python",
     "metadata": {},
     "outputs": [],
     "prompt_number": 3
    }
   ],
   "metadata": {}
  }
 ]
}