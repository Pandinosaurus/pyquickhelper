{
  "cells": [
    {
      "cell_type": "markdown",
      "metadata": {},
      "source": [
        "# Example of auto completion with IPython\n",
        "\n",
        "Dirty trick to extend the automated completion in a notebook."
      ]
    },
    {
      "cell_type": "code",
      "execution_count": 1,
      "metadata": {},
      "outputs": [],
      "source": [
        "from pyquickhelper.ipythonhelper import AutoCompletionFile\n",
        "from jyquickhelper.helper_in_notebook import set_notebook_name_theNotebook"
      ]
    },
    {
      "cell_type": "code",
      "execution_count": 2,
      "metadata": {},
      "outputs": [
        {
          "data": {
            "application/javascript": [
              "var kernel = IPython.notebook.kernel;\n",
              "var body = document.body, attribs = body.attributes;\n",
              "var command = \"theNotebook = \" + \"'\"+attribs['data-notebook-name'].value+\"'\";\n",
              "kernel.execute(command);"
            ],
            "text/plain": [
              "<IPython.core.display.Javascript object>"
            ]
          },
          "metadata": {},
          "output_type": "display_data"
        },
        {
          "data": {
            "application/javascript": [
              "var kernel = IPython.notebook.kernel;\n",
              "var body = document.body, attribs = body.attributes;\n",
              "var command = \"theNotebook = \" + \"'\"+attribs['data-notebook-name'].value+\"'\";\n",
              "kernel.execute(command);"
            ],
            "text/plain": [
              "<IPython.core.display.Javascript object>"
            ]
          },
          "execution_count": 3,
          "metadata": {},
          "output_type": "execute_result"
        }
      ],
      "source": [
        "set_notebook_name_theNotebook()"
      ]
    },
    {
      "cell_type": "code",
      "execution_count": 3,
      "metadata": {},
      "outputs": [
        {
          "data": {
            "text/plain": [
              "'example_completion.ipynb'"
            ]
          },
          "execution_count": 4,
          "metadata": {},
          "output_type": "execute_result"
        }
      ],
      "source": [
        "theNotebook"
      ]
    },
    {
      "cell_type": "code",
      "execution_count": 4,
      "metadata": {},
      "outputs": [],
      "source": [
        "import os\n",
        "path = os.path.join(os.path.abspath(os.path.dirname(theNotebook)), \"..\")"
      ]
    },
    {
      "cell_type": "code",
      "execution_count": 5,
      "metadata": {},
      "outputs": [
        {
          "data": {
            "text/plain": [
              "['environment_yml', 'examples', 'notebooks', 'sphinxdoc']"
            ]
          },
          "execution_count": 6,
          "metadata": {},
          "output_type": "execute_result"
        }
      ],
      "source": [
        "d = AutoCompletionFile(path)\n",
        "d._members"
      ]
    },
    {
      "cell_type": "code",
      "execution_count": 6,
      "metadata": {},
      "outputs": [
        {
          "data": {
            "text/plain": [
              "'tHub\\\\pyquickhelper\\\\_doc\\\\sphinxdoc\\\\source\\\\index.rst'"
            ]
          },
          "execution_count": 7,
          "metadata": {},
          "output_type": "execute_result"
        }
      ],
      "source": [
        "d.sphinxdoc.source.index_rst._ [25:]"
      ]
    },
    {
      "cell_type": "code",
      "execution_count": 7,
      "metadata": {},
      "outputs": [
        {
          "data": {
            "text/plain": [
              "['all_indexes.rst',\n",
              " 'all_notebooks.rst',\n",
              " 'all_report.rst',\n",
              " 'api',\n",
              " 'automation.jpg',\n",
              " 'blog',\n",
              " 'completed_todoextlist.rst',\n",
              " 'conf.py',\n",
              " 'contribute.rst',\n",
              " 'coverage',\n",
              " 'documentation_example.rst',\n",
              " 'filechanges.rst',\n",
              " 'gallery',\n",
              " 'glossary.rst',\n",
              " 'HISTORY.rst',\n",
              " 'images',\n",
              " 'index.rst',\n",
              " 'ipython_notebook_args.rst',\n",
              " 'issues_todoextlist.rst',\n",
              " 'i_cmd.rst',\n",
              " 'i_ex.rst',\n",
              " 'i_faq.rst',\n",
              " 'i_galleries.rst',\n",
              " 'i_indexes.rst',\n",
              " 'i_nb.rst',\n",
              " 'license.rst',\n",
              " 'notebooks_snippets',\n",
              " 'phdoc_static',\n",
              " 'phdoc_templates',\n",
              " 'tutorial',\n",
              " '_temp_custom_run_script_.py',\n",
              " '_temp_custom_run_script_.py.pkl',\n",
              " '__pycache__']"
            ]
          },
          "execution_count": 8,
          "metadata": {},
          "output_type": "execute_result"
        }
      ],
      "source": [
        "import os\n",
        "os.listdir(d.sphinxdoc.source._)"
      ]
    },
    {
      "cell_type": "code",
      "execution_count": 8,
      "metadata": {},
      "outputs": [],
      "source": []
    }
  ],
  "metadata": {
    "kernelspec": {
      "display_name": "Python 3",
      "language": "python",
      "name": "python3"
    },
    "language_info": {
      "codemirror_mode": {
        "name": "ipython",
        "version": 3
      },
      "file_extension": ".py",
      "mimetype": "text/x-python",
      "name": "python",
      "nbconvert_exporter": "python",
      "pygments_lexer": "ipython3",
      "version": "3.7.2"
    }
  },
  "nbformat": 4,
  "nbformat_minor": 2
}