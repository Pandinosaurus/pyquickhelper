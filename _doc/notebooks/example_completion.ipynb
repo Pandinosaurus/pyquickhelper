{
 "cells": [
  {
   "cell_type": "markdown",
   "metadata": {},
   "source": [
    "# Example of auto completion with IPython"
   ]
  },
  {
   "cell_type": "code",
   "execution_count": 1,
   "metadata": {
    "collapsed": false
   },
   "outputs": [
    {
     "data": {
      "text/plain": [
       "['sphinxdoc', 'notebooks']"
      ]
     },
     "execution_count": 1,
     "metadata": {},
     "output_type": "execute_result"
    }
   ],
   "source": [
    "from pyquickhelper import *\n",
    "\n",
    "d = AutoCompletionFile(\"..\")\n",
    "d._members"
   ]
  },
  {
   "cell_type": "code",
   "execution_count": 2,
   "metadata": {
    "collapsed": false
   },
   "outputs": [
    {
     "data": {
      "text/plain": [
       "'GitHub\\\\pyquickhelper\\\\_doc\\\\sphinxdoc\\\\source\\\\index.rst'"
      ]
     },
     "execution_count": 2,
     "metadata": {},
     "output_type": "execute_result"
    }
   ],
   "source": [
    "d.sphinxdoc.source.index_rst._ [25:]"
   ]
  },
  {
   "cell_type": "code",
   "execution_count": 3,
   "metadata": {
    "collapsed": false
   },
   "outputs": [
    {
     "data": {
      "text/plain": [
       "['all_coverage.rst',\n",
       " 'all_example.rst',\n",
       " 'all_example_otherpageofexamples.rst',\n",
       " 'all_example_pagewithanaccentinthetitle.rst',\n",
       " 'all_FAQ.rst',\n",
       " 'all_indexes.rst',\n",
       " 'all_notebooks.rst',\n",
       " 'all_report.rst',\n",
       " 'completion.png',\n",
       " 'conf.py',\n",
       " 'confr_pyp.rst',\n",
       " 'coverage',\n",
       " 'doctestunit.rst',\n",
       " 'filechanges.rst',\n",
       " 'form.png',\n",
       " 'generatedoc.rst',\n",
       " 'generatesetup.rst',\n",
       " 'glossary.rst',\n",
       " 'images',\n",
       " 'index.rst',\n",
       " 'indexmenu.rst',\n",
       " 'index_class.rst',\n",
       " 'index_function.rst',\n",
       " 'index_method.rst',\n",
       " 'index_module.rst',\n",
       " 'index_property.rst',\n",
       " 'index_staticmethod.rst',\n",
       " 'installation.rst',\n",
       " 'license.rst',\n",
       " 'LICENSE.txt',\n",
       " 'notebooks',\n",
       " 'open_function.png',\n",
       " 'open_functionl.png',\n",
       " 'open_params.png',\n",
       " 'phdoc_static',\n",
       " 'pyquickhelper',\n",
       " 'README.rst',\n",
       " '__pycache__']"
      ]
     },
     "execution_count": 3,
     "metadata": {},
     "output_type": "execute_result"
    }
   ],
   "source": [
    "os.listdir(d.sphinxdoc.source._)"
   ]
  },
  {
   "cell_type": "code",
   "execution_count": 3,
   "metadata": {
    "collapsed": false
   },
   "outputs": [],
   "source": []
  }
 ],
 "metadata": {},
 "nbformat": 4,
 "nbformat_minor": 0
}