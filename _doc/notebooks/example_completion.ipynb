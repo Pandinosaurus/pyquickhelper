{
 "metadata": {
  "name": "",
  "signature": "sha256:ce51f01e744d3f78f7366487eb6e25c42e64a5ff4962e01a52d67a74f2c3e009"
 },
 "nbformat": 3,
 "nbformat_minor": 0,
 "worksheets": [
  {
   "cells": [
    {
     "cell_type": "heading",
     "level": 1,
     "metadata": {},
     "source": [
      "Example of auto completion with IPython"
     ]
    },
    {
     "cell_type": "code",
     "collapsed": false,
     "input": [
      "from pyquickhelper import *\n",
      "\n",
      "d = AutoCompletionFile(\"..\")\n",
      "d._members"
     ],
     "language": "python",
     "metadata": {},
     "outputs": [
      {
       "metadata": {},
       "output_type": "pyout",
       "prompt_number": 1,
       "text": [
        "['sphinxdoc', 'notebooks']"
       ]
      }
     ],
     "prompt_number": 1
    },
    {
     "cell_type": "code",
     "collapsed": false,
     "input": [
      "d.sphinxdoc.source.index_rst._ [25:]"
     ],
     "language": "python",
     "metadata": {},
     "outputs": [
      {
       "metadata": {},
       "output_type": "pyout",
       "prompt_number": 5,
       "text": [
        "'GitHub\\\\pyquickhelper\\\\_doc\\\\sphinxdoc\\\\source\\\\index.rst'"
       ]
      }
     ],
     "prompt_number": 5
    },
    {
     "cell_type": "code",
     "collapsed": false,
     "input": [
      "os.listdir(d.sphinxdoc.source._)"
     ],
     "language": "python",
     "metadata": {},
     "outputs": [
      {
       "metadata": {},
       "output_type": "pyout",
       "prompt_number": 8,
       "text": [
        "['all_example.rst',\n",
        " 'all_example_otherpageofexamples.rst',\n",
        " 'all_example_pagewithanaccentinthetitle.rst',\n",
        " 'all_FAQ.rst',\n",
        " 'all_indexes.rst',\n",
        " 'all_notebooks.rst',\n",
        " 'conf.py',\n",
        " 'confr_pyp.rst',\n",
        " 'doctestunit.rst',\n",
        " 'filechanges.rst',\n",
        " 'generatedoc.rst',\n",
        " 'generatesetup.rst',\n",
        " 'glossary.rst',\n",
        " 'images',\n",
        " 'index.rst',\n",
        " 'index_class.rst',\n",
        " 'index_function.rst',\n",
        " 'index_method.rst',\n",
        " 'index_module.rst',\n",
        " 'index_property.rst',\n",
        " 'index_staticmethod.rst',\n",
        " 'installation.rst',\n",
        " 'license.rst',\n",
        " 'LICENSE.txt',\n",
        " 'notebooks',\n",
        " 'open_function.png',\n",
        " 'open_functionl.png',\n",
        " 'open_params.png',\n",
        " 'phdoc_static',\n",
        " 'pyquickhelper',\n",
        " 'README.rst',\n",
        " '__pycache__']"
       ]
      }
     ],
     "prompt_number": 8
    },
    {
     "cell_type": "code",
     "collapsed": false,
     "input": [],
     "language": "python",
     "metadata": {},
     "outputs": []
    }
   ],
   "metadata": {}
  }
 ]
}