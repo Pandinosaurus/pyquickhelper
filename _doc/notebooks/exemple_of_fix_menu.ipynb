{
 "cells": [
  {
   "cell_type": "markdown",
   "metadata": {},
   "source": [
    "# Example of a notebook with a fixed index"
   ]
  },
  {
   "cell_type": "markdown",
   "metadata": {},
   "source": [
    "It is sometimes difficult to navigate through long notebooks. Regular ways to navigate in a HTML page are not available when the cursor is stuck in a cell. Here is a simple trick with two sections. Links remains at the same place anytime just by adding HTML in the notebook.\n",
    "\n",
    "\n",
    "<div style=\"position:absolute; top:10px; right:5px; width:100px; height:90px; margin:10px;\">\n",
    "\n",
    "[Section 1](#Section-1) -- [Section 2](#Section-2) -- [This is the end](#This-is-the-end.)\n",
    "\n",
    "</div>\n",
    "\n",
    "The code in the markdown cell looks like the following, it is a mix between HTML and markdown. The combination is not perfect but that works somehow. The outcome can be shown on the left."
   ]
  },
  {
   "cell_type": "code",
   "execution_count": null,
   "metadata": {
    "collapsed": false
   },
   "outputs": [],
   "source": [
    "<div style=\"position:absolute; top:10px; right:5px; width:100px; height:90px; margin:10px;\">\n",
    "\n",
    "[Section 1](#Section-1) -- [Section 2](#Section-2) -- [This is the end](#This-is-the-end.)\n",
    "\n",
    "</div>"
   ]
  },
  {
   "cell_type": "markdown",
   "metadata": {},
   "source": [
    "### Section 1"
   ]
  },
  {
   "cell_type": "code",
   "execution_count": 1,
   "metadata": {
    "collapsed": false
   },
   "outputs": [
    {
     "name": "stdout",
     "output_type": "stream",
     "text": [
      "line 0\n",
      "line 1\n",
      "line 2\n",
      "line 3\n",
      "line 4\n",
      "line 5\n",
      "line 6\n",
      "line 7\n",
      "line 8\n",
      "line 9\n",
      "line 10\n",
      "line 11\n",
      "line 12\n",
      "line 13\n",
      "line 14\n",
      "line 15\n",
      "line 16\n",
      "line 17\n",
      "line 18\n",
      "line 19\n",
      "line 20\n",
      "line 21\n",
      "line 22\n",
      "line 23\n",
      "line 24\n",
      "line 25\n",
      "line 26\n",
      "line 27\n",
      "line 28\n",
      "line 29\n"
     ]
    }
   ],
   "source": [
    "for i in range(0,30):\n",
    "    # just making space\n",
    "    print (\"line\",i)"
   ]
  },
  {
   "cell_type": "markdown",
   "metadata": {},
   "source": [
    "<h3 id=\"section2\">Section 2</h3>"
   ]
  },
  {
   "cell_type": "code",
   "execution_count": 2,
   "metadata": {
    "collapsed": false
   },
   "outputs": [
    {
     "name": "stdout",
     "output_type": "stream",
     "text": [
      "line2 0\n",
      "line2 1\n",
      "line2 2\n",
      "line2 3\n",
      "line2 4\n",
      "line2 5\n",
      "line2 6\n",
      "line2 7\n",
      "line2 8\n",
      "line2 9\n",
      "line2 10\n",
      "line2 11\n",
      "line2 12\n",
      "line2 13\n",
      "line2 14\n",
      "line2 15\n",
      "line2 16\n",
      "line2 17\n",
      "line2 18\n",
      "line2 19\n",
      "line2 20\n",
      "line2 21\n",
      "line2 22\n",
      "line2 23\n",
      "line2 24\n",
      "line2 25\n",
      "line2 26\n",
      "line2 27\n",
      "line2 28\n",
      "line2 29\n"
     ]
    }
   ],
   "source": [
    "for i in range(0,30):\n",
    "    # making space again\n",
    "    print(\"line2\",i)"
   ]
  },
  {
   "cell_type": "markdown",
   "metadata": {},
   "source": [
    "### This is the end."
   ]
  },
  {
   "cell_type": "code",
   "execution_count": null,
   "metadata": {
    "collapsed": false
   },
   "outputs": [],
   "source": []
  }
 ],
 "metadata": {
  "kernelspec": {
   "display_name": "Python 3",
   "language": "python",
   "name": "python3"
  },
  "language_info": {
   "codemirror_mode": {
    "name": "ipython",
    "version": 3
   },
   "file_extension": ".py",
   "mimetype": "text/x-python",
   "name": "python",
   "nbconvert_exporter": "python",
   "pygments_lexer": "ipython3",
   "version": "3.4.3"
  }
 },
 "nbformat": 4,
 "nbformat_minor": 0
}
