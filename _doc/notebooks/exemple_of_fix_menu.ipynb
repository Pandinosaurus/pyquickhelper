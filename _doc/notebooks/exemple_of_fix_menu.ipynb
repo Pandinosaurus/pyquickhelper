{
 "metadata": {
  "name": "",
  "signature": "sha256:28820a83900377e1153929087bd74f8589670987654147ed2d2f2659c726d5c6"
 },
 "nbformat": 3,
 "nbformat_minor": 0,
 "worksheets": [
  {
   "cells": [
    {
     "cell_type": "heading",
     "level": 1,
     "metadata": {},
     "source": [
      "Example of a notebook with a fixed index"
     ]
    },
    {
     "cell_type": "markdown",
     "metadata": {},
     "source": [
      "It is sometimes difficult to navigate through long notebooks. Regular ways to navigate in a HTML page are not available when the cursor is stuck in a cell. Here is a simple trick with two sections. Links remains at the same place anytime just by adding HTML in the notebook.\n",
      "\n",
      "\n",
      "<div style=\"position:absolute; top:10px; right:5px; width:100px; height:90px; margin:10px;\">\n",
      "\n",
      "[Section 1](#section1) -- [Section 2](#section2) -- [This is the end](#end)\n",
      "\n",
      "</div>\n",
      "\n",
      "The code in the markdown cell looks like the following, it is a mix between HTML and markdown. The combination is not perfect but that works somehow. The outcome can be shown on the left."
     ]
    },
    {
     "cell_type": "code",
     "collapsed": false,
     "input": [
      "<div style=\"position:absolute; top:10px; right:5px; width:100px; height:90px; margin:10px;\">\n",
      "\n",
      "[Section 1](#section1) -- [Section 2](#section2) -- [This is the end](#end)\n",
      "\n",
      "</div>"
     ],
     "language": "python",
     "metadata": {},
     "outputs": []
    },
    {
     "cell_type": "markdown",
     "metadata": {},
     "source": [
      "<h3 id=\"section1\">Section 1</h3>"
     ]
    },
    {
     "cell_type": "code",
     "collapsed": false,
     "input": [
      "for i in range(0,30):\n",
      "    # just making space\n",
      "    print (\"line\",i)"
     ],
     "language": "python",
     "metadata": {},
     "outputs": [
      {
       "output_type": "stream",
       "stream": "stdout",
       "text": [
        "line 0\n",
        "line 1\n",
        "line 2\n",
        "line 3\n",
        "line 4\n",
        "line 5\n",
        "line 6\n",
        "line 7\n",
        "line 8\n",
        "line 9\n",
        "line 10\n",
        "line 11\n",
        "line 12\n",
        "line 13\n",
        "line 14\n",
        "line 15\n",
        "line 16\n",
        "line 17\n",
        "line 18\n",
        "line 19\n",
        "line 20\n",
        "line 21\n",
        "line 22\n",
        "line 23\n",
        "line 24\n",
        "line 25\n",
        "line 26\n",
        "line 27\n",
        "line 28\n",
        "line 29\n"
       ]
      }
     ],
     "prompt_number": 1
    },
    {
     "cell_type": "markdown",
     "metadata": {},
     "source": [
      "<h3 id=\"section2\">Section 2</h3>"
     ]
    },
    {
     "cell_type": "code",
     "collapsed": false,
     "input": [
      "for i in range(0,30):\n",
      "    # making space again\n",
      "    print(\"line2\",i)"
     ],
     "language": "python",
     "metadata": {},
     "outputs": [
      {
       "output_type": "stream",
       "stream": "stdout",
       "text": [
        "line2 0\n",
        "line2 1\n",
        "line2 2\n",
        "line2 3\n",
        "line2 4\n",
        "line2 5\n",
        "line2 6\n",
        "line2 7\n",
        "line2 8\n",
        "line2 9\n",
        "line2 10\n",
        "line2 11\n",
        "line2 12\n",
        "line2 13\n",
        "line2 14\n",
        "line2 15\n",
        "line2 16\n",
        "line2 17\n",
        "line2 18\n",
        "line2 19\n",
        "line2 20\n",
        "line2 21\n",
        "line2 22\n",
        "line2 23\n",
        "line2 24\n",
        "line2 25\n",
        "line2 26\n",
        "line2 27\n",
        "line2 28\n",
        "line2 29\n"
       ]
      }
     ],
     "prompt_number": 2
    },
    {
     "cell_type": "markdown",
     "metadata": {},
     "source": [
      "<h3 id=\"end\">This is the end.</h3>"
     ]
    },
    {
     "cell_type": "code",
     "collapsed": false,
     "input": [],
     "language": "python",
     "metadata": {},
     "outputs": []
    }
   ],
   "metadata": {}
  }
 ]
}