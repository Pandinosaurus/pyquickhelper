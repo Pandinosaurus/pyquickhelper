{
 "metadata": {
  "name": "",
  "signature": "sha256:a4883c51b13b7718159b85b34c8a055076aba7acadfd73d5dfe39113a2487521"
 },
 "nbformat": 3,
 "nbformat_minor": 0,
 "worksheets": [
  {
   "cells": [
    {
     "cell_type": "heading",
     "level": 1,
     "metadata": {},
     "source": [
      "Notebook Example"
     ]
    },
    {
     "cell_type": "markdown",
     "metadata": {},
     "source": [
      "Every notebook should come with a title. They usually contains sections with a header level 3.\n",
      "\n",
      "* [Section 1](#sec)\n",
      "\n",
      "<h3 id=\"sec\">Section 1</h3>\n",
      "\n",
      "This is an example of a section with a formula : $1 + ... + n = \\frac{n(n+1)}{2}$."
     ]
    },
    {
     "cell_type": "code",
     "collapsed": false,
     "input": [],
     "language": "python",
     "metadata": {},
     "outputs": []
    }
   ],
   "metadata": {}
  }
 ]
}