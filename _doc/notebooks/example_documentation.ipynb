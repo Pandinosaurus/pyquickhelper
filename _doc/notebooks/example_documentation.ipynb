{
  "cells": [
    {
      "cell_type": "markdown",
      "metadata": {},
      "source": [
        "# Notebook Example\n",
        "\n",
        "Render RST in a notebook."
      ]
    },
    {
      "cell_type": "markdown",
      "metadata": {},
      "source": [
        "This is an example of a section with a formula : $1 + ... + n = \\frac{n(n+1)}{2}$. The conversion to HTML relies on MathJax. It sometimes fails if the link to this library is missing ([nbconvert: Math is not displayed in the html output #6440](https://github.com/ipython/ipython/issues/6440))."
      ]
    },
    {
      "cell_type": "code",
      "execution_count": 1,
      "metadata": {},
      "outputs": [
        {
          "data": {
            "text/html": [
              "<?xml version=\"1.0\" encoding=\"utf-8\" ?>\n",
              "<!DOCTYPE html>\n",
              "<html xmlns=\"http://www.w3.org/1999/xhtml\" xml:lang=\"en\" lang=\"en\">\n",
              "<head>\n",
              "<meta charset=\"utf-8\"/>\n",
              "<meta name=\"generator\" content=\"Docutils 0.14: http://docutils.sourceforge.net/\" />\n",
              "<title>&lt;string&gt;</title>\n",
              "<link rel=\"stylesheet\" href=\"c:/python372_x64/lib/site-packages/docutils/writers/html4css1/html4css1.css\" type=\"text/css\" />\n",
              "</head>\n",
              "<body>\n",
              "<div class=\"document\">\n",
              "<p>Helpers around images and <a class=\"reference external\" href=\"https://en.wikipedia.org/wiki/JavaScript\">javascript</a>.\n",
              "See also:</p>\n",
              "<ul class=\"simple\">\n",
              "<li><p><a class=\"reference external\" href=\"https://github.com/stefano/pyduktape\">pyduktape</a></p></li>\n",
              "<li><p><a class=\"reference external\" href=\"https://github.com/sqreen/PyMiniRacer\">Python Mini Racer</a></p></li>\n",
              "<li><p><a class=\"reference external\" href=\"https://github.com/wq/python-requirejs\">python-requirejs</a></p></li>\n",
              "</ul>\n",
              "<div class=\"versionmodified admonition\">\n",
              "<p class=\"admonition-title\">modified version</p>\n",
              "<p><span class=\"versionmodified added\">New in version 1.7.</span></p>\n",
              "</div>\n",
              "<p></p>\n",
              "</div>\n",
              "</body>\n",
              "</html>\n"
            ],
            "text/plain": [
              "<IPython.core.display.HTML object>"
            ]
          },
          "execution_count": 2,
          "metadata": {},
          "output_type": "execute_result"
        }
      ],
      "source": [
        "from pyquickhelper.helpgen import docstring2html\n",
        "from pyquickhelper.imghelper import js_helper as fct\n",
        "docstring2html(fct, epkg_dictionary={'javascript': 'https://en.wikipedia.org/wiki/JavaScript'})"
      ]
    },
    {
      "cell_type": "code",
      "execution_count": 2,
      "metadata": {
        "scrolled": false
      },
      "outputs": [
        {
          "data": {
            "text/html": [
              "<?xml version=\"1.0\" encoding=\"utf-8\" ?>\n",
              "<!DOCTYPE html>\n",
              "<html xmlns=\"http://www.w3.org/1999/xhtml\" xml:lang=\"en\" lang=\"en\">\n",
              "<head>\n",
              "<meta charset=\"utf-8\"/>\n",
              "<meta name=\"generator\" content=\"Docutils 0.14: http://docutils.sourceforge.net/\" />\n",
              "<title>&lt;string&gt;</title>\n",
              "<link rel=\"stylesheet\" href=\"c:/python372_x64/lib/site-packages/docutils/writers/html4css1/html4css1.css\" type=\"text/css\" />\n",
              "</head>\n",
              "<body>\n",
              "<div class=\"document\">\n",
              "<p>Open file and return a stream.  Raise OSError upon failure.</p>\n",
              "<p>file is either a text or byte string giving the name (and the path\n",
              "if the file isn't in the current working directory) of the file to\n",
              "be opened or an integer file descriptor of the file to be\n",
              "wrapped. (If a file descriptor is given, it is closed when the\n",
              "returned I/O object is closed, unless closefd is set to False.)</p>\n",
              "<p>mode is an optional string that specifies the mode in which the file\n",
              "is opened. It defaults to 'r' which means open for reading in text\n",
              "mode.  Other common values are 'w' for writing (truncating the file if\n",
              "it already exists), 'x' for creating and writing to a new file, and\n",
              "'a' for appending (which on some Unix systems, means that all writes\n",
              "append to the end of the file regardless of the current seek position).\n",
              "In text mode, if encoding is not specified the encoding used is platform\n",
              "dependent: locale.getpreferredencoding(False) is called to get the\n",
              "current locale encoding. (For reading and writing raw bytes use binary\n",
              "mode and leave encoding unspecified.) The available modes are:</p>\n",
              "<table class=\"docutils\">\n",
              "<colgroup>\n",
              "<col style=\"width: 13%\" />\n",
              "<col style=\"width: 88%\" />\n",
              "</colgroup>\n",
              "<tbody>\n",
              "<tr class=\"row-odd\"><td><p>Character</p></td>\n",
              "<td><p>Meaning</p></td>\n",
              "</tr>\n",
              "<tr class=\"row-even\"><td><p>'r'</p></td>\n",
              "<td><p>open for reading (default)</p></td>\n",
              "</tr>\n",
              "<tr class=\"row-odd\"><td><p>'w'</p></td>\n",
              "<td><p>open for writing, truncating the file first</p></td>\n",
              "</tr>\n",
              "<tr class=\"row-even\"><td><p>'x'</p></td>\n",
              "<td><p>create a new file and open it for writing</p></td>\n",
              "</tr>\n",
              "<tr class=\"row-odd\"><td><p>'a'</p></td>\n",
              "<td><p>open for writing, appending to the end of the file if it exists</p></td>\n",
              "</tr>\n",
              "<tr class=\"row-even\"><td><p>'b'</p></td>\n",
              "<td><p>binary mode</p></td>\n",
              "</tr>\n",
              "<tr class=\"row-odd\"><td><p>'t'</p></td>\n",
              "<td><p>text mode (default)</p></td>\n",
              "</tr>\n",
              "<tr class=\"row-even\"><td><p>'+'</p></td>\n",
              "<td><p>open a disk file for updating (reading and writing)</p></td>\n",
              "</tr>\n",
              "<tr class=\"row-odd\"><td><p>'U'</p></td>\n",
              "<td><p>universal newline mode (deprecated)</p></td>\n",
              "</tr>\n",
              "</tbody>\n",
              "</table>\n",
              "<p>The default mode is 'rt' (open for reading text). For binary random\n",
              "access, the mode 'w+b' opens and truncates the file to 0 bytes, while\n",
              "'r+b' opens the file without truncation. The 'x' mode implies 'w' and\n",
              "raises an <cite>FileExistsError</cite> if the file already exists.</p>\n",
              "<p>Python distinguishes between files opened in binary and text modes,\n",
              "even when the underlying operating system doesn't. Files opened in\n",
              "binary mode (appending 'b' to the mode argument) return contents as\n",
              "bytes objects without any decoding. In text mode (the default, or when\n",
              "'t' is appended to the mode argument), the contents of the file are\n",
              "returned as strings, the bytes having been first decoded using a\n",
              "platform-dependent encoding or using the specified encoding if given.</p>\n",
              "<p>'U' mode is deprecated and will raise an exception in future versions\n",
              "of Python.  It has no effect in Python 3.  Use newline to control\n",
              "universal newlines mode.</p>\n",
              "<p>buffering is an optional integer used to set the buffering policy.\n",
              "Pass 0 to switch buffering off (only allowed in binary mode), 1 to select\n",
              "line buffering (only usable in text mode), and an integer &gt; 1 to indicate\n",
              "the size of a fixed-size chunk buffer.  When no buffering argument is\n",
              "given, the default buffering policy works as follows:</p>\n",
              "<ul class=\"simple\">\n",
              "<li><p>Binary files are buffered in fixed-size chunks; the size of the buffer\n",
              "is chosen using a heuristic trying to determine the underlying device's\n",
              "&quot;block size&quot; and falling back on <cite>io.DEFAULT_BUFFER_SIZE</cite>.\n",
              "On many systems, the buffer will typically be 4096 or 8192 bytes long.</p></li>\n",
              "<li><p>&quot;Interactive&quot; text files (files for which isatty() returns True)\n",
              "use line buffering.  Other text files use the policy described above\n",
              "for binary files.</p></li>\n",
              "</ul>\n",
              "<p>encoding is the name of the encoding used to decode or encode the\n",
              "file. This should only be used in text mode. The default encoding is\n",
              "platform dependent, but any encoding supported by Python can be\n",
              "passed.  See the codecs module for the list of supported encodings.</p>\n",
              "<p>errors is an optional string that specifies how encoding errors are to\n",
              "be handled---this argument should not be used in binary mode. Pass\n",
              "'strict' to raise a ValueError exception if there is an encoding error\n",
              "(the default of None has the same effect), or pass 'ignore' to ignore\n",
              "errors. (Note that ignoring encoding errors can lead to data loss.)\n",
              "See the documentation for codecs.register or run 'help(codecs.Codec)'\n",
              "for a list of the permitted encoding error strings.</p>\n",
              "<p>newline controls how universal newlines works (it only applies to text\n",
              "mode). It can be None, '', 'n', 'r', and 'rn'.  It works as\n",
              "follows:</p>\n",
              "<ul class=\"simple\">\n",
              "<li><p>On input, if newline is None, universal newlines mode is\n",
              "enabled. Lines in the input can end in 'n', 'r', or 'rn', and\n",
              "these are translated into 'n' before being returned to the\n",
              "caller. If it is '', universal newline mode is enabled, but line\n",
              "endings are returned to the caller untranslated. If it has any of\n",
              "the other legal values, input lines are only terminated by the given\n",
              "string, and the line ending is returned to the caller untranslated.</p></li>\n",
              "<li><p>On output, if newline is None, any 'n' characters written are\n",
              "translated to the system default line separator, os.linesep. If\n",
              "newline is '' or 'n', no translation takes place. If newline is any\n",
              "of the other legal values, any 'n' characters written are translated\n",
              "to the given string.</p></li>\n",
              "</ul>\n",
              "<p>If closefd is False, the underlying file descriptor will be kept open\n",
              "when the file is closed. This does not work when a file name is given\n",
              "and must be True in that case.</p>\n",
              "<p>A custom opener can be used by passing a callable as <em>opener</em>. The\n",
              "underlying file descriptor for the file object is then obtained by\n",
              "calling <em>opener</em> with (<em>file</em>, <em>flags</em>). <em>opener</em> must return an open\n",
              "file descriptor (passing os.open as <em>opener</em> results in functionality\n",
              "similar to passing None).</p>\n",
              "<p>open() returns a file object whose type depends on the mode, and\n",
              "through which the standard file operations such as reading and writing\n",
              "are performed. When open() is used to open a file in a text mode ('w',\n",
              "'r', 'wt', 'rt', etc.), it returns a TextIOWrapper. When used to open\n",
              "a file in a binary mode, the returned class varies: in read binary\n",
              "mode, it returns a BufferedReader; in write binary and append binary\n",
              "modes, it returns a BufferedWriter, and in read/write mode, it returns\n",
              "a BufferedRandom.</p>\n",
              "<p>It is also possible to use a string or bytearray as a file for both\n",
              "reading and writing. For strings StringIO can be used like a file\n",
              "opened in a text mode, and for bytes a BytesIO can be used like a file\n",
              "opened in a binary mode.</p>\n",
              "<p></p>\n",
              "</div>\n",
              "</body>\n",
              "</html>\n"
            ],
            "text/plain": [
              "<IPython.core.display.HTML object>"
            ]
          },
          "execution_count": 3,
          "metadata": {},
          "output_type": "execute_result"
        }
      ],
      "source": [
        "from pyquickhelper.helpgen import docstring2html\n",
        "docstring2html(open)"
      ]
    },
    {
      "cell_type": "markdown",
      "metadata": {},
      "source": [
        "This functions relies on *sphinx* and *docutils* and just importing these modules takes some time. To speed up things, [python-fire](https://github.com/google/python-fire) would probably be a better option."
      ]
    },
    {
      "cell_type": "code",
      "execution_count": 3,
      "metadata": {},
      "outputs": [],
      "source": []
    }
  ],
  "metadata": {
    "kernelspec": {
      "display_name": "Python 3",
      "language": "python",
      "name": "python3"
    },
    "language_info": {
      "codemirror_mode": {
        "name": "ipython",
        "version": 3
      },
      "file_extension": ".py",
      "mimetype": "text/x-python",
      "name": "python",
      "nbconvert_exporter": "python",
      "pygments_lexer": "ipython3",
      "version": "3.7.2"
    }
  },
  "nbformat": 4,
  "nbformat_minor": 1
}