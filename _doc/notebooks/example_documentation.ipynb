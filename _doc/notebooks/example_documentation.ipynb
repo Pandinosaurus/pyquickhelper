{
 "metadata": {
  "name": "",
  "signature": "sha256:7a0a16feb6df375520995ed10f9bb4919697f9c35fae36676b8f4953560c4612"
 },
 "nbformat": 3,
 "nbformat_minor": 0,
 "worksheets": [
  {
   "cells": [
    {
     "cell_type": "heading",
     "level": 1,
     "metadata": {},
     "source": [
      "Notebook Example"
     ]
    },
    {
     "cell_type": "markdown",
     "metadata": {},
     "source": [
      "Every notebook should come with a title. They usually contains sections with a header level 3.\n",
      "\n",
      "* [Section 1](#sec)\n",
      "\n",
      "<h3 id=\"sec\">Section 1</h3>\n",
      "\n",
      "This is an example of a section with a formula : $1 + ... + n = \\frac{n(n+1)}{2}$. The conversion to HTML relies on MathJax. It sometimes fails if the link to this library is missing ([nbconvert: Math is not displayed in the html output #6440](https://github.com/ipython/ipython/issues/6440))."
     ]
    },
    {
     "cell_type": "code",
     "collapsed": false,
     "input": [],
     "language": "python",
     "metadata": {},
     "outputs": []
    }
   ],
   "metadata": {}
  }
 ]
}