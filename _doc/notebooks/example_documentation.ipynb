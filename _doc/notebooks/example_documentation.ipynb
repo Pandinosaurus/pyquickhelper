{
  "cells": [
    {
      "cell_type": "markdown",
      "metadata": {},
      "source": [
        "# Notebook Example"
      ]
    },
    {
      "cell_type": "code",
      "execution_count": null,
      "metadata": {
        "collapsed": false
      },
      "outputs": [
        {
          "data": {
            "text/html": [
              "<div id=\"main_menu\">run previous cell, wait for 2 seconds</div>\n",
              "<script>\n",
              "function repeat_indent_string(n){\n",
              "    var a = \"\" ;\n",
              "    for ( ; n > 0 ; --n) {\n",
              "        a += \"    \";\n",
              "    }\n",
              "    return a;\n",
              "}\n",
              "var update_menu = function() {\n",
              "    var anchors = document.getElementsByClassName(\"section\");\n",
              "    if (anchors.length == 0) {\n",
              "        anchors = document.getElementsByClassName(\"text_cell_render rendered_html\");\n",
              "    }\n",
              "    var i;\n",
              "    var text_menu = \"\";\n",
              "    var ind = \"\";\n",
              "    var memo_level = 1;\n",
              "    var href;\n",
              "    for (i = 0; i < anchors.length; i++) {\n",
              "        var child = anchors[i].children[0];\n",
              "        if (anchors[i].hasAttribute(\"id\")) {\n",
              "            href = anchors[i].id;\n",
              "        }\n",
              "        else if (child.hasAttribute(\"id\")) {\n",
              "            href = child.id;\n",
              "        }\n",
              "        else {\n",
              "            continue;\n",
              "        }\n",
              "        var title = child.textContent;\n",
              "        var level = parseInt(child.tagName.substring(1,2));\n",
              "        if ((level <= 2) || (level > 4)) {\n",
              "            continue ;\n",
              "        }\n",
              "        if (title.endsWith('\u00b6')) {\n",
              "            title = title.substring(0,title.length-1).replace(\"<\", \"&lt;\").replace(\">\", \"&gt;\").replace(\"&\", \"&amp;\")\n",
              "        }\n",
              "        if (title.length == 0) {\n",
              "            continue;\n",
              "        }\n",
              "        while (level > memo_level) {\n",
              "            text_menu += \"<ul>\\n\";\n",
              "            memo_level += 1;\n",
              "        }\n",
              "        while (level < memo_level) {\n",
              "            text_menu += \"</ul>\\n\";\n",
              "            memo_level -= 1;\n",
              "        }\n",
              "        text_menu += repeat_indent_string(level-2) + '<li><a href=\"#' + href + '\">' + title + '</a></li>';\n",
              "    }\n",
              "    while (1 < memo_level) {\n",
              "        text_menu += \"</ul>\\n\";\n",
              "        memo_level -= 1;\n",
              "    }\n",
              "    text_menu += \"\";\n",
              "    var menu = document.getElementById(\"main_menu\");\n",
              "    menu.innerHTML=text_menu;\n",
              "};\n",
              "window.setTimeout(update_menu,2000);\n",
              "            </script>"
            ],
            "text/plain": [
              "<IPython.core.display.HTML object>"
            ]
          },
          "execution_count": null,
          "metadata": {},
          "output_type": "execute_result"
        }
      ],
      "source": [
        "from pyquickhelper.ipythonhelper import add_notebook_menu\n",
        "add_notebook_menu(menu_id=\"main_menu\")"
      ]
    },
    {
      "cell_type": "markdown",
      "metadata": {},
      "source": [
        "This is an example of a section with a formula : $1 + ... + n = \\frac{n(n+1)}{2}$. The conversion to HTML relies on MathJax. It sometimes fails if the link to this library is missing ([nbconvert: Math is not displayed in the html output #6440](https://github.com/ipython/ipython/issues/6440))."
      ]
    },
    {
      "cell_type": "code",
      "execution_count": null,
      "metadata": {
        "collapsed": false
      },
      "outputs": [],
      "source": [
        "import pyquickhelper"
      ]
    },
    {
      "cell_type": "code",
      "execution_count": null,
      "metadata": {
        "collapsed": false
      },
      "outputs": [],
      "source": [
        "from IPython.core.display import HTML"
      ]
    },
    {
      "cell_type": "code",
      "execution_count": null,
      "metadata": {
        "collapsed": false
      },
      "outputs": [
        {
          "data": {
            "text/html": [
              "<?xml version=\"1.0\" encoding=\"unicode\" ?>\n",
              "<!DOCTYPE html PUBLIC \"-//W3C//DTD XHTML 1.0 Transitional//EN\" \"http://www.w3.org/TR/xhtml1/DTD/xhtml1-transitional.dtd\">\n",
              "<html xmlns=\"http://www.w3.org/1999/xhtml\" xml:lang=\"en\" lang=\"en\">\n",
              "<head>\n",
              "<meta http-equiv=\"Content-Type\" content=\"text/html; charset=unicode\" />\n",
              "<meta name=\"generator\" content=\"Docutils 0.12: http://docutils.sourceforge.net/\" />\n",
              "<title></title>\n",
              "<link rel=\"stylesheet\" href=\"c:/python34_x64/lib/site-packages/docutils/writers/html4css1/html4css1.css\" type=\"text/css\" />\n",
              "</head>\n",
              "<body>\n",
              "<div class=\"document\">\n",
              "<p>builds a string in RST format from a dataframe</p>\n",
              "<table class=\"docutils field-list\" frame=\"void\" rules=\"none\">\n",
              "<col class=\"field-name\" />\n",
              "<col class=\"field-body\" />\n",
              "<tbody valign=\"top\">\n",
              "<tr class=\"field-odd field\"><th class=\"field-name\">param      df:</th><td class=\"field-body\">dataframe</td>\n",
              "</tr>\n",
              "<tr class=\"field-even field\"><th class=\"field-name\" colspan=\"2\">param      add_line:</th></tr>\n",
              "<tr class=\"field-even field\"><td>&nbsp;</td><td class=\"field-body\">(bool) add a line separator between each row</td>\n",
              "</tr>\n",
              "<tr class=\"field-odd field\"><th class=\"field-name\" colspan=\"2\">param      align:</th></tr>\n",
              "<tr class=\"field-odd field\"><td>&nbsp;</td><td class=\"field-body\">a string in [l,r,c,p{5cm}] or a list of the same,\n",
              "or something like <code class=\"docutils literal\"><span class=\"pre\">['1x','2x','5x']</span></code> to specify a ratio\n",
              "between column (alignment is left)</td>\n",
              "</tr>\n",
              "<tr class=\"field-even field\"><th class=\"field-name\">return:</th><td class=\"field-body\">string</td>\n",
              "</tr>\n",
              "</tbody>\n",
              "</table>\n",
              "<p>None values are replaced by empty string (4 spaces).\n",
              "It produces the following results::</p>\n",
              "<div class=\"highlight-python\"><div class=\"highlight\"><pre>+------------------------+------------+----------+----------+\n",
              "| Header row, column 1   | Header 2   | Header 3 | Header 4 |\n",
              "| (header rows optional) |            |          |          |\n",
              "+========================+============+==========+==========+\n",
              "| body row 1, column 1   | column 2   | column 3 | column 4 |\n",
              "+------------------------+------------+----------+----------+\n",
              "| body row 2             | ...        | ...      |          |\n",
              "+------------------------+------------+----------+----------+\n",
              "</pre></div>\n",
              "</div>\n",
              "</div>\n",
              "</body>\n",
              "</html>\n"
            ],
            "text/plain": [
              "<IPython.core.display.HTML object>"
            ]
          },
          "execution_count": null,
          "metadata": {},
          "output_type": "execute_result"
        }
      ],
      "source": [
        "from pyquickhelper.helpgen import docstring2html\n",
        "from pyquickhelper.pandashelper import df2rst\n",
        "docstring2html(df2rst)"
      ]
    },
    {
      "cell_type": "code",
      "execution_count": null,
      "metadata": {
        "collapsed": false,
        "scrolled": false
      },
      "outputs": [
        {
          "data": {
            "text/html": [
              "<?xml version=\"1.0\" encoding=\"unicode\" ?>\n",
              "<!DOCTYPE html PUBLIC \"-//W3C//DTD XHTML 1.0 Transitional//EN\" \"http://www.w3.org/TR/xhtml1/DTD/xhtml1-transitional.dtd\">\n",
              "<html xmlns=\"http://www.w3.org/1999/xhtml\" xml:lang=\"en\" lang=\"en\">\n",
              "<head>\n",
              "<meta http-equiv=\"Content-Type\" content=\"text/html; charset=unicode\" />\n",
              "<meta name=\"generator\" content=\"Docutils 0.12: http://docutils.sourceforge.net/\" />\n",
              "<title></title>\n",
              "<link rel=\"stylesheet\" href=\"c:/python34_x64/lib/site-packages/docutils/writers/html4css1/html4css1.css\" type=\"text/css\" />\n",
              "</head>\n",
              "<body>\n",
              "<div class=\"document\">\n",
              "<p>Read CSV (comma-separated) file into DataFrame</p>\n",
              "<p>Also supports optionally iterating or breaking of the file\n",
              "into chunks.</p>\n",
              "<div class=\"section\" id=\"parameters\">\n",
              "<h2>Parameters<a class=\"headerlink\" href=\"#parameters\" title=\"Permalink to this headline\">\u00b6</a></h2>\n",
              "<dl class=\"docutils\">\n",
              "<dt>filepath_or_buffer <span class=\"classifier-delimiter\">:</span> <span class=\"classifier\">string or file handle / StringIO</span></dt>\n",
              "<dd>The string could be a URL. Valid URL schemes include\n",
              "http, ftp, s3, and file. For file URLs, a\n",
              "host is expected. For instance, a local file could be\n",
              "file ://localhost/path/to/table.csv</dd>\n",
              "<dt>sep <span class=\"classifier-delimiter\">:</span> <span class=\"classifier\">string, default ','</span></dt>\n",
              "<dd>Delimiter to use. If sep is None, will try to automatically determine\n",
              "this. Regular expressions are accepted.</dd>\n",
              "<dt>engine <span class=\"classifier-delimiter\">:</span> <span class=\"classifier\">{'c', 'python'}</span></dt>\n",
              "<dd>Parser engine to use. The C engine is faster while the python engine is\n",
              "currently more feature-complete.</dd>\n",
              "<dt>lineterminator <span class=\"classifier-delimiter\">:</span> <span class=\"classifier\">string (length 1), default None</span></dt>\n",
              "<dd>Character to break file into lines. Only valid with C parser</dd>\n",
              "<dt>quotechar <span class=\"classifier-delimiter\">:</span> <span class=\"classifier\">string (length 1)</span></dt>\n",
              "<dd>The character used to denote the start and end of a quoted item. Quoted\n",
              "items can include the delimiter and it will be ignored.</dd>\n",
              "<dt>quoting <span class=\"classifier-delimiter\">:</span> <span class=\"classifier\">int or csv.QUOTE_* instance, default None</span></dt>\n",
              "<dd>Control field quoting behavior per <code class=\"docutils literal\"><span class=\"pre\">csv.QUOTE_*</span></code> constants. Use one of\n",
              "QUOTE_MINIMAL (0), QUOTE_ALL (1), QUOTE_NONNUMERIC (2) or QUOTE_NONE (3).\n",
              "Default (None) results in QUOTE_MINIMAL behavior.</dd>\n",
              "<dt>skipinitialspace <span class=\"classifier-delimiter\">:</span> <span class=\"classifier\">boolean, default False</span></dt>\n",
              "<dd>Skip spaces after delimiter</dd>\n",
              "<dt>escapechar <span class=\"classifier-delimiter\">:</span> <span class=\"classifier\">string (length 1), default None</span></dt>\n",
              "<dd>One-character string used to escape delimiter when quoting is QUOTE_NONE.</dd>\n",
              "<dt>dtype <span class=\"classifier-delimiter\">:</span> <span class=\"classifier\">Type name or dict of column -&gt; type</span></dt>\n",
              "<dd>Data type for data or columns. E.g. {'a': np.float64, 'b': np.int32}\n",
              "(Unsupported with engine='python')</dd>\n",
              "<dt>compression <span class=\"classifier-delimiter\">:</span> <span class=\"classifier\">{'gzip', 'bz2', 'infer', None}, default 'infer'</span></dt>\n",
              "<dd>For on-the-fly decompression of on-disk data. If 'infer', then use gzip or\n",
              "bz2 if filepath_or_buffer is a string ending in '.gz' or '.bz2',\n",
              "respectively, and no decompression otherwise. Set to None for no\n",
              "decompression.</dd>\n",
              "<dt>dialect <span class=\"classifier-delimiter\">:</span> <span class=\"classifier\">string or csv.Dialect instance, default None</span></dt>\n",
              "<dd>If None defaults to Excel dialect. Ignored if sep longer than 1 char\n",
              "See csv.Dialect documentation for more details</dd>\n",
              "<dt>header <span class=\"classifier-delimiter\">:</span> <span class=\"classifier\">int, list of ints</span></dt>\n",
              "<dd>Row number(s) to use as the column names, and the start of the\n",
              "data.  Defaults to 0 if no <code class=\"docutils literal\"><span class=\"pre\">names</span></code> passed, otherwise <code class=\"docutils literal\"><span class=\"pre\">None</span></code>. Explicitly\n",
              "pass <code class=\"docutils literal\"><span class=\"pre\">header=0</span></code> to be able to replace existing names. The header can be\n",
              "a list of integers that specify row locations for a multi-index on the\n",
              "columns E.g. [0,1,3]. Intervening rows that are not specified will be\n",
              "skipped (e.g. 2 in this example are skipped). Note that this parameter\n",
              "ignores commented lines and empty lines if <code class=\"docutils literal\"><span class=\"pre\">skip_blank_lines=True</span></code>, so header=0\n",
              "denotes the first line of data rather than the first line of the file.</dd>\n",
              "<dt>skiprows <span class=\"classifier-delimiter\">:</span> <span class=\"classifier\">list-like or integer</span></dt>\n",
              "<dd>Line numbers to skip (0-indexed) or number of lines to skip (int)\n",
              "at the start of the file</dd>\n",
              "<dt>index_col <span class=\"classifier-delimiter\">:</span> <span class=\"classifier\">int or sequence or False, default None</span></dt>\n",
              "<dd>Column to use as the row labels of the DataFrame. If a sequence is given, a\n",
              "MultiIndex is used. If you have a malformed file with delimiters at the end\n",
              "of each line, you might consider index_col=False to force pandas to _not_\n",
              "use the first column as the index (row names)</dd>\n",
              "<dt>names <span class=\"classifier-delimiter\">:</span> <span class=\"classifier\">array-like</span></dt>\n",
              "<dd>List of column names to use. If file contains no header row, then you\n",
              "should explicitly pass header=None</dd>\n",
              "<dt>prefix <span class=\"classifier-delimiter\">:</span> <span class=\"classifier\">string, default None</span></dt>\n",
              "<dd>Prefix to add to column numbers when no header, e.g 'X' for X0, X1, ...</dd>\n",
              "<dt>na_values <span class=\"classifier-delimiter\">:</span> <span class=\"classifier\">list-like or dict, default None</span></dt>\n",
              "<dd>Additional strings to recognize as NA/NaN. If dict passed, specific\n",
              "per-column NA values</dd>\n",
              "<dt>true_values <span class=\"classifier-delimiter\">:</span> <span class=\"classifier\">list</span></dt>\n",
              "<dd>Values to consider as True</dd>\n",
              "<dt>false_values <span class=\"classifier-delimiter\">:</span> <span class=\"classifier\">list</span></dt>\n",
              "<dd>Values to consider as False</dd>\n",
              "<dt>keep_default_na <span class=\"classifier-delimiter\">:</span> <span class=\"classifier\">bool, default True</span></dt>\n",
              "<dd>If na_values are specified and keep_default_na is False the default NaN\n",
              "values are overridden, otherwise they're appended to</dd>\n",
              "<dt>parse_dates <span class=\"classifier-delimiter\">:</span> <span class=\"classifier\">boolean, list of ints or names, list of lists, or dict</span></dt>\n",
              "<dd>If True -&gt; try parsing the index.\n",
              "If [1, 2, 3] -&gt; try parsing columns 1, 2, 3 each as a separate date column.\n",
              "If [[1, 3]] -&gt; combine columns 1 and 3 and parse as a single date column.\n",
              "{'foo' : [1, 3]} -&gt; parse columns 1, 3 as date and call result 'foo'\n",
              "A fast-path exists for iso8601-formatted dates.</dd>\n",
              "<dt>keep_date_col <span class=\"classifier-delimiter\">:</span> <span class=\"classifier\">boolean, default False</span></dt>\n",
              "<dd>If True and parse_dates specifies combining multiple columns then\n",
              "keep the original columns.</dd>\n",
              "<dt>date_parser <span class=\"classifier-delimiter\">:</span> <span class=\"classifier\">function</span></dt>\n",
              "<dd>Function to use for converting a sequence of string columns to an\n",
              "array of datetime instances. The default uses dateutil.parser.parser\n",
              "to do the conversion. Pandas will try to call date_parser in three different\n",
              "ways, advancing to the next if an exception occurs: 1) Pass one or more arrays\n",
              "(as defined by parse_dates) as arguments; 2) concatenate (row-wise) the string\n",
              "values from the columns defined by parse_dates into a single array and pass\n",
              "that; and 3) call date_parser once for each row using one or more strings\n",
              "(corresponding to the columns defined by parse_dates) as arguments.</dd>\n",
              "<dt>dayfirst <span class=\"classifier-delimiter\">:</span> <span class=\"classifier\">boolean, default False</span></dt>\n",
              "<dd>DD/MM format dates, international and European format</dd>\n",
              "<dt>thousands <span class=\"classifier-delimiter\">:</span> <span class=\"classifier\">str, default None</span></dt>\n",
              "<dd>Thousands separator</dd>\n",
              "<dt>comment <span class=\"classifier-delimiter\">:</span> <span class=\"classifier\">str, default None</span></dt>\n",
              "<dd>Indicates remainder of line should not be parsed. If found at the\n",
              "beginning of a line, the line will be ignored altogether. This parameter\n",
              "must be a single character. Like empty lines (as long as <code class=\"docutils literal\"><span class=\"pre\">skip_blank_lines=True</span></code>),\n",
              "fully commented lines are ignored by the parameter <cite>header</cite>\n",
              "but not by <cite>skiprows</cite>. For example, if comment='#', parsing\n",
              "'#emptyna,b,cn1,2,3' with <cite>header=0</cite> will result in 'a,b,c' being\n",
              "treated as the header.</dd>\n",
              "<dt>decimal <span class=\"classifier-delimiter\">:</span> <span class=\"classifier\">str, default '.'</span></dt>\n",
              "<dd>Character to recognize as decimal point. E.g. use ',' for European data</dd>\n",
              "<dt>nrows <span class=\"classifier-delimiter\">:</span> <span class=\"classifier\">int, default None</span></dt>\n",
              "<dd>Number of rows of file to read. Useful for reading pieces of large files</dd>\n",
              "<dt>iterator <span class=\"classifier-delimiter\">:</span> <span class=\"classifier\">boolean, default False</span></dt>\n",
              "<dd>Return TextFileReader object</dd>\n",
              "<dt>chunksize <span class=\"classifier-delimiter\">:</span> <span class=\"classifier\">int, default None</span></dt>\n",
              "<dd>Return TextFileReader object for iteration</dd>\n",
              "<dt>skipfooter <span class=\"classifier-delimiter\">:</span> <span class=\"classifier\">int, default 0</span></dt>\n",
              "<dd>Number of lines at bottom of file to skip (Unsupported with engine='c')</dd>\n",
              "<dt>converters <span class=\"classifier-delimiter\">:</span> <span class=\"classifier\">dict, default None</span></dt>\n",
              "<dd>Dict of functions for converting values in certain columns. Keys can either\n",
              "be integers or column labels</dd>\n",
              "<dt>verbose <span class=\"classifier-delimiter\">:</span> <span class=\"classifier\">boolean, default False</span></dt>\n",
              "<dd>Indicate number of NA values placed in non-numeric columns</dd>\n",
              "<dt>delimiter <span class=\"classifier-delimiter\">:</span> <span class=\"classifier\">string, default None</span></dt>\n",
              "<dd>Alternative argument name for sep. Regular expressions are accepted.</dd>\n",
              "<dt>encoding <span class=\"classifier-delimiter\">:</span> <span class=\"classifier\">string, default None</span></dt>\n",
              "<dd>Encoding to use for UTF when reading/writing (ex. 'utf-8'). <a class=\"reference external\" href=\"https://docs.python.org/3/library/codecs.html#standard-encodings\">List of Python\n",
              "standard encodings</a></dd>\n",
              "<dt>squeeze <span class=\"classifier-delimiter\">:</span> <span class=\"classifier\">boolean, default False</span></dt>\n",
              "<dd>If the parsed data only contains one column then return a Series</dd>\n",
              "<dt>na_filter <span class=\"classifier-delimiter\">:</span> <span class=\"classifier\">boolean, default True</span></dt>\n",
              "<dd>Detect missing value markers (empty strings and the value of na_values). In\n",
              "data without any NAs, passing na_filter=False can improve the performance\n",
              "of reading a large file</dd>\n",
              "<dt>usecols <span class=\"classifier-delimiter\">:</span> <span class=\"classifier\">array-like</span></dt>\n",
              "<dd>Return a subset of the columns.\n",
              "Results in much faster parsing time and lower memory usage.</dd>\n",
              "<dt>mangle_dupe_cols <span class=\"classifier-delimiter\">:</span> <span class=\"classifier\">boolean, default True</span></dt>\n",
              "<dd>Duplicate columns will be specified as 'X.0'...'X.N', rather than 'X'...'X'</dd>\n",
              "<dt>tupleize_cols <span class=\"classifier-delimiter\">:</span> <span class=\"classifier\">boolean, default False</span></dt>\n",
              "<dd>Leave a list of tuples on columns as is (default is to convert to\n",
              "a Multi Index on the columns)</dd>\n",
              "<dt>error_bad_lines <span class=\"classifier-delimiter\">:</span> <span class=\"classifier\">boolean, default True</span></dt>\n",
              "<dd>Lines with too many fields (e.g. a csv line with too many commas) will by\n",
              "default cause an exception to be raised, and no DataFrame will be returned.\n",
              "If False, then these &quot;bad lines&quot; will dropped from the DataFrame that is\n",
              "returned. (Only valid with C parser)</dd>\n",
              "<dt>warn_bad_lines <span class=\"classifier-delimiter\">:</span> <span class=\"classifier\">boolean, default True</span></dt>\n",
              "<dd>If error_bad_lines is False, and warn_bad_lines is True, a warning for each\n",
              "&quot;bad line&quot; will be output. (Only valid with C parser).</dd>\n",
              "<dt>infer_datetime_format <span class=\"classifier-delimiter\">:</span> <span class=\"classifier\">boolean, default False</span></dt>\n",
              "<dd>If True and parse_dates is enabled for a column, attempt to infer\n",
              "the datetime format to speed up the processing</dd>\n",
              "<dt>skip_blank_lines <span class=\"classifier-delimiter\">:</span> <span class=\"classifier\">boolean, default True</span></dt>\n",
              "<dd>If True, skip over blank lines rather than interpreting as NaN values</dd>\n",
              "</dl>\n",
              "</div>\n",
              "<div class=\"section\" id=\"returns\">\n",
              "<h2>Returns<a class=\"headerlink\" href=\"#returns\" title=\"Permalink to this headline\">\u00b6</a></h2>\n",
              "<p>result : DataFrame or TextParser</p>\n",
              "</div>\n",
              "</div>\n",
              "</body>\n",
              "</html>\n"
            ],
            "text/plain": [
              "<IPython.core.display.HTML object>"
            ]
          },
          "execution_count": null,
          "metadata": {},
          "output_type": "execute_result"
        }
      ],
      "source": [
        "import pandas\n",
        "from pyquickhelper.helpgen import docstring2html\n",
        "docstring2html(pandas.read_csv)"
      ]
    },
    {
      "cell_type": "code",
      "execution_count": null,
      "metadata": {
        "collapsed": false
      },
      "outputs": [],
      "source": []
    }
  ],
  "metadata": {
    "kernelspec": {
      "display_name": "Python 3",
      "language": "python",
      "name": "python3"
    },
    "language_info": {
      "codemirror_mode": {
        "name": "ipython",
        "version": 3
      },
      "file_extension": ".py",
      "mimetype": "text/x-python",
      "name": "python",
      "nbconvert_exporter": "python",
      "pygments_lexer": "ipython3",
      "version": "3.4.3"
    }
  },
  "nbformat": 4,
  "nbformat_minor": 0
}