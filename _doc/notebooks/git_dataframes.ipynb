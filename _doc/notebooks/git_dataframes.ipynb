{
  "cells": [
    {
      "cell_type": "markdown",
      "metadata": {},
      "source": [
        "# Git in DataFrames\n",
        "\n",
        "python + git + dataframe = [git-pandas](http://wdm0006.github.io/git-pandas/)"
      ]
    },
    {
      "cell_type": "code",
      "execution_count": null,
      "metadata": {},
      "outputs": [
        {
          "data": {
            "text/html": [
              "<div id=\"my_id_menu_nb\">run previous cell, wait for 2 seconds</div>\n",
              "<script>\n",
              "function repeat_indent_string(n){\n",
              "    var a = \"\" ;\n",
              "    for ( ; n > 0 ; --n)\n",
              "        a += \"    \";\n",
              "    return a;\n",
              "}\n",
              "var update_menu_string = function(begin, lfirst, llast, sformat, send, keep_item, begin_format, end_format) {\n",
              "    var anchors = document.getElementsByClassName(\"section\");\n",
              "    if (anchors.length == 0) {\n",
              "        anchors = document.getElementsByClassName(\"text_cell_render rendered_html\");\n",
              "    }\n",
              "    var i,t;\n",
              "    var text_menu = begin;\n",
              "    var text_memo = \"<pre>\\nlength:\" + anchors.length + \"\\n\";\n",
              "    var ind = \"\";\n",
              "    var memo_level = 1;\n",
              "    var href;\n",
              "    var tags = [];\n",
              "    var main_item = 0;\n",
              "    var format_open = 0;\n",
              "    for (i = 0; i <= llast; i++)\n",
              "        tags.push(\"h\" + i);\n",
              "\n",
              "    for (i = 0; i < anchors.length; i++) {\n",
              "        text_memo += \"**\" + anchors[i].id + \"--\\n\";\n",
              "\n",
              "        var child = null;\n",
              "        for(t = 0; t < tags.length; t++) {\n",
              "            var r = anchors[i].getElementsByTagName(tags[t]);\n",
              "            if (r.length > 0) {\n",
              "child = r[0];\n",
              "break;\n",
              "            }\n",
              "        }\n",
              "        if (child == null) {\n",
              "            text_memo += \"null\\n\";\n",
              "            continue;\n",
              "        }\n",
              "        if (anchors[i].hasAttribute(\"id\")) {\n",
              "            // when converted in RST\n",
              "            href = anchors[i].id;\n",
              "            text_memo += \"#1-\" + href;\n",
              "            // passer \u00e0 child suivant (le chercher)\n",
              "        }\n",
              "        else if (child.hasAttribute(\"id\")) {\n",
              "            // in a notebook\n",
              "            href = child.id;\n",
              "            text_memo += \"#2-\" + href;\n",
              "        }\n",
              "        else {\n",
              "            text_memo += \"#3-\" + \"*\" + \"\\n\";\n",
              "            continue;\n",
              "        }\n",
              "        var title = child.textContent;\n",
              "        var level = parseInt(child.tagName.substring(1,2));\n",
              "\n",
              "        text_memo += \"--\" + level + \"?\" + lfirst + \"--\" + title + \"\\n\";\n",
              "\n",
              "        if ((level < lfirst) || (level > llast)) {\n",
              "            continue ;\n",
              "        }\n",
              "        if (title.endsWith('\u00b6')) {\n",
              "            title = title.substring(0,title.length-1).replace(\"<\", \"&lt;\")\n",
              "         .replace(\">\", \"&gt;\").replace(\"&\", \"&amp;\");\n",
              "        }\n",
              "        if (title.length == 0) {\n",
              "            continue;\n",
              "        }\n",
              "\n",
              "        while (level < memo_level) {\n",
              "            text_menu += end_format + \"</ul>\\n\";\n",
              "            format_open -= 1;\n",
              "            memo_level -= 1;\n",
              "        }\n",
              "        if (level == lfirst) {\n",
              "            main_item += 1;\n",
              "        }\n",
              "        if (keep_item != -1 && main_item != keep_item + 1) {\n",
              "            // alert(main_item + \" - \" + level + \" - \" + keep_item);\n",
              "            continue;\n",
              "        }\n",
              "        while (level > memo_level) {\n",
              "            text_menu += \"<ul>\\n\";\n",
              "            memo_level += 1;\n",
              "        }\n",
              "        text_menu += repeat_indent_string(level-2);\n",
              "        text_menu += begin_format + sformat.replace(\"__HREF__\", href).replace(\"__TITLE__\", title);\n",
              "        format_open += 1;\n",
              "    }\n",
              "    while (1 < memo_level) {\n",
              "        text_menu += end_format + \"</ul>\\n\";\n",
              "        memo_level -= 1;\n",
              "        format_open -= 1;\n",
              "    }\n",
              "    text_menu += send;\n",
              "    //text_menu += \"\\n\" + text_memo;\n",
              "\n",
              "    while (format_open > 0) {\n",
              "        text_menu += end_format;\n",
              "        format_open -= 1;\n",
              "    }\n",
              "    return text_menu;\n",
              "};\n",
              "var update_menu = function() {\n",
              "    var sbegin = \"\";\n",
              "    var sformat = '<a href=\"#__HREF__\">__TITLE__</a>';\n",
              "    var send = \"\";\n",
              "    var begin_format = '<li>';\n",
              "    var end_format = '</li>';\n",
              "    var keep_item = -1;\n",
              "    var text_menu = update_menu_string(sbegin, 2, 4, sformat, send, keep_item,\n",
              "       begin_format, end_format);\n",
              "    var menu = document.getElementById(\"my_id_menu_nb\");\n",
              "    menu.innerHTML=text_menu;\n",
              "};\n",
              "window.setTimeout(update_menu,2000);\n",
              "            </script>"
            ],
            "text/plain": [
              "<IPython.core.display.HTML object>"
            ]
          },
          "execution_count": null,
          "metadata": {},
          "output_type": "execute_result"
        }
      ],
      "source": [
        "from jyquickhelper import add_notebook_menu\n",
        "add_notebook_menu()"
      ]
    },
    {
      "cell_type": "code",
      "execution_count": null,
      "metadata": {
        "collapsed": true
      },
      "outputs": [],
      "source": [
        "%matplotlib inline"
      ]
    },
    {
      "cell_type": "markdown",
      "metadata": {},
      "source": [
        "## Repository"
      ]
    },
    {
      "cell_type": "code",
      "execution_count": null,
      "metadata": {},
      "outputs": [
        {
          "name": "stdout",
          "output_type": "stream",
          "text": [
            "Repository [pyquickhelper] instantiated at directory: ../..\n"
          ]
        }
      ],
      "source": [
        "from gitpandas import Repository\n",
        "tries = [\"../..\", \"../../..\"]\n",
        "err = None\n",
        "for t in tries:\n",
        "    try:\n",
        "        repo = Repository(working_dir=t, verbose=True)\n",
        "        break\n",
        "    except Exception as e:\n",
        "        err = e\n",
        "        continue\n",
        "if err is not None:\n",
        "    raise e"
      ]
    },
    {
      "cell_type": "code",
      "execution_count": null,
      "metadata": {},
      "outputs": [
        {
          "data": {
            "text/html": [
              "<div>\n",
              "<style>\n",
              "    .dataframe thead tr:only-child th {\n",
              "        text-align: right;\n",
              "    }\n",
              "\n",
              "    .dataframe thead th {\n",
              "        text-align: left;\n",
              "    }\n",
              "\n",
              "    .dataframe tbody tr th {\n",
              "        vertical-align: top;\n",
              "    }\n",
              "</style>\n",
              "<table border=\"1\" class=\"dataframe\">\n",
              "  <thead>\n",
              "    <tr style=\"text-align: right;\">\n",
              "      <th></th>\n",
              "      <th>branch</th>\n",
              "      <th>local</th>\n",
              "      <th>repository</th>\n",
              "    </tr>\n",
              "  </thead>\n",
              "  <tbody>\n",
              "    <tr>\n",
              "      <th>0</th>\n",
              "      <td>master</td>\n",
              "      <td>True</td>\n",
              "      <td>pyquickhelper</td>\n",
              "    </tr>\n",
              "    <tr>\n",
              "      <th>1</th>\n",
              "      <td>master</td>\n",
              "      <td>False</td>\n",
              "      <td>pyquickhelper</td>\n",
              "    </tr>\n",
              "  </tbody>\n",
              "</table>\n",
              "</div>"
            ],
            "text/plain": [
              "   branch  local     repository\n",
              "0  master   True  pyquickhelper\n",
              "1  master  False  pyquickhelper"
            ]
          },
          "execution_count": null,
          "metadata": {},
          "output_type": "execute_result"
        }
      ],
      "source": [
        "repo.branches()"
      ]
    },
    {
      "cell_type": "markdown",
      "metadata": {},
      "source": [
        "One funny function. No idea if that gives a good estimation."
      ]
    },
    {
      "cell_type": "code",
      "execution_count": null,
      "metadata": {},
      "outputs": [
        {
          "name": "stderr",
          "output_type": "stream",
          "text": [
            "c:\\Python36_x64\\lib\\site-packages\\gitpandas\\repository.py:461: UserWarning: Warning, extensions and ignore_dir will be deprecated in v2.0.0, please use ignore_globs instead\n",
            "  warnings.warn('Warning, extensions and ignore_dir will be deprecated in v2.0.0, please use ignore_globs instead')\n"
          ]
        },
        {
          "data": {
            "text/html": [
              "<div>\n",
              "<style>\n",
              "    .dataframe thead tr:only-child th {\n",
              "        text-align: right;\n",
              "    }\n",
              "\n",
              "    .dataframe thead th {\n",
              "        text-align: left;\n",
              "    }\n",
              "\n",
              "    .dataframe tbody tr th {\n",
              "        vertical-align: top;\n",
              "    }\n",
              "</style>\n",
              "<table border=\"1\" class=\"dataframe\">\n",
              "  <thead>\n",
              "    <tr style=\"text-align: right;\">\n",
              "      <th></th>\n",
              "      <th>committer</th>\n",
              "      <th>hours</th>\n",
              "    </tr>\n",
              "  </thead>\n",
              "  <tbody>\n",
              "    <tr>\n",
              "      <th>0</th>\n",
              "      <td>ped4747</td>\n",
              "      <td>0.000000</td>\n",
              "    </tr>\n",
              "    <tr>\n",
              "      <th>1</th>\n",
              "      <td>sdpython</td>\n",
              "      <td>107.178611</td>\n",
              "    </tr>\n",
              "    <tr>\n",
              "      <th>2</th>\n",
              "      <td>azure provisioned user</td>\n",
              "      <td>2.483333</td>\n",
              "    </tr>\n",
              "    <tr>\n",
              "      <th>3</th>\n",
              "      <td>xavier dupr\u00e9</td>\n",
              "      <td>227.407500</td>\n",
              "    </tr>\n",
              "    <tr>\n",
              "      <th>4</th>\n",
              "      <td>dupre</td>\n",
              "      <td>515.906667</td>\n",
              "    </tr>\n",
              "  </tbody>\n",
              "</table>\n",
              "</div>"
            ],
            "text/plain": [
              "                committer       hours\n",
              "0                 ped4747    0.000000\n",
              "1                sdpython  107.178611\n",
              "2  azure provisioned user    2.483333\n",
              "3            xavier dupr\u00e9  227.407500\n",
              "4                   dupre  515.906667"
            ]
          },
          "execution_count": null,
          "metadata": {},
          "output_type": "execute_result"
        }
      ],
      "source": [
        "use = repo.hours_estimate()\n",
        "use"
      ]
    },
    {
      "cell_type": "code",
      "execution_count": null,
      "metadata": {},
      "outputs": [
        {
          "data": {
            "text/plain": [
              "106.62201388888889"
            ]
          },
          "execution_count": null,
          "metadata": {},
          "output_type": "execute_result"
        }
      ],
      "source": [
        "workdays = use.hours.sum() / 8\n",
        "workdays"
      ]
    },
    {
      "cell_type": "markdown",
      "metadata": {},
      "source": [
        "I might be very slow then :) becauase I think I spend more time than that."
      ]
    },
    {
      "cell_type": "markdown",
      "metadata": {},
      "source": [
        "## Logs\n",
        "\n",
        "The following cane take some time depending on you repository size."
      ]
    },
    {
      "cell_type": "code",
      "execution_count": null,
      "metadata": {},
      "outputs": [
        {
          "name": "stderr",
          "output_type": "stream",
          "text": [
            "c:\\Python36_x64\\lib\\site-packages\\gitpandas\\repository.py:461: UserWarning: Warning, extensions and ignore_dir will be deprecated in v2.0.0, please use ignore_globs instead\n",
            "  warnings.warn('Warning, extensions and ignore_dir will be deprecated in v2.0.0, please use ignore_globs instead')\n"
          ]
        }
      ],
      "source": [
        "hist = repo.commit_history()"
      ]
    },
    {
      "cell_type": "code",
      "execution_count": null,
      "metadata": {},
      "outputs": [
        {
          "data": {
            "text/html": [
              "<div>\n",
              "<style>\n",
              "    .dataframe thead tr:only-child th {\n",
              "        text-align: right;\n",
              "    }\n",
              "\n",
              "    .dataframe thead th {\n",
              "        text-align: left;\n",
              "    }\n",
              "\n",
              "    .dataframe tbody tr th {\n",
              "        vertical-align: top;\n",
              "    }\n",
              "</style>\n",
              "<table border=\"1\" class=\"dataframe\">\n",
              "  <thead>\n",
              "    <tr style=\"text-align: right;\">\n",
              "      <th></th>\n",
              "      <th>author</th>\n",
              "      <th>committer</th>\n",
              "      <th>message</th>\n",
              "      <th>lines</th>\n",
              "      <th>insertions</th>\n",
              "      <th>deletions</th>\n",
              "      <th>net</th>\n",
              "    </tr>\n",
              "    <tr>\n",
              "      <th>date</th>\n",
              "      <th></th>\n",
              "      <th></th>\n",
              "      <th></th>\n",
              "      <th></th>\n",
              "      <th></th>\n",
              "      <th></th>\n",
              "      <th></th>\n",
              "    </tr>\n",
              "  </thead>\n",
              "  <tbody>\n",
              "    <tr>\n",
              "      <th>2017-08-25 02:12:45</th>\n",
              "      <td>xavier dupr\u00e9</td>\n",
              "      <td>xavier dupr\u00e9</td>\n",
              "      <td>add notebook + requirements\\n</td>\n",
              "      <td>1504</td>\n",
              "      <td>1504</td>\n",
              "      <td>0</td>\n",
              "      <td>1504</td>\n",
              "    </tr>\n",
              "    <tr>\n",
              "      <th>2017-08-25 02:08:12</th>\n",
              "      <td>xavier dupr\u00e9</td>\n",
              "      <td>xavier dupr\u00e9</td>\n",
              "      <td>extend functionalities to get details about fi...</td>\n",
              "      <td>408</td>\n",
              "      <td>379</td>\n",
              "      <td>29</td>\n",
              "      <td>350</td>\n",
              "    </tr>\n",
              "    <tr>\n",
              "      <th>2017-08-25 00:57:36</th>\n",
              "      <td>xavier dupr\u00e9</td>\n",
              "      <td>xavier dupr\u00e9</td>\n",
              "      <td>fix coverage report\\n</td>\n",
              "      <td>134</td>\n",
              "      <td>129</td>\n",
              "      <td>5</td>\n",
              "      <td>124</td>\n",
              "    </tr>\n",
              "    <tr>\n",
              "      <th>2017-08-22 23:05:21</th>\n",
              "      <td>xavier dupr\u00e9</td>\n",
              "      <td>xavier dupr\u00e9</td>\n",
              "      <td>better error message\\n</td>\n",
              "      <td>4</td>\n",
              "      <td>2</td>\n",
              "      <td>2</td>\n",
              "      <td>0</td>\n",
              "    </tr>\n",
              "    <tr>\n",
              "      <th>2017-08-22 12:53:45</th>\n",
              "      <td>xavier dupr\u00e9</td>\n",
              "      <td>xavier dupr\u00e9</td>\n",
              "      <td>add links\\n</td>\n",
              "      <td>5</td>\n",
              "      <td>5</td>\n",
              "      <td>0</td>\n",
              "      <td>5</td>\n",
              "    </tr>\n",
              "  </tbody>\n",
              "</table>\n",
              "</div>"
            ],
            "text/plain": [
              "                           author     committer  \\\n",
              "date                                              \n",
              "2017-08-25 02:12:45  xavier dupr\u00e9  xavier dupr\u00e9   \n",
              "2017-08-25 02:08:12  xavier dupr\u00e9  xavier dupr\u00e9   \n",
              "2017-08-25 00:57:36  xavier dupr\u00e9  xavier dupr\u00e9   \n",
              "2017-08-22 23:05:21  xavier dupr\u00e9  xavier dupr\u00e9   \n",
              "2017-08-22 12:53:45  xavier dupr\u00e9  xavier dupr\u00e9   \n",
              "\n",
              "                                                               message  lines  \\\n",
              "date                                                                            \n",
              "2017-08-25 02:12:45                      add notebook + requirements\\n   1504   \n",
              "2017-08-25 02:08:12  extend functionalities to get details about fi...    408   \n",
              "2017-08-25 00:57:36                              fix coverage report\\n    134   \n",
              "2017-08-22 23:05:21                             better error message\\n      4   \n",
              "2017-08-22 12:53:45                                        add links\\n      5   \n",
              "\n",
              "                     insertions  deletions   net  \n",
              "date                                              \n",
              "2017-08-25 02:12:45        1504          0  1504  \n",
              "2017-08-25 02:08:12         379         29   350  \n",
              "2017-08-25 00:57:36         129          5   124  \n",
              "2017-08-22 23:05:21           2          2     0  \n",
              "2017-08-22 12:53:45           5          0     5  "
            ]
          },
          "execution_count": null,
          "metadata": {},
          "output_type": "execute_result"
        }
      ],
      "source": [
        "hist.head()"
      ]
    },
    {
      "cell_type": "code",
      "execution_count": null,
      "metadata": {},
      "outputs": [
        {
          "data": {
            "text/plain": [
              "122816"
            ]
          },
          "execution_count": null,
          "metadata": {},
          "output_type": "execute_result"
        }
      ],
      "source": [
        "hist.net.sum()"
      ]
    },
    {
      "cell_type": "code",
      "execution_count": null,
      "metadata": {},
      "outputs": [
        {
          "name": "stderr",
          "output_type": "stream",
          "text": [
            "c:\\Python36_x64\\lib\\site-packages\\gitpandas\\repository.py:461: UserWarning: Warning, extensions and ignore_dir will be deprecated in v2.0.0, please use ignore_globs instead\n",
            "  warnings.warn('Warning, extensions and ignore_dir will be deprecated in v2.0.0, please use ignore_globs instead')\n"
          ]
        }
      ],
      "source": [
        "histf = repo.file_change_history()"
      ]
    },
    {
      "cell_type": "code",
      "execution_count": null,
      "metadata": {},
      "outputs": [
        {
          "data": {
            "text/html": [
              "<div>\n",
              "<style>\n",
              "    .dataframe thead tr:only-child th {\n",
              "        text-align: right;\n",
              "    }\n",
              "\n",
              "    .dataframe thead th {\n",
              "        text-align: left;\n",
              "    }\n",
              "\n",
              "    .dataframe tbody tr th {\n",
              "        vertical-align: top;\n",
              "    }\n",
              "</style>\n",
              "<table border=\"1\" class=\"dataframe\">\n",
              "  <thead>\n",
              "    <tr style=\"text-align: right;\">\n",
              "      <th></th>\n",
              "      <th>author</th>\n",
              "      <th>committer</th>\n",
              "      <th>message</th>\n",
              "      <th>rev</th>\n",
              "      <th>filename</th>\n",
              "      <th>insertions</th>\n",
              "      <th>deletions</th>\n",
              "    </tr>\n",
              "    <tr>\n",
              "      <th>date</th>\n",
              "      <th></th>\n",
              "      <th></th>\n",
              "      <th></th>\n",
              "      <th></th>\n",
              "      <th></th>\n",
              "      <th></th>\n",
              "      <th></th>\n",
              "    </tr>\n",
              "  </thead>\n",
              "  <tbody>\n",
              "    <tr>\n",
              "      <th>2017-08-25 02:12:45</th>\n",
              "      <td>xavier dupr\u00e9</td>\n",
              "      <td>xavier dupr\u00e9</td>\n",
              "      <td>add notebook + requirements\\n</td>\n",
              "      <td>3f81e3ac22198e76df15eb85cf896cdb826e2990</td>\n",
              "      <td>_doc/notebooks/git_dataframes.ipynb</td>\n",
              "      <td>1503</td>\n",
              "      <td>0</td>\n",
              "    </tr>\n",
              "    <tr>\n",
              "      <th>2017-08-25 02:12:45</th>\n",
              "      <td>xavier dupr\u00e9</td>\n",
              "      <td>xavier dupr\u00e9</td>\n",
              "      <td>add notebook + requirements\\n</td>\n",
              "      <td>3f81e3ac22198e76df15eb85cf896cdb826e2990</td>\n",
              "      <td>requirements.txt</td>\n",
              "      <td>1</td>\n",
              "      <td>0</td>\n",
              "    </tr>\n",
              "    <tr>\n",
              "      <th>2017-08-25 02:08:12</th>\n",
              "      <td>xavier dupr\u00e9</td>\n",
              "      <td>xavier dupr\u00e9</td>\n",
              "      <td>extend functionalities to get details about fi...</td>\n",
              "      <td>549ecdac1fd664e70e90bf17fc0089536fa1af65</td>\n",
              "      <td>HISTORY.rst</td>\n",
              "      <td>1</td>\n",
              "      <td>0</td>\n",
              "    </tr>\n",
              "    <tr>\n",
              "      <th>2017-08-25 02:08:12</th>\n",
              "      <td>xavier dupr\u00e9</td>\n",
              "      <td>xavier dupr\u00e9</td>\n",
              "      <td>extend functionalities to get details about fi...</td>\n",
              "      <td>549ecdac1fd664e70e90bf17fc0089536fa1af65</td>\n",
              "      <td>_unittests/ut_loghelper/test_git_log.py</td>\n",
              "      <td>119</td>\n",
              "      <td>0</td>\n",
              "    </tr>\n",
              "    <tr>\n",
              "      <th>2017-08-25 02:08:12</th>\n",
              "      <td>xavier dupr\u00e9</td>\n",
              "      <td>xavier dupr\u00e9</td>\n",
              "      <td>extend functionalities to get details about fi...</td>\n",
              "      <td>549ecdac1fd664e70e90bf17fc0089536fa1af65</td>\n",
              "      <td>src/pyquickhelper/loghelper/repositories/pygit...</td>\n",
              "      <td>259</td>\n",
              "      <td>29</td>\n",
              "    </tr>\n",
              "  </tbody>\n",
              "</table>\n",
              "</div>"
            ],
            "text/plain": [
              "                           author     committer  \\\n",
              "date                                              \n",
              "2017-08-25 02:12:45  xavier dupr\u00e9  xavier dupr\u00e9   \n",
              "2017-08-25 02:12:45  xavier dupr\u00e9  xavier dupr\u00e9   \n",
              "2017-08-25 02:08:12  xavier dupr\u00e9  xavier dupr\u00e9   \n",
              "2017-08-25 02:08:12  xavier dupr\u00e9  xavier dupr\u00e9   \n",
              "2017-08-25 02:08:12  xavier dupr\u00e9  xavier dupr\u00e9   \n",
              "\n",
              "                                                               message  \\\n",
              "date                                                                     \n",
              "2017-08-25 02:12:45                      add notebook + requirements\\n   \n",
              "2017-08-25 02:12:45                      add notebook + requirements\\n   \n",
              "2017-08-25 02:08:12  extend functionalities to get details about fi...   \n",
              "2017-08-25 02:08:12  extend functionalities to get details about fi...   \n",
              "2017-08-25 02:08:12  extend functionalities to get details about fi...   \n",
              "\n",
              "                                                          rev  \\\n",
              "date                                                            \n",
              "2017-08-25 02:12:45  3f81e3ac22198e76df15eb85cf896cdb826e2990   \n",
              "2017-08-25 02:12:45  3f81e3ac22198e76df15eb85cf896cdb826e2990   \n",
              "2017-08-25 02:08:12  549ecdac1fd664e70e90bf17fc0089536fa1af65   \n",
              "2017-08-25 02:08:12  549ecdac1fd664e70e90bf17fc0089536fa1af65   \n",
              "2017-08-25 02:08:12  549ecdac1fd664e70e90bf17fc0089536fa1af65   \n",
              "\n",
              "                                                              filename  \\\n",
              "date                                                                     \n",
              "2017-08-25 02:12:45                _doc/notebooks/git_dataframes.ipynb   \n",
              "2017-08-25 02:12:45                                   requirements.txt   \n",
              "2017-08-25 02:08:12                                        HISTORY.rst   \n",
              "2017-08-25 02:08:12            _unittests/ut_loghelper/test_git_log.py   \n",
              "2017-08-25 02:08:12  src/pyquickhelper/loghelper/repositories/pygit...   \n",
              "\n",
              "                     insertions  deletions  \n",
              "date                                        \n",
              "2017-08-25 02:12:45        1503          0  \n",
              "2017-08-25 02:12:45           1          0  \n",
              "2017-08-25 02:08:12           1          0  \n",
              "2017-08-25 02:08:12         119          0  \n",
              "2017-08-25 02:08:12         259         29  "
            ]
          },
          "execution_count": null,
          "metadata": {},
          "output_type": "execute_result"
        }
      ],
      "source": [
        "histf.head()"
      ]
    },
    {
      "cell_type": "code",
      "execution_count": null,
      "metadata": {},
      "outputs": [
        {
          "data": {
            "text/html": [
              "<div>\n",
              "<style>\n",
              "    .dataframe thead tr:only-child th {\n",
              "        text-align: right;\n",
              "    }\n",
              "\n",
              "    .dataframe thead th {\n",
              "        text-align: left;\n",
              "    }\n",
              "\n",
              "    .dataframe tbody tr th {\n",
              "        vertical-align: top;\n",
              "    }\n",
              "</style>\n",
              "<table border=\"1\" class=\"dataframe\">\n",
              "  <thead>\n",
              "    <tr style=\"text-align: right;\">\n",
              "      <th></th>\n",
              "      <th>author</th>\n",
              "      <th>committer</th>\n",
              "      <th>message</th>\n",
              "      <th>rev</th>\n",
              "      <th>filename</th>\n",
              "      <th>insertions</th>\n",
              "      <th>deletions</th>\n",
              "    </tr>\n",
              "    <tr>\n",
              "      <th>date</th>\n",
              "      <th></th>\n",
              "      <th></th>\n",
              "      <th></th>\n",
              "      <th></th>\n",
              "      <th></th>\n",
              "      <th></th>\n",
              "      <th></th>\n",
              "    </tr>\n",
              "  </thead>\n",
              "  <tbody>\n",
              "    <tr>\n",
              "      <th>2013-12-28 02:32:34</th>\n",
              "      <td>sdpython</td>\n",
              "      <td>sdpython</td>\n",
              "      <td>first version, doc, unit test, setup\\n</td>\n",
              "      <td>b94d02d8e4bc124e7203c936cdde9570b8392d59</td>\n",
              "      <td>src/pyquickhelper/sync/file_tree_node.py</td>\n",
              "      <td>399</td>\n",
              "      <td>0</td>\n",
              "    </tr>\n",
              "    <tr>\n",
              "      <th>2013-12-28 02:32:34</th>\n",
              "      <td>sdpython</td>\n",
              "      <td>sdpython</td>\n",
              "      <td>first version, doc, unit test, setup\\n</td>\n",
              "      <td>b94d02d8e4bc124e7203c936cdde9570b8392d59</td>\n",
              "      <td>src/pyquickhelper/sync/synchelper.py</td>\n",
              "      <td>256</td>\n",
              "      <td>0</td>\n",
              "    </tr>\n",
              "    <tr>\n",
              "      <th>2013-12-28 02:32:34</th>\n",
              "      <td>sdpython</td>\n",
              "      <td>sdpython</td>\n",
              "      <td>first version, doc, unit test, setup\\n</td>\n",
              "      <td>b94d02d8e4bc124e7203c936cdde9570b8392d59</td>\n",
              "      <td>src/pyquickhelper/unittests/__init__.py</td>\n",
              "      <td>0</td>\n",
              "      <td>0</td>\n",
              "    </tr>\n",
              "    <tr>\n",
              "      <th>2013-12-28 02:32:34</th>\n",
              "      <td>sdpython</td>\n",
              "      <td>sdpython</td>\n",
              "      <td>first version, doc, unit test, setup\\n</td>\n",
              "      <td>b94d02d8e4bc124e7203c936cdde9570b8392d59</td>\n",
              "      <td>src/pyquickhelper/unittests/utils_tests.py</td>\n",
              "      <td>280</td>\n",
              "      <td>0</td>\n",
              "    </tr>\n",
              "    <tr>\n",
              "      <th>2013-12-28 02:32:34</th>\n",
              "      <td>sdpython</td>\n",
              "      <td>sdpython</td>\n",
              "      <td>first version, doc, unit test, setup\\n</td>\n",
              "      <td>b94d02d8e4bc124e7203c936cdde9570b8392d59</td>\n",
              "      <td>src/version.txt</td>\n",
              "      <td>1</td>\n",
              "      <td>0</td>\n",
              "    </tr>\n",
              "  </tbody>\n",
              "</table>\n",
              "</div>"
            ],
            "text/plain": [
              "                       author committer  \\\n",
              "date                                      \n",
              "2013-12-28 02:32:34  sdpython  sdpython   \n",
              "2013-12-28 02:32:34  sdpython  sdpython   \n",
              "2013-12-28 02:32:34  sdpython  sdpython   \n",
              "2013-12-28 02:32:34  sdpython  sdpython   \n",
              "2013-12-28 02:32:34  sdpython  sdpython   \n",
              "\n",
              "                                                    message  \\\n",
              "date                                                          \n",
              "2013-12-28 02:32:34  first version, doc, unit test, setup\\n   \n",
              "2013-12-28 02:32:34  first version, doc, unit test, setup\\n   \n",
              "2013-12-28 02:32:34  first version, doc, unit test, setup\\n   \n",
              "2013-12-28 02:32:34  first version, doc, unit test, setup\\n   \n",
              "2013-12-28 02:32:34  first version, doc, unit test, setup\\n   \n",
              "\n",
              "                                                          rev  \\\n",
              "date                                                            \n",
              "2013-12-28 02:32:34  b94d02d8e4bc124e7203c936cdde9570b8392d59   \n",
              "2013-12-28 02:32:34  b94d02d8e4bc124e7203c936cdde9570b8392d59   \n",
              "2013-12-28 02:32:34  b94d02d8e4bc124e7203c936cdde9570b8392d59   \n",
              "2013-12-28 02:32:34  b94d02d8e4bc124e7203c936cdde9570b8392d59   \n",
              "2013-12-28 02:32:34  b94d02d8e4bc124e7203c936cdde9570b8392d59   \n",
              "\n",
              "                                                       filename  insertions  \\\n",
              "date                                                                          \n",
              "2013-12-28 02:32:34    src/pyquickhelper/sync/file_tree_node.py         399   \n",
              "2013-12-28 02:32:34        src/pyquickhelper/sync/synchelper.py         256   \n",
              "2013-12-28 02:32:34     src/pyquickhelper/unittests/__init__.py           0   \n",
              "2013-12-28 02:32:34  src/pyquickhelper/unittests/utils_tests.py         280   \n",
              "2013-12-28 02:32:34                             src/version.txt           1   \n",
              "\n",
              "                     deletions  \n",
              "date                            \n",
              "2013-12-28 02:32:34          0  \n",
              "2013-12-28 02:32:34          0  \n",
              "2013-12-28 02:32:34          0  \n",
              "2013-12-28 02:32:34          0  \n",
              "2013-12-28 02:32:34          0  "
            ]
          },
          "execution_count": null,
          "metadata": {},
          "output_type": "execute_result"
        }
      ],
      "source": [
        "histf.tail()"
      ]
    },
    {
      "cell_type": "markdown",
      "metadata": {},
      "source": [
        "## Check removed files"
      ]
    },
    {
      "cell_type": "code",
      "execution_count": null,
      "metadata": {},
      "outputs": [
        {
          "data": {
            "text/plain": [
              "760"
            ]
          },
          "execution_count": null,
          "metadata": {},
          "output_type": "execute_result"
        }
      ],
      "source": [
        "unique = set(histf.filename)\n",
        "len(unique)"
      ]
    },
    {
      "cell_type": "code",
      "execution_count": null,
      "metadata": {
        "collapsed": true
      },
      "outputs": [],
      "source": [
        "import os\n",
        "sorted_unique = list(sorted(unique))\n",
        "full_path = [os.path.join(repo.repo.working_dir, _) for _ in sorted_unique]"
      ]
    },
    {
      "cell_type": "code",
      "execution_count": null,
      "metadata": {
        "collapsed": true
      },
      "outputs": [],
      "source": [
        "import numpy\n",
        "exists = [os.path.exists(f) for f in full_path]\n",
        "sizes = [os.stat(f).st_size if os.path.exists(f) else numpy.nan for f in full_path]"
      ]
    },
    {
      "cell_type": "code",
      "execution_count": null,
      "metadata": {},
      "outputs": [
        {
          "data": {
            "text/html": [
              "<div>\n",
              "<style>\n",
              "    .dataframe thead tr:only-child th {\n",
              "        text-align: right;\n",
              "    }\n",
              "\n",
              "    .dataframe thead th {\n",
              "        text-align: left;\n",
              "    }\n",
              "\n",
              "    .dataframe tbody tr th {\n",
              "        vertical-align: top;\n",
              "    }\n",
              "</style>\n",
              "<table border=\"1\" class=\"dataframe\">\n",
              "  <thead>\n",
              "    <tr style=\"text-align: right;\">\n",
              "      <th></th>\n",
              "      <th>exists</th>\n",
              "      <th>name</th>\n",
              "      <th>size</th>\n",
              "    </tr>\n",
              "  </thead>\n",
              "  <tbody>\n",
              "    <tr>\n",
              "      <th>247</th>\n",
              "      <td>True</td>\n",
              "      <td>_unittests/ut_helpgen/notebooks_js/js_plotly.i...</td>\n",
              "      <td>222223.0</td>\n",
              "    </tr>\n",
              "    <tr>\n",
              "      <th>239</th>\n",
              "      <td>True</td>\n",
              "      <td>_unittests/ut_helpgen/notebooks/td1a_cenonce_s...</td>\n",
              "      <td>258184.0</td>\n",
              "    </tr>\n",
              "    <tr>\n",
              "      <th>140</th>\n",
              "      <td>True</td>\n",
              "      <td>_doc/sphinxdoc/source/tutorial/images/automati...</td>\n",
              "      <td>328121.0</td>\n",
              "    </tr>\n",
              "    <tr>\n",
              "      <th>61</th>\n",
              "      <td>True</td>\n",
              "      <td>_doc/sphinxdoc/source/automation.jpg</td>\n",
              "      <td>328121.0</td>\n",
              "    </tr>\n",
              "    <tr>\n",
              "      <th>255</th>\n",
              "      <td>True</td>\n",
              "      <td>_unittests/ut_helpgen/notebooks_svg/seance4_pr...</td>\n",
              "      <td>399746.0</td>\n",
              "    </tr>\n",
              "  </tbody>\n",
              "</table>\n",
              "</div>"
            ],
            "text/plain": [
              "     exists                                               name      size\n",
              "247    True  _unittests/ut_helpgen/notebooks_js/js_plotly.i...  222223.0\n",
              "239    True  _unittests/ut_helpgen/notebooks/td1a_cenonce_s...  258184.0\n",
              "140    True  _doc/sphinxdoc/source/tutorial/images/automati...  328121.0\n",
              "61     True               _doc/sphinxdoc/source/automation.jpg  328121.0\n",
              "255    True  _unittests/ut_helpgen/notebooks_svg/seance4_pr...  399746.0"
            ]
          },
          "execution_count": null,
          "metadata": {},
          "output_type": "execute_result"
        }
      ],
      "source": [
        "import pandas\n",
        "removed = pandas.DataFrame(dict(name=sorted_unique, exists=exists, size=sizes))\n",
        "removed.sort_values(\"size\").dropna().tail()"
      ]
    },
    {
      "cell_type": "markdown",
      "metadata": {},
      "source": [
        "How many files not exist anymore?"
      ]
    },
    {
      "cell_type": "code",
      "execution_count": null,
      "metadata": {},
      "outputs": [
        {
          "data": {
            "text/plain": [
              "(148, 3)"
            ]
          },
          "execution_count": null,
          "metadata": {},
          "output_type": "execute_result"
        }
      ],
      "source": [
        "removed[~removed.exists].shape"
      ]
    },
    {
      "cell_type": "code",
      "execution_count": null,
      "metadata": {},
      "outputs": [
        {
          "data": {
            "text/html": [
              "<div>\n",
              "<style>\n",
              "    .dataframe thead tr:only-child th {\n",
              "        text-align: right;\n",
              "    }\n",
              "\n",
              "    .dataframe thead th {\n",
              "        text-align: left;\n",
              "    }\n",
              "\n",
              "    .dataframe tbody tr th {\n",
              "        vertical-align: top;\n",
              "    }\n",
              "</style>\n",
              "<table border=\"1\" class=\"dataframe\">\n",
              "  <thead>\n",
              "    <tr style=\"text-align: right;\">\n",
              "      <th></th>\n",
              "      <th>exists</th>\n",
              "      <th>name</th>\n",
              "      <th>size</th>\n",
              "    </tr>\n",
              "  </thead>\n",
              "  <tbody>\n",
              "    <tr>\n",
              "      <th>0</th>\n",
              "      <td>False</td>\n",
              "      <td>\"_unittests/ut_sync/data/bug/bugged/Pr\\303\\251...</td>\n",
              "      <td>NaN</td>\n",
              "    </tr>\n",
              "    <tr>\n",
              "      <th>1</th>\n",
              "      <td>False</td>\n",
              "      <td>.circle.yml</td>\n",
              "      <td>NaN</td>\n",
              "    </tr>\n",
              "    <tr>\n",
              "      <th>2</th>\n",
              "      <td>False</td>\n",
              "      <td>.circle.yml =&gt; circle.yml</td>\n",
              "      <td>NaN</td>\n",
              "    </tr>\n",
              "    <tr>\n",
              "      <th>4</th>\n",
              "      <td>False</td>\n",
              "      <td>.coveragerc</td>\n",
              "      <td>NaN</td>\n",
              "    </tr>\n",
              "    <tr>\n",
              "      <th>5</th>\n",
              "      <td>False</td>\n",
              "      <td>.coveralls.yml</td>\n",
              "      <td>NaN</td>\n",
              "    </tr>\n",
              "  </tbody>\n",
              "</table>\n",
              "</div>"
            ],
            "text/plain": [
              "   exists                                               name  size\n",
              "0   False  \"_unittests/ut_sync/data/bug/bugged/Pr\\303\\251...   NaN\n",
              "1   False                                        .circle.yml   NaN\n",
              "2   False                          .circle.yml => circle.yml   NaN\n",
              "4   False                                        .coveragerc   NaN\n",
              "5   False                                     .coveralls.yml   NaN"
            ]
          },
          "execution_count": null,
          "metadata": {},
          "output_type": "execute_result"
        }
      ],
      "source": [
        "removed[~removed.exists].head()"
      ]
    },
    {
      "cell_type": "code",
      "execution_count": null,
      "metadata": {
        "collapsed": true
      },
      "outputs": [],
      "source": [
        "g = repo.repo.git()"
      ]
    },
    {
      "cell_type": "code",
      "execution_count": null,
      "metadata": {},
      "outputs": [
        {
          "name": "stdout",
          "output_type": "stream",
          "text": [
            "commit eba47ba0e8fb6cd7b10f62628a6ae71731b7418f\n",
            "log size 105\n",
            "Author: xavier dupr\u00e9 <xavier.dupre@gmail.com>\n",
            "Date:   Sat Mar 11 22:24:45 2017 +0100\n",
            "\n",
            "    update python\n",
            "\n",
            "commit 0ca2465e8c2f68762442df1920fbc6300ef09a60\n",
            "log size 102\n",
            "Author: dupre <xavier.dupre@ensae.fr>\n",
            "Date:   Mon Apr 25 21:18:18 2016 +0200\n",
            "\n",
            "    update build_script\n",
            "\n",
            "commit d0dd08cdd12995b4a3e2423b8434bbfcd38d4e66\n",
            "log size 120\n",
            "Author: dupre <xavier.dupre@ensae.fr>\n",
            "Date:   Fri Sep 18 00:50:44 2015 +0200\n",
            "\n",
            "    revert to python 3.4 build_script.bat\n",
            "\n",
            "commit 0e2306bf7fc99dc15c6f6d0f8a2abeb74bb6b893\n",
            "log size 137\n",
            "Author: dupre <xavier.dupre@ensae.fr>\n",
            "Date:   Thu Sep 17 22:05:00 2015 +0200\n",
            "\n",
            "    update to deal with Python 3.5, minimizes dependencies\n",
            "\n",
            "commit 9e6fd6acd73670a3b2aa4098f33f015f5c1ae8a7\n",
            "log size 155\n",
            "Author: dupre <xavier.dupre@ensae.fr>\n",
            "Date:   Sun May 3 12:49:38 2015 +0200\n",
            "\n",
            "    add the script automation to the module, it automatically creates scripts\n"
          ]
        }
      ],
      "source": [
        "print(g.execute('git log --log-size --abbrev --follow \"build_script.bat\"'))"
      ]
    },
    {
      "cell_type": "code",
      "execution_count": null,
      "metadata": {},
      "outputs": [
        {
          "data": {
            "text/plain": [
              "['xavier dupr\u00e9',\n",
              " '3f81e3ac',\n",
              " datetime.datetime(2017, 8, 25, 0, 0),\n",
              " 'add notebook + requirements',\n",
              " '3f81e3ac22198e76df15eb85cf896cdb826e2990',\n",
              " 'https://github.com/sdpython/pyquickhelper/commit/3f81e3ac22198e76df15eb85cf896cdb826e2990']"
            ]
          },
          "execution_count": null,
          "metadata": {},
          "output_type": "execute_result"
        }
      ],
      "source": [
        "from pyquickhelper.loghelper.repositories.pygit_helper import get_repo_log\n",
        "res = get_repo_log(repo.repo.working_dir)\n",
        "res[0]"
      ]
    },
    {
      "cell_type": "code",
      "execution_count": null,
      "metadata": {},
      "outputs": [
        {
          "data": {
            "text/html": [
              "<div>\n",
              "<style>\n",
              "    .dataframe thead tr:only-child th {\n",
              "        text-align: right;\n",
              "    }\n",
              "\n",
              "    .dataframe thead th {\n",
              "        text-align: left;\n",
              "    }\n",
              "\n",
              "    .dataframe tbody tr th {\n",
              "        vertical-align: top;\n",
              "    }\n",
              "</style>\n",
              "<table border=\"1\" class=\"dataframe\">\n",
              "  <thead>\n",
              "    <tr style=\"text-align: right;\">\n",
              "      <th></th>\n",
              "      <th>owner</th>\n",
              "      <th>hash</th>\n",
              "      <th>datetime</th>\n",
              "      <th>comment</th>\n",
              "      <th>full_hash</th>\n",
              "      <th>path</th>\n",
              "    </tr>\n",
              "  </thead>\n",
              "  <tbody>\n",
              "    <tr>\n",
              "      <th>0</th>\n",
              "      <td>xavier dupr\u00e9</td>\n",
              "      <td>3f81e3ac</td>\n",
              "      <td>2017-08-25</td>\n",
              "      <td>add notebook + requirements</td>\n",
              "      <td>3f81e3ac22198e76df15eb85cf896cdb826e2990</td>\n",
              "      <td>https://github.com/sdpython/pyquickhelper/comm...</td>\n",
              "    </tr>\n",
              "    <tr>\n",
              "      <th>1</th>\n",
              "      <td>xavier dupr\u00e9</td>\n",
              "      <td>549ecdac</td>\n",
              "      <td>2017-08-25</td>\n",
              "      <td>extend functionalities to get details about fi...</td>\n",
              "      <td>549ecdac1fd664e70e90bf17fc0089536fa1af65</td>\n",
              "      <td>https://github.com/sdpython/pyquickhelper/comm...</td>\n",
              "    </tr>\n",
              "    <tr>\n",
              "      <th>2</th>\n",
              "      <td>xavier dupr\u00e9</td>\n",
              "      <td>6befd7dc</td>\n",
              "      <td>2017-08-25</td>\n",
              "      <td>fix coverage report</td>\n",
              "      <td>6befd7dcf77882204004adef1484b68d89fb9532</td>\n",
              "      <td>https://github.com/sdpython/pyquickhelper/comm...</td>\n",
              "    </tr>\n",
              "    <tr>\n",
              "      <th>3</th>\n",
              "      <td>xavier dupr\u00e9</td>\n",
              "      <td>475ed654</td>\n",
              "      <td>2017-08-22</td>\n",
              "      <td>better error message</td>\n",
              "      <td>475ed65453a713eea80643cf60a6409e9a94952c</td>\n",
              "      <td>https://github.com/sdpython/pyquickhelper/comm...</td>\n",
              "    </tr>\n",
              "    <tr>\n",
              "      <th>4</th>\n",
              "      <td>xavier dupr\u00e9</td>\n",
              "      <td>8b43dcf5</td>\n",
              "      <td>2017-08-22</td>\n",
              "      <td>add links</td>\n",
              "      <td>8b43dcf506e5c276755648daa6eb729e758c645b</td>\n",
              "      <td>https://github.com/sdpython/pyquickhelper/comm...</td>\n",
              "    </tr>\n",
              "  </tbody>\n",
              "</table>\n",
              "</div>"
            ],
            "text/plain": [
              "          owner      hash   datetime  \\\n",
              "0  xavier dupr\u00e9  3f81e3ac 2017-08-25   \n",
              "1  xavier dupr\u00e9  549ecdac 2017-08-25   \n",
              "2  xavier dupr\u00e9  6befd7dc 2017-08-25   \n",
              "3  xavier dupr\u00e9  475ed654 2017-08-22   \n",
              "4  xavier dupr\u00e9  8b43dcf5 2017-08-22   \n",
              "\n",
              "                                             comment  \\\n",
              "0                        add notebook + requirements   \n",
              "1  extend functionalities to get details about fi...   \n",
              "2                                fix coverage report   \n",
              "3                               better error message   \n",
              "4                                          add links   \n",
              "\n",
              "                                  full_hash  \\\n",
              "0  3f81e3ac22198e76df15eb85cf896cdb826e2990   \n",
              "1  549ecdac1fd664e70e90bf17fc0089536fa1af65   \n",
              "2  6befd7dcf77882204004adef1484b68d89fb9532   \n",
              "3  475ed65453a713eea80643cf60a6409e9a94952c   \n",
              "4  8b43dcf506e5c276755648daa6eb729e758c645b   \n",
              "\n",
              "                                                path  \n",
              "0  https://github.com/sdpython/pyquickhelper/comm...  \n",
              "1  https://github.com/sdpython/pyquickhelper/comm...  \n",
              "2  https://github.com/sdpython/pyquickhelper/comm...  \n",
              "3  https://github.com/sdpython/pyquickhelper/comm...  \n",
              "4  https://github.com/sdpython/pyquickhelper/comm...  "
            ]
          },
          "execution_count": null,
          "metadata": {},
          "output_type": "execute_result"
        }
      ],
      "source": [
        "df = pandas.DataFrame(data=res, columns=\"owner hash datetime comment full_hash path\".split())\n",
        "df.head()"
      ]
    },
    {
      "cell_type": "code",
      "execution_count": null,
      "metadata": {},
      "outputs": [
        {
          "data": {
            "text/plain": [
              "('xavier dupr\u00e9',\n",
              " '3f81e3ac',\n",
              " datetime.datetime(2017, 8, 25, 0, 0),\n",
              " 'add notebook + requirements',\n",
              " '3f81e3ac22198e76df15eb85cf896cdb826e2990',\n",
              " 'https://github.com/sdpython/pyquickhelper/commit/3f81e3ac22198e76df15eb85cf896cdb826e2990',\n",
              " '_doc/notebooks/git_dataframes.ipynb',\n",
              " 1503,\n",
              " 0)"
            ]
          },
          "execution_count": null,
          "metadata": {},
          "output_type": "execute_result"
        }
      ],
      "source": [
        "res = get_repo_log(repo.repo.working_dir, file_detail=True)\n",
        "res[0]"
      ]
    },
    {
      "cell_type": "code",
      "execution_count": null,
      "metadata": {},
      "outputs": [
        {
          "data": {
            "text/html": [
              "<div>\n",
              "<style>\n",
              "    .dataframe thead tr:only-child th {\n",
              "        text-align: right;\n",
              "    }\n",
              "\n",
              "    .dataframe thead th {\n",
              "        text-align: left;\n",
              "    }\n",
              "\n",
              "    .dataframe tbody tr th {\n",
              "        vertical-align: top;\n",
              "    }\n",
              "</style>\n",
              "<table border=\"1\" class=\"dataframe\">\n",
              "  <thead>\n",
              "    <tr style=\"text-align: right;\">\n",
              "      <th></th>\n",
              "      <th>owner</th>\n",
              "      <th>hash</th>\n",
              "      <th>datetime</th>\n",
              "      <th>comment</th>\n",
              "      <th>full_hash</th>\n",
              "      <th>path</th>\n",
              "      <th>name</th>\n",
              "      <th>net</th>\n",
              "      <th>bytes</th>\n",
              "    </tr>\n",
              "  </thead>\n",
              "  <tbody>\n",
              "    <tr>\n",
              "      <th>0</th>\n",
              "      <td>xavier dupr\u00e9</td>\n",
              "      <td>3f81e3ac</td>\n",
              "      <td>2017-08-25</td>\n",
              "      <td>add notebook + requirements</td>\n",
              "      <td>3f81e3ac22198e76df15eb85cf896cdb826e2990</td>\n",
              "      <td>https://github.com/sdpython/pyquickhelper/comm...</td>\n",
              "      <td>_doc/notebooks/git_dataframes.ipynb</td>\n",
              "      <td>1503</td>\n",
              "      <td>0</td>\n",
              "    </tr>\n",
              "    <tr>\n",
              "      <th>1</th>\n",
              "      <td>xavier dupr\u00e9</td>\n",
              "      <td>3f81e3ac</td>\n",
              "      <td>2017-08-25</td>\n",
              "      <td>add notebook + requirements</td>\n",
              "      <td>3f81e3ac22198e76df15eb85cf896cdb826e2990</td>\n",
              "      <td>https://github.com/sdpython/pyquickhelper/comm...</td>\n",
              "      <td>requirements.txt</td>\n",
              "      <td>1</td>\n",
              "      <td>0</td>\n",
              "    </tr>\n",
              "    <tr>\n",
              "      <th>2</th>\n",
              "      <td>xavier dupr\u00e9</td>\n",
              "      <td>549ecdac</td>\n",
              "      <td>2017-08-25</td>\n",
              "      <td>extend functionalities to get details about fi...</td>\n",
              "      <td>549ecdac1fd664e70e90bf17fc0089536fa1af65</td>\n",
              "      <td>https://github.com/sdpython/pyquickhelper/comm...</td>\n",
              "      <td>HISTORY.rst</td>\n",
              "      <td>1</td>\n",
              "      <td>0</td>\n",
              "    </tr>\n",
              "    <tr>\n",
              "      <th>3</th>\n",
              "      <td>xavier dupr\u00e9</td>\n",
              "      <td>549ecdac</td>\n",
              "      <td>2017-08-25</td>\n",
              "      <td>extend functionalities to get details about fi...</td>\n",
              "      <td>549ecdac1fd664e70e90bf17fc0089536fa1af65</td>\n",
              "      <td>https://github.com/sdpython/pyquickhelper/comm...</td>\n",
              "      <td>_unittests/ut_loghelper/test_git_log.py</td>\n",
              "      <td>119</td>\n",
              "      <td>0</td>\n",
              "    </tr>\n",
              "    <tr>\n",
              "      <th>4</th>\n",
              "      <td>xavier dupr\u00e9</td>\n",
              "      <td>549ecdac</td>\n",
              "      <td>2017-08-25</td>\n",
              "      <td>extend functionalities to get details about fi...</td>\n",
              "      <td>549ecdac1fd664e70e90bf17fc0089536fa1af65</td>\n",
              "      <td>https://github.com/sdpython/pyquickhelper/comm...</td>\n",
              "      <td>.../loghelper/repositories/pygit_helper.py</td>\n",
              "      <td>288</td>\n",
              "      <td>0</td>\n",
              "    </tr>\n",
              "  </tbody>\n",
              "</table>\n",
              "</div>"
            ],
            "text/plain": [
              "          owner      hash   datetime  \\\n",
              "0  xavier dupr\u00e9  3f81e3ac 2017-08-25   \n",
              "1  xavier dupr\u00e9  3f81e3ac 2017-08-25   \n",
              "2  xavier dupr\u00e9  549ecdac 2017-08-25   \n",
              "3  xavier dupr\u00e9  549ecdac 2017-08-25   \n",
              "4  xavier dupr\u00e9  549ecdac 2017-08-25   \n",
              "\n",
              "                                             comment  \\\n",
              "0                        add notebook + requirements   \n",
              "1                        add notebook + requirements   \n",
              "2  extend functionalities to get details about fi...   \n",
              "3  extend functionalities to get details about fi...   \n",
              "4  extend functionalities to get details about fi...   \n",
              "\n",
              "                                  full_hash  \\\n",
              "0  3f81e3ac22198e76df15eb85cf896cdb826e2990   \n",
              "1  3f81e3ac22198e76df15eb85cf896cdb826e2990   \n",
              "2  549ecdac1fd664e70e90bf17fc0089536fa1af65   \n",
              "3  549ecdac1fd664e70e90bf17fc0089536fa1af65   \n",
              "4  549ecdac1fd664e70e90bf17fc0089536fa1af65   \n",
              "\n",
              "                                                path  \\\n",
              "0  https://github.com/sdpython/pyquickhelper/comm...   \n",
              "1  https://github.com/sdpython/pyquickhelper/comm...   \n",
              "2  https://github.com/sdpython/pyquickhelper/comm...   \n",
              "3  https://github.com/sdpython/pyquickhelper/comm...   \n",
              "4  https://github.com/sdpython/pyquickhelper/comm...   \n",
              "\n",
              "                                         name   net  bytes  \n",
              "0         _doc/notebooks/git_dataframes.ipynb  1503      0  \n",
              "1                            requirements.txt     1      0  \n",
              "2                                 HISTORY.rst     1      0  \n",
              "3     _unittests/ut_loghelper/test_git_log.py   119      0  \n",
              "4  .../loghelper/repositories/pygit_helper.py   288      0  "
            ]
          },
          "execution_count": null,
          "metadata": {},
          "output_type": "execute_result"
        }
      ],
      "source": [
        "df = pandas.DataFrame(data=res, columns=\"owner hash datetime comment full_hash path name net bytes\".split())\n",
        "df.head()"
      ]
    },
    {
      "cell_type": "code",
      "execution_count": null,
      "metadata": {},
      "outputs": [
        {
          "data": {
            "text/html": [
              "<div>\n",
              "<style>\n",
              "    .dataframe thead tr:only-child th {\n",
              "        text-align: right;\n",
              "    }\n",
              "\n",
              "    .dataframe thead th {\n",
              "        text-align: left;\n",
              "    }\n",
              "\n",
              "    .dataframe tbody tr th {\n",
              "        vertical-align: top;\n",
              "    }\n",
              "</style>\n",
              "<table border=\"1\" class=\"dataframe\">\n",
              "  <thead>\n",
              "    <tr style=\"text-align: right;\">\n",
              "      <th></th>\n",
              "      <th>owner</th>\n",
              "      <th>hash</th>\n",
              "      <th>datetime</th>\n",
              "      <th>comment</th>\n",
              "      <th>full_hash</th>\n",
              "      <th>path</th>\n",
              "      <th>name</th>\n",
              "      <th>net</th>\n",
              "      <th>bytes</th>\n",
              "      <th>ext</th>\n",
              "    </tr>\n",
              "  </thead>\n",
              "  <tbody>\n",
              "    <tr>\n",
              "      <th>0</th>\n",
              "      <td>xavier dupr\u00e9</td>\n",
              "      <td>3f81e3ac</td>\n",
              "      <td>2017-08-25</td>\n",
              "      <td>add notebook + requirements</td>\n",
              "      <td>3f81e3ac22198e76df15eb85cf896cdb826e2990</td>\n",
              "      <td>https://github.com/sdpython/pyquickhelper/comm...</td>\n",
              "      <td>_doc/notebooks/git_dataframes.ipynb</td>\n",
              "      <td>1503</td>\n",
              "      <td>0</td>\n",
              "      <td>.ipynb</td>\n",
              "    </tr>\n",
              "    <tr>\n",
              "      <th>1</th>\n",
              "      <td>xavier dupr\u00e9</td>\n",
              "      <td>3f81e3ac</td>\n",
              "      <td>2017-08-25</td>\n",
              "      <td>add notebook + requirements</td>\n",
              "      <td>3f81e3ac22198e76df15eb85cf896cdb826e2990</td>\n",
              "      <td>https://github.com/sdpython/pyquickhelper/comm...</td>\n",
              "      <td>requirements.txt</td>\n",
              "      <td>1</td>\n",
              "      <td>0</td>\n",
              "      <td>.txt</td>\n",
              "    </tr>\n",
              "  </tbody>\n",
              "</table>\n",
              "</div>"
            ],
            "text/plain": [
              "          owner      hash   datetime                      comment  \\\n",
              "0  xavier dupr\u00e9  3f81e3ac 2017-08-25  add notebook + requirements   \n",
              "1  xavier dupr\u00e9  3f81e3ac 2017-08-25  add notebook + requirements   \n",
              "\n",
              "                                  full_hash  \\\n",
              "0  3f81e3ac22198e76df15eb85cf896cdb826e2990   \n",
              "1  3f81e3ac22198e76df15eb85cf896cdb826e2990   \n",
              "\n",
              "                                                path  \\\n",
              "0  https://github.com/sdpython/pyquickhelper/comm...   \n",
              "1  https://github.com/sdpython/pyquickhelper/comm...   \n",
              "\n",
              "                                  name   net  bytes     ext  \n",
              "0  _doc/notebooks/git_dataframes.ipynb  1503      0  .ipynb  \n",
              "1                     requirements.txt     1      0    .txt  "
            ]
          },
          "execution_count": null,
          "metadata": {},
          "output_type": "execute_result"
        }
      ],
      "source": [
        "df[\"ext\"] = df.name.apply(lambda x: os.path.splitext(x)[-1].strip())\n",
        "df.head(n=2)"
      ]
    },
    {
      "cell_type": "code",
      "execution_count": null,
      "metadata": {},
      "outputs": [
        {
          "data": {
            "text/html": [
              "<div>\n",
              "<style>\n",
              "    .dataframe thead tr:only-child th {\n",
              "        text-align: right;\n",
              "    }\n",
              "\n",
              "    .dataframe thead th {\n",
              "        text-align: left;\n",
              "    }\n",
              "\n",
              "    .dataframe tbody tr th {\n",
              "        vertical-align: top;\n",
              "    }\n",
              "</style>\n",
              "<table border=\"1\" class=\"dataframe\">\n",
              "  <thead>\n",
              "    <tr style=\"text-align: right;\">\n",
              "      <th>ext</th>\n",
              "      <th>.ipynb</th>\n",
              "      <th>.py</th>\n",
              "      <th>.txt</th>\n",
              "      <th>.yml</th>\n",
              "      <th>.zip</th>\n",
              "    </tr>\n",
              "  </thead>\n",
              "  <tbody>\n",
              "    <tr>\n",
              "      <th>net</th>\n",
              "      <td>56230</td>\n",
              "      <td>138128</td>\n",
              "      <td>2180</td>\n",
              "      <td>951</td>\n",
              "      <td>0</td>\n",
              "    </tr>\n",
              "    <tr>\n",
              "      <th>bytes</th>\n",
              "      <td>0</td>\n",
              "      <td>0</td>\n",
              "      <td>0</td>\n",
              "      <td>0</td>\n",
              "      <td>59688</td>\n",
              "    </tr>\n",
              "  </tbody>\n",
              "</table>\n",
              "</div>"
            ],
            "text/plain": [
              "ext    .ipynb     .py  .txt  .yml   .zip\n",
              "net     56230  138128  2180   951      0\n",
              "bytes       0       0     0     0  59688"
            ]
          },
          "execution_count": null,
          "metadata": {},
          "output_type": "execute_result"
        }
      ],
      "source": [
        "gr = df[df.ext.isin((\".py\", \".ipynb\", \".txt\", \".zip\", \".yml\"))].groupby(\"ext\").sum()\n",
        "gr.T"
      ]
    },
    {
      "cell_type": "code",
      "execution_count": null,
      "metadata": {},
      "outputs": [
        {
          "data": {
            "text/plain": [
              "<matplotlib.axes._subplots.AxesSubplot at 0x1e790020978>"
            ]
          },
          "execution_count": null,
          "metadata": {},
          "output_type": "execute_result"
        },
        {
          "data": {
            "image/png": "[encoded data removed]",
            "text/plain": [
              "<matplotlib.figure.Figure at 0x1e78fedada0>"
            ]
          },
          "metadata": {},
          "output_type": "display_data"
        }
      ],
      "source": [
        "gr.plot(kind=\"bar\")"
      ]
    },
    {
      "cell_type": "code",
      "execution_count": null,
      "metadata": {
        "collapsed": true
      },
      "outputs": [],
      "source": []
    }
  ],
  "metadata": {
    "kernelspec": {
      "display_name": "Python 3",
      "language": "python",
      "name": "python3"
    },
    "language_info": {
      "codemirror_mode": {
        "name": "ipython",
        "version": 3
      },
      "file_extension": ".py",
      "mimetype": "text/x-python",
      "name": "python",
      "nbconvert_exporter": "python",
      "pygments_lexer": "ipython3",
      "version": "3.6.1"
    }
  },
  "nbformat": 4,
  "nbformat_minor": 2
}