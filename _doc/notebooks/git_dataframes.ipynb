{
  "cells": [
    {
      "cell_type": "markdown",
      "metadata": {},
      "source": [
        "# Git in DataFrames\n",
        "\n",
        "python + git + dataframe = [git-pandas](http://wdm0006.github.io/git-pandas/)"
      ]
    },
    {
      "cell_type": "code",
      "execution_count": null,
      "metadata": {},
      "outputs": [
        {
          "data": {
            "text/html": [
              "<div id=\"my_id_menu_nb\">run previous cell, wait for 2 seconds</div>\n",
              "<script>\n",
              "function repeat_indent_string(n){\n",
              "    var a = \"\" ;\n",
              "    for ( ; n > 0 ; --n)\n",
              "        a += \"    \";\n",
              "    return a;\n",
              "}\n",
              "var update_menu_string = function(begin, lfirst, llast, sformat, send, keep_item, begin_format, end_format) {\n",
              "    var anchors = document.getElementsByClassName(\"section\");\n",
              "    if (anchors.length == 0) {\n",
              "        anchors = document.getElementsByClassName(\"text_cell_render rendered_html\");\n",
              "    }\n",
              "    var i,t;\n",
              "    var text_menu = begin;\n",
              "    var text_memo = \"<pre>\\nlength:\" + anchors.length + \"\\n\";\n",
              "    var ind = \"\";\n",
              "    var memo_level = 1;\n",
              "    var href;\n",
              "    var tags = [];\n",
              "    var main_item = 0;\n",
              "    var format_open = 0;\n",
              "    for (i = 0; i <= llast; i++)\n",
              "        tags.push(\"h\" + i);\n",
              "\n",
              "    for (i = 0; i < anchors.length; i++) {\n",
              "        text_memo += \"**\" + anchors[i].id + \"--\\n\";\n",
              "\n",
              "        var child = null;\n",
              "        for(t = 0; t < tags.length; t++) {\n",
              "            var r = anchors[i].getElementsByTagName(tags[t]);\n",
              "            if (r.length > 0) {\n",
              "child = r[0];\n",
              "break;\n",
              "            }\n",
              "        }\n",
              "        if (child == null) {\n",
              "            text_memo += \"null\\n\";\n",
              "            continue;\n",
              "        }\n",
              "        if (anchors[i].hasAttribute(\"id\")) {\n",
              "            // when converted in RST\n",
              "            href = anchors[i].id;\n",
              "            text_memo += \"#1-\" + href;\n",
              "            // passer \u00e0 child suivant (le chercher)\n",
              "        }\n",
              "        else if (child.hasAttribute(\"id\")) {\n",
              "            // in a notebook\n",
              "            href = child.id;\n",
              "            text_memo += \"#2-\" + href;\n",
              "        }\n",
              "        else {\n",
              "            text_memo += \"#3-\" + \"*\" + \"\\n\";\n",
              "            continue;\n",
              "        }\n",
              "        var title = child.textContent;\n",
              "        var level = parseInt(child.tagName.substring(1,2));\n",
              "\n",
              "        text_memo += \"--\" + level + \"?\" + lfirst + \"--\" + title + \"\\n\";\n",
              "\n",
              "        if ((level < lfirst) || (level > llast)) {\n",
              "            continue ;\n",
              "        }\n",
              "        if (title.endsWith('\u00b6')) {\n",
              "            title = title.substring(0,title.length-1).replace(\"<\", \"&lt;\")\n",
              "         .replace(\">\", \"&gt;\").replace(\"&\", \"&amp;\");\n",
              "        }\n",
              "        if (title.length == 0) {\n",
              "            continue;\n",
              "        }\n",
              "\n",
              "        while (level < memo_level) {\n",
              "            text_menu += end_format + \"</ul>\\n\";\n",
              "            format_open -= 1;\n",
              "            memo_level -= 1;\n",
              "        }\n",
              "        if (level == lfirst) {\n",
              "            main_item += 1;\n",
              "        }\n",
              "        if (keep_item != -1 && main_item != keep_item + 1) {\n",
              "            // alert(main_item + \" - \" + level + \" - \" + keep_item);\n",
              "            continue;\n",
              "        }\n",
              "        while (level > memo_level) {\n",
              "            text_menu += \"<ul>\\n\";\n",
              "            memo_level += 1;\n",
              "        }\n",
              "        text_menu += repeat_indent_string(level-2);\n",
              "        text_menu += begin_format + sformat.replace(\"__HREF__\", href).replace(\"__TITLE__\", title);\n",
              "        format_open += 1;\n",
              "    }\n",
              "    while (1 < memo_level) {\n",
              "        text_menu += end_format + \"</ul>\\n\";\n",
              "        memo_level -= 1;\n",
              "        format_open -= 1;\n",
              "    }\n",
              "    text_menu += send;\n",
              "    //text_menu += \"\\n\" + text_memo;\n",
              "\n",
              "    while (format_open > 0) {\n",
              "        text_menu += end_format;\n",
              "        format_open -= 1;\n",
              "    }\n",
              "    return text_menu;\n",
              "};\n",
              "var update_menu = function() {\n",
              "    var sbegin = \"\";\n",
              "    var sformat = '<a href=\"#__HREF__\">__TITLE__</a>';\n",
              "    var send = \"\";\n",
              "    var begin_format = '<li>';\n",
              "    var end_format = '</li>';\n",
              "    var keep_item = -1;\n",
              "    var text_menu = update_menu_string(sbegin, 2, 4, sformat, send, keep_item,\n",
              "       begin_format, end_format);\n",
              "    var menu = document.getElementById(\"my_id_menu_nb\");\n",
              "    menu.innerHTML=text_menu;\n",
              "};\n",
              "window.setTimeout(update_menu,2000);\n",
              "            </script>"
            ],
            "text/plain": [
              "<IPython.core.display.HTML object>"
            ]
          },
          "execution_count": null,
          "metadata": {},
          "output_type": "execute_result"
        }
      ],
      "source": [
        "from jyquickhelper import add_notebook_menu\n",
        "add_notebook_menu()"
      ]
    },
    {
      "cell_type": "markdown",
      "metadata": {},
      "source": [
        "## Repository"
      ]
    },
    {
      "cell_type": "code",
      "execution_count": null,
      "metadata": {},
      "outputs": [
        {
          "name": "stdout",
          "output_type": "stream",
          "text": [
            "Repository [pyensae] instantiated at directory: ../..\n"
          ]
        }
      ],
      "source": [
        "from gitpandas import Repository\n",
        "repo = Repository(working_dir='../..', verbose=True)"
      ]
    },
    {
      "cell_type": "code",
      "execution_count": null,
      "metadata": {},
      "outputs": [
        {
          "data": {
            "text/html": [
              "<div>\n",
              "<style>\n",
              "    .dataframe thead tr:only-child th {\n",
              "        text-align: right;\n",
              "    }\n",
              "\n",
              "    .dataframe thead th {\n",
              "        text-align: left;\n",
              "    }\n",
              "\n",
              "    .dataframe tbody tr th {\n",
              "        vertical-align: top;\n",
              "    }\n",
              "</style>\n",
              "<table border=\"1\" class=\"dataframe\">\n",
              "  <thead>\n",
              "    <tr style=\"text-align: right;\">\n",
              "      <th></th>\n",
              "      <th>branch</th>\n",
              "      <th>local</th>\n",
              "      <th>repository</th>\n",
              "    </tr>\n",
              "  </thead>\n",
              "  <tbody>\n",
              "    <tr>\n",
              "      <th>0</th>\n",
              "      <td>master</td>\n",
              "      <td>True</td>\n",
              "      <td>pyensae</td>\n",
              "    </tr>\n",
              "    <tr>\n",
              "      <th>1</th>\n",
              "      <td>master</td>\n",
              "      <td>False</td>\n",
              "      <td>pyensae</td>\n",
              "    </tr>\n",
              "  </tbody>\n",
              "</table>\n",
              "</div>"
            ],
            "text/plain": [
              "   branch  local repository\n",
              "0  master   True    pyensae\n",
              "1  master  False    pyensae"
            ]
          },
          "execution_count": null,
          "metadata": {},
          "output_type": "execute_result"
        }
      ],
      "source": [
        "repo.branches()"
      ]
    },
    {
      "cell_type": "markdown",
      "metadata": {},
      "source": [
        "One funny function. No idea if that gives a good estimation."
      ]
    },
    {
      "cell_type": "code",
      "execution_count": null,
      "metadata": {},
      "outputs": [
        {
          "name": "stderr",
          "output_type": "stream",
          "text": [
            "c:\\Python36_x64\\lib\\site-packages\\gitpandas\\repository.py:461: UserWarning: Warning, extensions and ignore_dir will be deprecated in v2.0.0, please use ignore_globs instead\n",
            "  warnings.warn('Warning, extensions and ignore_dir will be deprecated in v2.0.0, please use ignore_globs instead')\n"
          ]
        },
        {
          "data": {
            "text/html": [
              "<div>\n",
              "<style>\n",
              "    .dataframe thead tr:only-child th {\n",
              "        text-align: right;\n",
              "    }\n",
              "\n",
              "    .dataframe thead th {\n",
              "        text-align: left;\n",
              "    }\n",
              "\n",
              "    .dataframe tbody tr th {\n",
              "        vertical-align: top;\n",
              "    }\n",
              "</style>\n",
              "<table border=\"1\" class=\"dataframe\">\n",
              "  <thead>\n",
              "    <tr style=\"text-align: right;\">\n",
              "      <th></th>\n",
              "      <th>committer</th>\n",
              "      <th>hours</th>\n",
              "    </tr>\n",
              "  </thead>\n",
              "  <tbody>\n",
              "    <tr>\n",
              "      <th>0</th>\n",
              "      <td>ped4747</td>\n",
              "      <td>0.000000</td>\n",
              "    </tr>\n",
              "    <tr>\n",
              "      <th>1</th>\n",
              "      <td>dupre</td>\n",
              "      <td>154.185000</td>\n",
              "    </tr>\n",
              "    <tr>\n",
              "      <th>2</th>\n",
              "      <td>azure provisioned user</td>\n",
              "      <td>1.105000</td>\n",
              "    </tr>\n",
              "    <tr>\n",
              "      <th>3</th>\n",
              "      <td>MaryanMorel</td>\n",
              "      <td>0.000000</td>\n",
              "    </tr>\n",
              "    <tr>\n",
              "      <th>4</th>\n",
              "      <td>sdpython</td>\n",
              "      <td>73.595556</td>\n",
              "    </tr>\n",
              "    <tr>\n",
              "      <th>5</th>\n",
              "      <td>unknown</td>\n",
              "      <td>0.038889</td>\n",
              "    </tr>\n",
              "    <tr>\n",
              "      <th>6</th>\n",
              "      <td>xavier</td>\n",
              "      <td>1.832500</td>\n",
              "    </tr>\n",
              "    <tr>\n",
              "      <th>7</th>\n",
              "      <td>xavier dupr\u00e9</td>\n",
              "      <td>53.905556</td>\n",
              "    </tr>\n",
              "  </tbody>\n",
              "</table>\n",
              "</div>"
            ],
            "text/plain": [
              "                committer       hours\n",
              "0                 ped4747    0.000000\n",
              "1                   dupre  154.185000\n",
              "2  azure provisioned user    1.105000\n",
              "3             MaryanMorel    0.000000\n",
              "4                sdpython   73.595556\n",
              "5                 unknown    0.038889\n",
              "6                  xavier    1.832500\n",
              "7            xavier dupr\u00e9   53.905556"
            ]
          },
          "execution_count": null,
          "metadata": {},
          "output_type": "execute_result"
        }
      ],
      "source": [
        "use = repo.hours_estimate()\n",
        "use"
      ]
    },
    {
      "cell_type": "code",
      "execution_count": null,
      "metadata": {},
      "outputs": [
        {
          "data": {
            "text/plain": [
              "35.5828125"
            ]
          },
          "execution_count": null,
          "metadata": {},
          "output_type": "execute_result"
        }
      ],
      "source": [
        "workdays = use.hours.sum() / 8\n",
        "workdays"
      ]
    },
    {
      "cell_type": "markdown",
      "metadata": {},
      "source": [
        "I might be very slow then :) becauase I think I spend more time than that."
      ]
    },
    {
      "cell_type": "markdown",
      "metadata": {},
      "source": [
        "## Logs\n",
        "\n",
        "The following cane take some time depending on you repository size."
      ]
    },
    {
      "cell_type": "code",
      "execution_count": null,
      "metadata": {},
      "outputs": [
        {
          "name": "stderr",
          "output_type": "stream",
          "text": [
            "c:\\Python36_x64\\lib\\site-packages\\gitpandas\\repository.py:461: UserWarning: Warning, extensions and ignore_dir will be deprecated in v2.0.0, please use ignore_globs instead\n",
            "  warnings.warn('Warning, extensions and ignore_dir will be deprecated in v2.0.0, please use ignore_globs instead')\n"
          ]
        }
      ],
      "source": [
        "hist = repo.commit_history()"
      ]
    },
    {
      "cell_type": "code",
      "execution_count": null,
      "metadata": {},
      "outputs": [
        {
          "data": {
            "text/html": [
              "<div>\n",
              "<style>\n",
              "    .dataframe thead tr:only-child th {\n",
              "        text-align: right;\n",
              "    }\n",
              "\n",
              "    .dataframe thead th {\n",
              "        text-align: left;\n",
              "    }\n",
              "\n",
              "    .dataframe tbody tr th {\n",
              "        vertical-align: top;\n",
              "    }\n",
              "</style>\n",
              "<table border=\"1\" class=\"dataframe\">\n",
              "  <thead>\n",
              "    <tr style=\"text-align: right;\">\n",
              "      <th></th>\n",
              "      <th>author</th>\n",
              "      <th>committer</th>\n",
              "      <th>message</th>\n",
              "      <th>lines</th>\n",
              "      <th>insertions</th>\n",
              "      <th>deletions</th>\n",
              "      <th>net</th>\n",
              "    </tr>\n",
              "    <tr>\n",
              "      <th>date</th>\n",
              "      <th></th>\n",
              "      <th></th>\n",
              "      <th></th>\n",
              "      <th></th>\n",
              "      <th></th>\n",
              "      <th></th>\n",
              "      <th></th>\n",
              "    </tr>\n",
              "  </thead>\n",
              "  <tbody>\n",
              "    <tr>\n",
              "      <th>2017-08-20 17:44:15</th>\n",
              "      <td>xavier dupr\u00e9</td>\n",
              "      <td>xavier dupr\u00e9</td>\n",
              "      <td>requirements\\n</td>\n",
              "      <td>1</td>\n",
              "      <td>1</td>\n",
              "      <td>0</td>\n",
              "      <td>1</td>\n",
              "    </tr>\n",
              "    <tr>\n",
              "      <th>2017-08-20 17:33:30</th>\n",
              "      <td>xavier dupr\u00e9</td>\n",
              "      <td>xavier dupr\u00e9</td>\n",
              "      <td>update build\\n</td>\n",
              "      <td>17</td>\n",
              "      <td>11</td>\n",
              "      <td>6</td>\n",
              "      <td>5</td>\n",
              "    </tr>\n",
              "    <tr>\n",
              "      <th>2017-08-20 17:18:19</th>\n",
              "      <td>xavier dupr\u00e9</td>\n",
              "      <td>xavier dupr\u00e9</td>\n",
              "      <td>requirements\\n</td>\n",
              "      <td>1</td>\n",
              "      <td>1</td>\n",
              "      <td>0</td>\n",
              "      <td>1</td>\n",
              "    </tr>\n",
              "    <tr>\n",
              "      <th>2017-08-20 17:17:47</th>\n",
              "      <td>xavier dupr\u00e9</td>\n",
              "      <td>xavier dupr\u00e9</td>\n",
              "      <td>requirements\\n</td>\n",
              "      <td>1</td>\n",
              "      <td>1</td>\n",
              "      <td>0</td>\n",
              "      <td>1</td>\n",
              "    </tr>\n",
              "    <tr>\n",
              "      <th>2017-08-20 17:05:23</th>\n",
              "      <td>xavier dupr\u00e9</td>\n",
              "      <td>xavier dupr\u00e9</td>\n",
              "      <td>circleci\\n</td>\n",
              "      <td>183</td>\n",
              "      <td>120</td>\n",
              "      <td>63</td>\n",
              "      <td>57</td>\n",
              "    </tr>\n",
              "  </tbody>\n",
              "</table>\n",
              "</div>"
            ],
            "text/plain": [
              "                           author     committer         message  lines  \\\n",
              "date                                                                     \n",
              "2017-08-20 17:44:15  xavier dupr\u00e9  xavier dupr\u00e9  requirements\\n      1   \n",
              "2017-08-20 17:33:30  xavier dupr\u00e9  xavier dupr\u00e9  update build\\n     17   \n",
              "2017-08-20 17:18:19  xavier dupr\u00e9  xavier dupr\u00e9  requirements\\n      1   \n",
              "2017-08-20 17:17:47  xavier dupr\u00e9  xavier dupr\u00e9  requirements\\n      1   \n",
              "2017-08-20 17:05:23  xavier dupr\u00e9  xavier dupr\u00e9      circleci\\n    183   \n",
              "\n",
              "                     insertions  deletions  net  \n",
              "date                                             \n",
              "2017-08-20 17:44:15           1          0    1  \n",
              "2017-08-20 17:33:30          11          6    5  \n",
              "2017-08-20 17:18:19           1          0    1  \n",
              "2017-08-20 17:17:47           1          0    1  \n",
              "2017-08-20 17:05:23         120         63   57  "
            ]
          },
          "execution_count": null,
          "metadata": {},
          "output_type": "execute_result"
        }
      ],
      "source": [
        "hist.head()"
      ]
    },
    {
      "cell_type": "code",
      "execution_count": null,
      "metadata": {},
      "outputs": [
        {
          "data": {
            "text/plain": [
              "133273"
            ]
          },
          "execution_count": null,
          "metadata": {},
          "output_type": "execute_result"
        }
      ],
      "source": [
        "hist.net.sum()"
      ]
    },
    {
      "cell_type": "code",
      "execution_count": null,
      "metadata": {},
      "outputs": [
        {
          "name": "stderr",
          "output_type": "stream",
          "text": [
            "c:\\Python36_x64\\lib\\site-packages\\gitpandas\\repository.py:461: UserWarning: Warning, extensions and ignore_dir will be deprecated in v2.0.0, please use ignore_globs instead\n",
            "  warnings.warn('Warning, extensions and ignore_dir will be deprecated in v2.0.0, please use ignore_globs instead')\n"
          ]
        }
      ],
      "source": [
        "histf = repo.file_change_history()"
      ]
    },
    {
      "cell_type": "code",
      "execution_count": null,
      "metadata": {},
      "outputs": [
        {
          "data": {
            "text/html": [
              "<div>\n",
              "<style>\n",
              "    .dataframe thead tr:only-child th {\n",
              "        text-align: right;\n",
              "    }\n",
              "\n",
              "    .dataframe thead th {\n",
              "        text-align: left;\n",
              "    }\n",
              "\n",
              "    .dataframe tbody tr th {\n",
              "        vertical-align: top;\n",
              "    }\n",
              "</style>\n",
              "<table border=\"1\" class=\"dataframe\">\n",
              "  <thead>\n",
              "    <tr style=\"text-align: right;\">\n",
              "      <th></th>\n",
              "      <th>author</th>\n",
              "      <th>committer</th>\n",
              "      <th>message</th>\n",
              "      <th>rev</th>\n",
              "      <th>filename</th>\n",
              "      <th>insertions</th>\n",
              "      <th>deletions</th>\n",
              "    </tr>\n",
              "    <tr>\n",
              "      <th>date</th>\n",
              "      <th></th>\n",
              "      <th></th>\n",
              "      <th></th>\n",
              "      <th></th>\n",
              "      <th></th>\n",
              "      <th></th>\n",
              "      <th></th>\n",
              "    </tr>\n",
              "  </thead>\n",
              "  <tbody>\n",
              "    <tr>\n",
              "      <th>2017-08-20 17:44:15</th>\n",
              "      <td>xavier dupr\u00e9</td>\n",
              "      <td>xavier dupr\u00e9</td>\n",
              "      <td>requirements\\n</td>\n",
              "      <td>73abe7261fbb107e3715a5c5635b44bdeb0791cb</td>\n",
              "      <td>requirements.txt</td>\n",
              "      <td>1</td>\n",
              "      <td>0</td>\n",
              "    </tr>\n",
              "    <tr>\n",
              "      <th>2017-08-20 17:33:30</th>\n",
              "      <td>xavier dupr\u00e9</td>\n",
              "      <td>xavier dupr\u00e9</td>\n",
              "      <td>update build\\n</td>\n",
              "      <td>8015702264410ca54fb8f965217d6040b0017aea</td>\n",
              "      <td>.circleci/config.yml</td>\n",
              "      <td>5</td>\n",
              "      <td>0</td>\n",
              "    </tr>\n",
              "    <tr>\n",
              "      <th>2017-08-20 17:33:30</th>\n",
              "      <td>xavier dupr\u00e9</td>\n",
              "      <td>xavier dupr\u00e9</td>\n",
              "      <td>update build\\n</td>\n",
              "      <td>8015702264410ca54fb8f965217d6040b0017aea</td>\n",
              "      <td>_unittests/ut_documentation/test_run_notebooks.py</td>\n",
              "      <td>2</td>\n",
              "      <td>6</td>\n",
              "    </tr>\n",
              "    <tr>\n",
              "      <th>2017-08-20 17:33:30</th>\n",
              "      <td>xavier dupr\u00e9</td>\n",
              "      <td>xavier dupr\u00e9</td>\n",
              "      <td>update build\\n</td>\n",
              "      <td>8015702264410ca54fb8f965217d6040b0017aea</td>\n",
              "      <td>requirements.txt</td>\n",
              "      <td>4</td>\n",
              "      <td>0</td>\n",
              "    </tr>\n",
              "    <tr>\n",
              "      <th>2017-08-20 17:18:19</th>\n",
              "      <td>xavier dupr\u00e9</td>\n",
              "      <td>xavier dupr\u00e9</td>\n",
              "      <td>requirements\\n</td>\n",
              "      <td>1f03067de711d75312c15f4d8019cd97cfefb2a7</td>\n",
              "      <td>requirements.txt</td>\n",
              "      <td>1</td>\n",
              "      <td>0</td>\n",
              "    </tr>\n",
              "  </tbody>\n",
              "</table>\n",
              "</div>"
            ],
            "text/plain": [
              "                           author     committer         message  \\\n",
              "date                                                              \n",
              "2017-08-20 17:44:15  xavier dupr\u00e9  xavier dupr\u00e9  requirements\\n   \n",
              "2017-08-20 17:33:30  xavier dupr\u00e9  xavier dupr\u00e9  update build\\n   \n",
              "2017-08-20 17:33:30  xavier dupr\u00e9  xavier dupr\u00e9  update build\\n   \n",
              "2017-08-20 17:33:30  xavier dupr\u00e9  xavier dupr\u00e9  update build\\n   \n",
              "2017-08-20 17:18:19  xavier dupr\u00e9  xavier dupr\u00e9  requirements\\n   \n",
              "\n",
              "                                                          rev  \\\n",
              "date                                                            \n",
              "2017-08-20 17:44:15  73abe7261fbb107e3715a5c5635b44bdeb0791cb   \n",
              "2017-08-20 17:33:30  8015702264410ca54fb8f965217d6040b0017aea   \n",
              "2017-08-20 17:33:30  8015702264410ca54fb8f965217d6040b0017aea   \n",
              "2017-08-20 17:33:30  8015702264410ca54fb8f965217d6040b0017aea   \n",
              "2017-08-20 17:18:19  1f03067de711d75312c15f4d8019cd97cfefb2a7   \n",
              "\n",
              "                                                              filename  \\\n",
              "date                                                                     \n",
              "2017-08-20 17:44:15                                   requirements.txt   \n",
              "2017-08-20 17:33:30                               .circleci/config.yml   \n",
              "2017-08-20 17:33:30  _unittests/ut_documentation/test_run_notebooks.py   \n",
              "2017-08-20 17:33:30                                   requirements.txt   \n",
              "2017-08-20 17:18:19                                   requirements.txt   \n",
              "\n",
              "                     insertions  deletions  \n",
              "date                                        \n",
              "2017-08-20 17:44:15           1          0  \n",
              "2017-08-20 17:33:30           5          0  \n",
              "2017-08-20 17:33:30           2          6  \n",
              "2017-08-20 17:33:30           4          0  \n",
              "2017-08-20 17:18:19           1          0  "
            ]
          },
          "execution_count": null,
          "metadata": {},
          "output_type": "execute_result"
        }
      ],
      "source": [
        "histf.head()"
      ]
    },
    {
      "cell_type": "code",
      "execution_count": null,
      "metadata": {},
      "outputs": [
        {
          "data": {
            "text/html": [
              "<div>\n",
              "<style>\n",
              "    .dataframe thead tr:only-child th {\n",
              "        text-align: right;\n",
              "    }\n",
              "\n",
              "    .dataframe thead th {\n",
              "        text-align: left;\n",
              "    }\n",
              "\n",
              "    .dataframe tbody tr th {\n",
              "        vertical-align: top;\n",
              "    }\n",
              "</style>\n",
              "<table border=\"1\" class=\"dataframe\">\n",
              "  <thead>\n",
              "    <tr style=\"text-align: right;\">\n",
              "      <th></th>\n",
              "      <th>author</th>\n",
              "      <th>committer</th>\n",
              "      <th>message</th>\n",
              "      <th>rev</th>\n",
              "      <th>filename</th>\n",
              "      <th>insertions</th>\n",
              "      <th>deletions</th>\n",
              "    </tr>\n",
              "    <tr>\n",
              "      <th>date</th>\n",
              "      <th></th>\n",
              "      <th></th>\n",
              "      <th></th>\n",
              "      <th></th>\n",
              "      <th></th>\n",
              "      <th></th>\n",
              "      <th></th>\n",
              "    </tr>\n",
              "  </thead>\n",
              "  <tbody>\n",
              "    <tr>\n",
              "      <th>2013-08-11 14:47:44</th>\n",
              "      <td>xavier</td>\n",
              "      <td>xavier</td>\n",
              "      <td>first release of pyensae, includes a function ...</td>\n",
              "      <td>dad4220a39b59955fa46a27c65298ba385cdcf86</td>\n",
              "      <td>setup.py</td>\n",
              "      <td>134</td>\n",
              "      <td>0</td>\n",
              "    </tr>\n",
              "    <tr>\n",
              "      <th>2013-08-11 14:47:44</th>\n",
              "      <td>xavier</td>\n",
              "      <td>xavier</td>\n",
              "      <td>first release of pyensae, includes a function ...</td>\n",
              "      <td>dad4220a39b59955fa46a27c65298ba385cdcf86</td>\n",
              "      <td>src/__init__.py</td>\n",
              "      <td>0</td>\n",
              "      <td>0</td>\n",
              "    </tr>\n",
              "    <tr>\n",
              "      <th>2013-08-11 14:47:44</th>\n",
              "      <td>xavier</td>\n",
              "      <td>xavier</td>\n",
              "      <td>first release of pyensae, includes a function ...</td>\n",
              "      <td>dad4220a39b59955fa46a27c65298ba385cdcf86</td>\n",
              "      <td>src/pyensae/__init__.py</td>\n",
              "      <td>17</td>\n",
              "      <td>0</td>\n",
              "    </tr>\n",
              "    <tr>\n",
              "      <th>2013-08-11 14:47:44</th>\n",
              "      <td>xavier</td>\n",
              "      <td>xavier</td>\n",
              "      <td>first release of pyensae, includes a function ...</td>\n",
              "      <td>dad4220a39b59955fa46a27c65298ba385cdcf86</td>\n",
              "      <td>src/pyensae/resources/__init__.py</td>\n",
              "      <td>26</td>\n",
              "      <td>0</td>\n",
              "    </tr>\n",
              "    <tr>\n",
              "      <th>2013-08-11 14:47:44</th>\n",
              "      <td>xavier</td>\n",
              "      <td>xavier</td>\n",
              "      <td>first release of pyensae, includes a function ...</td>\n",
              "      <td>dad4220a39b59955fa46a27c65298ba385cdcf86</td>\n",
              "      <td>src/pyensae/resources/http_retrieve.py</td>\n",
              "      <td>223</td>\n",
              "      <td>0</td>\n",
              "    </tr>\n",
              "  </tbody>\n",
              "</table>\n",
              "</div>"
            ],
            "text/plain": [
              "                     author committer  \\\n",
              "date                                    \n",
              "2013-08-11 14:47:44  xavier    xavier   \n",
              "2013-08-11 14:47:44  xavier    xavier   \n",
              "2013-08-11 14:47:44  xavier    xavier   \n",
              "2013-08-11 14:47:44  xavier    xavier   \n",
              "2013-08-11 14:47:44  xavier    xavier   \n",
              "\n",
              "                                                               message  \\\n",
              "date                                                                     \n",
              "2013-08-11 14:47:44  first release of pyensae, includes a function ...   \n",
              "2013-08-11 14:47:44  first release of pyensae, includes a function ...   \n",
              "2013-08-11 14:47:44  first release of pyensae, includes a function ...   \n",
              "2013-08-11 14:47:44  first release of pyensae, includes a function ...   \n",
              "2013-08-11 14:47:44  first release of pyensae, includes a function ...   \n",
              "\n",
              "                                                          rev  \\\n",
              "date                                                            \n",
              "2013-08-11 14:47:44  dad4220a39b59955fa46a27c65298ba385cdcf86   \n",
              "2013-08-11 14:47:44  dad4220a39b59955fa46a27c65298ba385cdcf86   \n",
              "2013-08-11 14:47:44  dad4220a39b59955fa46a27c65298ba385cdcf86   \n",
              "2013-08-11 14:47:44  dad4220a39b59955fa46a27c65298ba385cdcf86   \n",
              "2013-08-11 14:47:44  dad4220a39b59955fa46a27c65298ba385cdcf86   \n",
              "\n",
              "                                                   filename  insertions  \\\n",
              "date                                                                      \n",
              "2013-08-11 14:47:44                                setup.py         134   \n",
              "2013-08-11 14:47:44                         src/__init__.py           0   \n",
              "2013-08-11 14:47:44                 src/pyensae/__init__.py          17   \n",
              "2013-08-11 14:47:44       src/pyensae/resources/__init__.py          26   \n",
              "2013-08-11 14:47:44  src/pyensae/resources/http_retrieve.py         223   \n",
              "\n",
              "                     deletions  \n",
              "date                            \n",
              "2013-08-11 14:47:44          0  \n",
              "2013-08-11 14:47:44          0  \n",
              "2013-08-11 14:47:44          0  \n",
              "2013-08-11 14:47:44          0  \n",
              "2013-08-11 14:47:44          0  "
            ]
          },
          "execution_count": null,
          "metadata": {},
          "output_type": "execute_result"
        }
      ],
      "source": [
        "histf.tail()"
      ]
    },
    {
      "cell_type": "markdown",
      "metadata": {},
      "source": [
        "## Check removed files"
      ]
    },
    {
      "cell_type": "code",
      "execution_count": null,
      "metadata": {},
      "outputs": [
        {
          "data": {
            "text/plain": [
              "448"
            ]
          },
          "execution_count": null,
          "metadata": {},
          "output_type": "execute_result"
        }
      ],
      "source": [
        "unique = set(histf.filename)\n",
        "len(unique)"
      ]
    },
    {
      "cell_type": "code",
      "execution_count": null,
      "metadata": {
        "collapsed": true
      },
      "outputs": [],
      "source": [
        "import os\n",
        "sorted_unique = list(sorted(unique))\n",
        "full_path = [os.path.join(repo.repo.working_dir, _) for _ in sorted_unique]"
      ]
    },
    {
      "cell_type": "code",
      "execution_count": null,
      "metadata": {
        "collapsed": true
      },
      "outputs": [],
      "source": [
        "import numpy\n",
        "exists = [os.path.exists(f) for f in full_path]\n",
        "sizes = [os.stat(f).st_size if os.path.exists(f) else numpy.nan for f in full_path]"
      ]
    },
    {
      "cell_type": "code",
      "execution_count": null,
      "metadata": {},
      "outputs": [
        {
          "data": {
            "text/html": [
              "<div>\n",
              "<style>\n",
              "    .dataframe thead tr:only-child th {\n",
              "        text-align: right;\n",
              "    }\n",
              "\n",
              "    .dataframe thead th {\n",
              "        text-align: left;\n",
              "    }\n",
              "\n",
              "    .dataframe tbody tr th {\n",
              "        vertical-align: top;\n",
              "    }\n",
              "</style>\n",
              "<table border=\"1\" class=\"dataframe\">\n",
              "  <thead>\n",
              "    <tr style=\"text-align: right;\">\n",
              "      <th></th>\n",
              "      <th>exists</th>\n",
              "      <th>name</th>\n",
              "      <th>size</th>\n",
              "    </tr>\n",
              "  </thead>\n",
              "  <tbody>\n",
              "    <tr>\n",
              "      <th>386</th>\n",
              "      <td>True</td>\n",
              "      <td>src/pyensae/languages/SQLiteParser.py</td>\n",
              "      <td>419643.0</td>\n",
              "    </tr>\n",
              "    <tr>\n",
              "      <th>350</th>\n",
              "      <td>True</td>\n",
              "      <td>src/pyensae/languages/CSharp4Parser.py</td>\n",
              "      <td>1288955.0</td>\n",
              "    </tr>\n",
              "    <tr>\n",
              "      <th>279</th>\n",
              "      <td>True</td>\n",
              "      <td>_unittests/ut_sql/data/velib_vanves.txt</td>\n",
              "      <td>1386924.0</td>\n",
              "    </tr>\n",
              "    <tr>\n",
              "      <th>269</th>\n",
              "      <td>True</td>\n",
              "      <td>_unittests/ut_sql/data/database_linked_cor.zip</td>\n",
              "      <td>3047958.0</td>\n",
              "    </tr>\n",
              "    <tr>\n",
              "      <th>268</th>\n",
              "      <td>True</td>\n",
              "      <td>_unittests/ut_sql/data/database_linked.zip</td>\n",
              "      <td>3461785.0</td>\n",
              "    </tr>\n",
              "  </tbody>\n",
              "</table>\n",
              "</div>"
            ],
            "text/plain": [
              "     exists                                            name       size\n",
              "386    True           src/pyensae/languages/SQLiteParser.py   419643.0\n",
              "350    True          src/pyensae/languages/CSharp4Parser.py  1288955.0\n",
              "279    True         _unittests/ut_sql/data/velib_vanves.txt  1386924.0\n",
              "269    True  _unittests/ut_sql/data/database_linked_cor.zip  3047958.0\n",
              "268    True      _unittests/ut_sql/data/database_linked.zip  3461785.0"
            ]
          },
          "execution_count": null,
          "metadata": {},
          "output_type": "execute_result"
        }
      ],
      "source": [
        "import pandas\n",
        "removed = pandas.DataFrame(dict(name=sorted_unique, exists=exists, size=sizes))\n",
        "removed.sort_values(\"size\").dropna().tail()"
      ]
    },
    {
      "cell_type": "markdown",
      "metadata": {},
      "source": [
        "How many files not exist anymore?"
      ]
    },
    {
      "cell_type": "code",
      "execution_count": null,
      "metadata": {},
      "outputs": [
        {
          "data": {
            "text/plain": [
              "(126, 3)"
            ]
          },
          "execution_count": null,
          "metadata": {},
          "output_type": "execute_result"
        }
      ],
      "source": [
        "removed[~removed.exists].shape"
      ]
    },
    {
      "cell_type": "code",
      "execution_count": null,
      "metadata": {},
      "outputs": [
        {
          "data": {
            "text/html": [
              "<div>\n",
              "<style>\n",
              "    .dataframe thead tr:only-child th {\n",
              "        text-align: right;\n",
              "    }\n",
              "\n",
              "    .dataframe thead th {\n",
              "        text-align: left;\n",
              "    }\n",
              "\n",
              "    .dataframe tbody tr th {\n",
              "        vertical-align: top;\n",
              "    }\n",
              "</style>\n",
              "<table border=\"1\" class=\"dataframe\">\n",
              "  <thead>\n",
              "    <tr style=\"text-align: right;\">\n",
              "      <th></th>\n",
              "      <th>exists</th>\n",
              "      <th>name</th>\n",
              "      <th>size</th>\n",
              "    </tr>\n",
              "  </thead>\n",
              "  <tbody>\n",
              "    <tr>\n",
              "      <th>19</th>\n",
              "      <td>False</td>\n",
              "      <td>_doc/notebooks/pyensae StockPrices.ipynb</td>\n",
              "      <td>NaN</td>\n",
              "    </tr>\n",
              "    <tr>\n",
              "      <th>25</th>\n",
              "      <td>False</td>\n",
              "      <td>_doc/notebooks/python_azure_pig.ipynb</td>\n",
              "      <td>NaN</td>\n",
              "    </tr>\n",
              "    <tr>\n",
              "      <th>28</th>\n",
              "      <td>False</td>\n",
              "      <td>_doc/notebooks/randomall.txt</td>\n",
              "      <td>NaN</td>\n",
              "    </tr>\n",
              "    <tr>\n",
              "      <th>29</th>\n",
              "      <td>False</td>\n",
              "      <td>_doc/notebooks/randomxx_copy.txt</td>\n",
              "      <td>NaN</td>\n",
              "    </tr>\n",
              "    <tr>\n",
              "      <th>30</th>\n",
              "      <td>False</td>\n",
              "      <td>_doc/notebooks/randomxy.txt</td>\n",
              "      <td>NaN</td>\n",
              "    </tr>\n",
              "  </tbody>\n",
              "</table>\n",
              "</div>"
            ],
            "text/plain": [
              "    exists                                      name  size\n",
              "19   False  _doc/notebooks/pyensae StockPrices.ipynb   NaN\n",
              "25   False     _doc/notebooks/python_azure_pig.ipynb   NaN\n",
              "28   False              _doc/notebooks/randomall.txt   NaN\n",
              "29   False          _doc/notebooks/randomxx_copy.txt   NaN\n",
              "30   False               _doc/notebooks/randomxy.txt   NaN"
            ]
          },
          "execution_count": null,
          "metadata": {},
          "output_type": "execute_result"
        }
      ],
      "source": [
        "removed[~removed.exists].head()"
      ]
    },
    {
      "cell_type": "code",
      "execution_count": null,
      "metadata": {
        "collapsed": true
      },
      "outputs": [],
      "source": [
        "g = repo.repo.git()"
      ]
    },
    {
      "cell_type": "code",
      "execution_count": null,
      "metadata": {},
      "outputs": [
        {
          "name": "stdout",
          "output_type": "stream",
          "text": [
            "commit b6885a1d9b2474adcb8f7c8127f0a385180a8d2f\n",
            "log size 122\n",
            "Author: xavier dupr\u00e9 <xavier.dupre@gmail.com>\n",
            "Date:   Sat Mar 11 22:13:02 2017 +0100\n",
            "\n",
            "    update notebooks with load_ext\n",
            "\n",
            "commit 6059be2237c61643b559ac6a088335ebb50aa033\n",
            "log size 102\n",
            "Author: dupre <xavier.dupre@ensae.fr>\n",
            "Date:   Mon Apr 25 21:17:21 2016 +0200\n",
            "\n",
            "    update build_script\n",
            "\n",
            "commit 5c707a64c85309fd45a608908d4e0361acd88df0\n",
            "log size 107\n",
            "Author: dupre <xavier.dupre@ensae.fr>\n",
            "Date:   Tue May 5 00:36:26 2015 +0200\n",
            "\n",
            "    changed automated scripts\n"
          ]
        }
      ],
      "source": [
        "print(g.execute('git log --log-size --abbrev --follow \"build_script.bat\"'))"
      ]
    },
    {
      "cell_type": "code",
      "execution_count": null,
      "metadata": {},
      "outputs": [
        {
          "data": {
            "text/plain": [
              "['xavier dupr\u00e9',\n",
              " '73abe72',\n",
              " datetime.datetime(2017, 8, 20, 0, 0),\n",
              " 'requirements',\n",
              " '73abe7261fbb107e3715a5c5635b44bdeb0791cb',\n",
              " 'https://github.com/sdpython/pyensae/commit/73abe7261fbb107e3715a5c5635b44bdeb0791cb']"
            ]
          },
          "execution_count": null,
          "metadata": {},
          "output_type": "execute_result"
        }
      ],
      "source": [
        "from pyquickhelper.loghelper.repositories.pygit_helper import get_repo_log\n",
        "res = get_repo_log(repo.repo.working_dir)\n",
        "res[0]"
      ]
    },
    {
      "cell_type": "code",
      "execution_count": null,
      "metadata": {},
      "outputs": [
        {
          "data": {
            "text/html": [
              "<div>\n",
              "<style>\n",
              "    .dataframe thead tr:only-child th {\n",
              "        text-align: right;\n",
              "    }\n",
              "\n",
              "    .dataframe thead th {\n",
              "        text-align: left;\n",
              "    }\n",
              "\n",
              "    .dataframe tbody tr th {\n",
              "        vertical-align: top;\n",
              "    }\n",
              "</style>\n",
              "<table border=\"1\" class=\"dataframe\">\n",
              "  <thead>\n",
              "    <tr style=\"text-align: right;\">\n",
              "      <th></th>\n",
              "      <th>owner</th>\n",
              "      <th>hash</th>\n",
              "      <th>datetime</th>\n",
              "      <th>comment</th>\n",
              "      <th>full_hash</th>\n",
              "      <th>path</th>\n",
              "    </tr>\n",
              "  </thead>\n",
              "  <tbody>\n",
              "    <tr>\n",
              "      <th>0</th>\n",
              "      <td>xavier dupr\u00e9</td>\n",
              "      <td>73abe72</td>\n",
              "      <td>2017-08-20</td>\n",
              "      <td>requirements</td>\n",
              "      <td>73abe7261fbb107e3715a5c5635b44bdeb0791cb</td>\n",
              "      <td>https://github.com/sdpython/pyensae/commit/73a...</td>\n",
              "    </tr>\n",
              "    <tr>\n",
              "      <th>1</th>\n",
              "      <td>xavier dupr\u00e9</td>\n",
              "      <td>8015702</td>\n",
              "      <td>2017-08-20</td>\n",
              "      <td>update build</td>\n",
              "      <td>8015702264410ca54fb8f965217d6040b0017aea</td>\n",
              "      <td>https://github.com/sdpython/pyensae/commit/801...</td>\n",
              "    </tr>\n",
              "    <tr>\n",
              "      <th>2</th>\n",
              "      <td>xavier dupr\u00e9</td>\n",
              "      <td>1f03067</td>\n",
              "      <td>2017-08-20</td>\n",
              "      <td>requirements</td>\n",
              "      <td>1f03067de711d75312c15f4d8019cd97cfefb2a7</td>\n",
              "      <td>https://github.com/sdpython/pyensae/commit/1f0...</td>\n",
              "    </tr>\n",
              "    <tr>\n",
              "      <th>3</th>\n",
              "      <td>xavier dupr\u00e9</td>\n",
              "      <td>55b764c</td>\n",
              "      <td>2017-08-20</td>\n",
              "      <td>requirements</td>\n",
              "      <td>55b764cd5bfa74c7a3aaf99b57206401efa873b4</td>\n",
              "      <td>https://github.com/sdpython/pyensae/commit/55b...</td>\n",
              "    </tr>\n",
              "    <tr>\n",
              "      <th>4</th>\n",
              "      <td>xavier dupr\u00e9</td>\n",
              "      <td>df071f0</td>\n",
              "      <td>2017-08-20</td>\n",
              "      <td>circleci</td>\n",
              "      <td>df071f0bd0cfc5f6190723206716e946e91c0f83</td>\n",
              "      <td>https://github.com/sdpython/pyensae/commit/df0...</td>\n",
              "    </tr>\n",
              "  </tbody>\n",
              "</table>\n",
              "</div>"
            ],
            "text/plain": [
              "          owner     hash   datetime       comment  \\\n",
              "0  xavier dupr\u00e9  73abe72 2017-08-20  requirements   \n",
              "1  xavier dupr\u00e9  8015702 2017-08-20  update build   \n",
              "2  xavier dupr\u00e9  1f03067 2017-08-20  requirements   \n",
              "3  xavier dupr\u00e9  55b764c 2017-08-20  requirements   \n",
              "4  xavier dupr\u00e9  df071f0 2017-08-20      circleci   \n",
              "\n",
              "                                  full_hash  \\\n",
              "0  73abe7261fbb107e3715a5c5635b44bdeb0791cb   \n",
              "1  8015702264410ca54fb8f965217d6040b0017aea   \n",
              "2  1f03067de711d75312c15f4d8019cd97cfefb2a7   \n",
              "3  55b764cd5bfa74c7a3aaf99b57206401efa873b4   \n",
              "4  df071f0bd0cfc5f6190723206716e946e91c0f83   \n",
              "\n",
              "                                                path  \n",
              "0  https://github.com/sdpython/pyensae/commit/73a...  \n",
              "1  https://github.com/sdpython/pyensae/commit/801...  \n",
              "2  https://github.com/sdpython/pyensae/commit/1f0...  \n",
              "3  https://github.com/sdpython/pyensae/commit/55b...  \n",
              "4  https://github.com/sdpython/pyensae/commit/df0...  "
            ]
          },
          "execution_count": null,
          "metadata": {},
          "output_type": "execute_result"
        }
      ],
      "source": [
        "df = pandas.DataFrame(data=res, columns=\"owner hash datetime comment full_hash path\".split())\n",
        "df.head()"
      ]
    },
    {
      "cell_type": "code",
      "execution_count": null,
      "metadata": {},
      "outputs": [
        {
          "data": {
            "text/plain": [
              "('xavier dupr\u00e9',\n",
              " '73abe72',\n",
              " datetime.datetime(2017, 8, 20, 0, 0),\n",
              " 'requirements',\n",
              " '73abe7261fbb107e3715a5c5635b44bdeb0791cb',\n",
              " 'https://github.com/sdpython/pyensae/commit/73abe7261fbb107e3715a5c5635b44bdeb0791cb',\n",
              " ' requirements.txt ',\n",
              " 1,\n",
              " 0)"
            ]
          },
          "execution_count": null,
          "metadata": {},
          "output_type": "execute_result"
        }
      ],
      "source": [
        "res = get_repo_log(repo.repo.working_dir, file_detail=True)\n",
        "res[0]"
      ]
    },
    {
      "cell_type": "code",
      "execution_count": null,
      "metadata": {},
      "outputs": [
        {
          "data": {
            "text/html": [
              "<div>\n",
              "<style>\n",
              "    .dataframe thead tr:only-child th {\n",
              "        text-align: right;\n",
              "    }\n",
              "\n",
              "    .dataframe thead th {\n",
              "        text-align: left;\n",
              "    }\n",
              "\n",
              "    .dataframe tbody tr th {\n",
              "        vertical-align: top;\n",
              "    }\n",
              "</style>\n",
              "<table border=\"1\" class=\"dataframe\">\n",
              "  <thead>\n",
              "    <tr style=\"text-align: right;\">\n",
              "      <th></th>\n",
              "      <th>owner</th>\n",
              "      <th>hash</th>\n",
              "      <th>datetime</th>\n",
              "      <th>comment</th>\n",
              "      <th>full_hash</th>\n",
              "      <th>path</th>\n",
              "      <th>name</th>\n",
              "      <th>net</th>\n",
              "      <th>bytes</th>\n",
              "    </tr>\n",
              "  </thead>\n",
              "  <tbody>\n",
              "    <tr>\n",
              "      <th>0</th>\n",
              "      <td>xavier dupr\u00e9</td>\n",
              "      <td>73abe72</td>\n",
              "      <td>2017-08-20</td>\n",
              "      <td>requirements</td>\n",
              "      <td>73abe7261fbb107e3715a5c5635b44bdeb0791cb</td>\n",
              "      <td>https://github.com/sdpython/pyensae/commit/73a...</td>\n",
              "      <td>requirements.txt</td>\n",
              "      <td>1</td>\n",
              "      <td>0</td>\n",
              "    </tr>\n",
              "    <tr>\n",
              "      <th>1</th>\n",
              "      <td>xavier dupr\u00e9</td>\n",
              "      <td>8015702</td>\n",
              "      <td>2017-08-20</td>\n",
              "      <td>update build</td>\n",
              "      <td>8015702264410ca54fb8f965217d6040b0017aea</td>\n",
              "      <td>https://github.com/sdpython/pyensae/commit/801...</td>\n",
              "      <td>.circleci/config.yml                         ...</td>\n",
              "      <td>5</td>\n",
              "      <td>0</td>\n",
              "    </tr>\n",
              "    <tr>\n",
              "      <th>2</th>\n",
              "      <td>xavier dupr\u00e9</td>\n",
              "      <td>8015702</td>\n",
              "      <td>2017-08-20</td>\n",
              "      <td>update build</td>\n",
              "      <td>8015702264410ca54fb8f965217d6040b0017aea</td>\n",
              "      <td>https://github.com/sdpython/pyensae/commit/801...</td>\n",
              "      <td>_unittests/ut_documentation/test_run_notebook...</td>\n",
              "      <td>8</td>\n",
              "      <td>0</td>\n",
              "    </tr>\n",
              "    <tr>\n",
              "      <th>3</th>\n",
              "      <td>xavier dupr\u00e9</td>\n",
              "      <td>8015702</td>\n",
              "      <td>2017-08-20</td>\n",
              "      <td>update build</td>\n",
              "      <td>8015702264410ca54fb8f965217d6040b0017aea</td>\n",
              "      <td>https://github.com/sdpython/pyensae/commit/801...</td>\n",
              "      <td>requirements.txt                             ...</td>\n",
              "      <td>4</td>\n",
              "      <td>0</td>\n",
              "    </tr>\n",
              "    <tr>\n",
              "      <th>4</th>\n",
              "      <td>xavier dupr\u00e9</td>\n",
              "      <td>1f03067</td>\n",
              "      <td>2017-08-20</td>\n",
              "      <td>requirements</td>\n",
              "      <td>1f03067de711d75312c15f4d8019cd97cfefb2a7</td>\n",
              "      <td>https://github.com/sdpython/pyensae/commit/1f0...</td>\n",
              "      <td>requirements.txt</td>\n",
              "      <td>1</td>\n",
              "      <td>0</td>\n",
              "    </tr>\n",
              "  </tbody>\n",
              "</table>\n",
              "</div>"
            ],
            "text/plain": [
              "          owner     hash   datetime       comment  \\\n",
              "0  xavier dupr\u00e9  73abe72 2017-08-20  requirements   \n",
              "1  xavier dupr\u00e9  8015702 2017-08-20  update build   \n",
              "2  xavier dupr\u00e9  8015702 2017-08-20  update build   \n",
              "3  xavier dupr\u00e9  8015702 2017-08-20  update build   \n",
              "4  xavier dupr\u00e9  1f03067 2017-08-20  requirements   \n",
              "\n",
              "                                  full_hash  \\\n",
              "0  73abe7261fbb107e3715a5c5635b44bdeb0791cb   \n",
              "1  8015702264410ca54fb8f965217d6040b0017aea   \n",
              "2  8015702264410ca54fb8f965217d6040b0017aea   \n",
              "3  8015702264410ca54fb8f965217d6040b0017aea   \n",
              "4  1f03067de711d75312c15f4d8019cd97cfefb2a7   \n",
              "\n",
              "                                                path  \\\n",
              "0  https://github.com/sdpython/pyensae/commit/73a...   \n",
              "1  https://github.com/sdpython/pyensae/commit/801...   \n",
              "2  https://github.com/sdpython/pyensae/commit/801...   \n",
              "3  https://github.com/sdpython/pyensae/commit/801...   \n",
              "4  https://github.com/sdpython/pyensae/commit/1f0...   \n",
              "\n",
              "                                                name  net  bytes  \n",
              "0                                  requirements.txt     1      0  \n",
              "1   .circleci/config.yml                         ...    5      0  \n",
              "2   _unittests/ut_documentation/test_run_notebook...    8      0  \n",
              "3   requirements.txt                             ...    4      0  \n",
              "4                                  requirements.txt     1      0  "
            ]
          },
          "execution_count": null,
          "metadata": {},
          "output_type": "execute_result"
        }
      ],
      "source": [
        "df = pandas.DataFrame(data=res, columns=\"owner hash datetime comment full_hash path name net bytes\".split())\n",
        "df.head()"
      ]
    }
  ],
  "metadata": {
    "kernelspec": {
      "display_name": "Python 3",
      "language": "python",
      "name": "python3"
    },
    "language_info": {
      "codemirror_mode": {
        "name": "ipython",
        "version": 3
      },
      "file_extension": ".py",
      "mimetype": "text/x-python",
      "name": "python",
      "nbconvert_exporter": "python",
      "pygments_lexer": "ipython3",
      "version": "3.6.1"
    }
  },
  "nbformat": 4,
  "nbformat_minor": 2
}