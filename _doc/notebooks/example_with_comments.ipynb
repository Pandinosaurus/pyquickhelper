{
  "cells": [
    {
      "cell_type": "markdown",
      "metadata": {},
      "source": [
        "# example with comments"
      ]
    },
    {
      "cell_type": "markdown",
      "metadata": {},
      "source": [
        "This markdown contains a comment.\n",
        "\n",
        "[//]: # (RST: .. index:: comment, notebook, rst)\n",
        "\n",
        "It looks like this:"
      ]
    },
    {
      "cell_type": "code",
      "execution_count": 1,
      "metadata": {},
      "outputs": [],
      "source": [
        "# [//]: # (RST: .. index:: comment, notebook, rst)"
      ]
    },
    {
      "cell_type": "code",
      "execution_count": 2,
      "metadata": {},
      "outputs": [],
      "source": [
        "import pyquickhelper"
      ]
    },
    {
      "cell_type": "code",
      "execution_count": 3,
      "metadata": {
        "collapsed": true
      },
      "outputs": [],
      "source": []
    }
  ],
  "metadata": {
    "kernelspec": {
      "display_name": "Python 3",
      "language": "python",
      "name": "python3"
    },
    "language_info": {
      "codemirror_mode": {
        "name": "ipython",
        "version": 3
      },
      "file_extension": ".py",
      "mimetype": "text/x-python",
      "name": "python",
      "nbconvert_exporter": "python",
      "pygments_lexer": "ipython3",
      "version": "3.7.2"
    }
  },
  "nbformat": 4,
  "nbformat_minor": 1
}